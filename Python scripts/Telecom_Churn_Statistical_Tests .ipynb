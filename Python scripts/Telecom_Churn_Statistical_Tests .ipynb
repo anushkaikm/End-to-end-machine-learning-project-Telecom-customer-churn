{
  "cells": [
    {
      "cell_type": "code",
      "source": [
        "pip install --upgrade patsy"
      ],
      "metadata": {
        "id": "Gz6u93Forewu",
        "colab": {
          "base_uri": "https://localhost:8080/"
        },
        "outputId": "90037f45-92b8-4248-ff7f-d6c262c95169"
      },
      "execution_count": 1,
      "outputs": [
        {
          "output_type": "stream",
          "name": "stdout",
          "text": [
            "Looking in indexes: https://pypi.org/simple, https://us-python.pkg.dev/colab-wheels/public/simple/\n",
            "Requirement already satisfied: patsy in /usr/local/lib/python3.7/dist-packages (0.5.3)\n",
            "Requirement already satisfied: six in /usr/local/lib/python3.7/dist-packages (from patsy) (1.15.0)\n",
            "Requirement already satisfied: numpy>=1.4 in /usr/local/lib/python3.7/dist-packages (from patsy) (1.21.6)\n"
          ]
        }
      ],
      "id": "Gz6u93Forewu"
    },
    {
      "cell_type": "code",
      "execution_count": 2,
      "metadata": {
        "id": "e22dc931",
        "colab": {
          "base_uri": "https://localhost:8080/"
        },
        "outputId": "9fb0c5f3-f40d-4d5b-aeaa-d173e7b5645d"
      },
      "outputs": [
        {
          "output_type": "stream",
          "name": "stdout",
          "text": [
            "Looking in indexes: https://pypi.org/simple, https://us-python.pkg.dev/colab-wheels/public/simple/\n",
            "Requirement already satisfied: statsmodels in /usr/local/lib/python3.7/dist-packages (0.12.2)\n",
            "Collecting statsmodels\n",
            "  Downloading statsmodels-0.13.5-cp37-cp37m-manylinux_2_17_x86_64.manylinux2014_x86_64.whl (9.9 MB)\n",
            "\u001b[K     |████████████████████████████████| 9.9 MB 15.9 MB/s \n",
            "\u001b[?25hInstalling collected packages: statsmodels\n",
            "  Attempting uninstall: statsmodels\n",
            "    Found existing installation: statsmodels 0.12.2\n",
            "    Uninstalling statsmodels-0.12.2:\n",
            "      Successfully uninstalled statsmodels-0.12.2\n",
            "Successfully installed statsmodels-0.13.5\n"
          ]
        }
      ],
      "source": [
        "pip install --upgrade --no-deps statsmodels"
      ],
      "id": "e22dc931"
    },
    {
      "cell_type": "code",
      "source": [
        "pip install --upgrade scipy"
      ],
      "metadata": {
        "colab": {
          "base_uri": "https://localhost:8080/"
        },
        "id": "sx-meEzstWVz",
        "outputId": "56304286-ca61-443d-e778-64fcbe27d436"
      },
      "id": "sx-meEzstWVz",
      "execution_count": 3,
      "outputs": [
        {
          "output_type": "stream",
          "name": "stdout",
          "text": [
            "Looking in indexes: https://pypi.org/simple, https://us-python.pkg.dev/colab-wheels/public/simple/\n",
            "Requirement already satisfied: scipy in /usr/local/lib/python3.7/dist-packages (1.7.3)\n",
            "Requirement already satisfied: numpy<1.23.0,>=1.16.5 in /usr/local/lib/python3.7/dist-packages (from scipy) (1.21.6)\n"
          ]
        }
      ]
    },
    {
      "cell_type": "code",
      "source": [
        "\n",
        "#pip install --upgrade git+https://github.com/statsmodels/statsmodels"
      ],
      "metadata": {
        "id": "8bQdpRFhuumI"
      },
      "id": "8bQdpRFhuumI",
      "execution_count": 4,
      "outputs": []
    },
    {
      "cell_type": "code",
      "execution_count": 5,
      "id": "30ff6192",
      "metadata": {
        "id": "30ff6192"
      },
      "outputs": [],
      "source": [
        "import pandas as pd\n",
        "\n",
        " \n",
        "# merging two csv files\n",
        "df = pd.concat(\n",
        "    map(pd.read_csv, ['churn-bigml-20.csv', 'churn-bigml-80.csv']), ignore_index=True)"
      ]
    },
    {
      "cell_type": "code",
      "execution_count": 6,
      "id": "1aa2c953",
      "metadata": {
        "colab": {
          "base_uri": "https://localhost:8080/",
          "height": 305
        },
        "id": "1aa2c953",
        "outputId": "9b2d6c65-fc3d-4979-df01-2c34b07d6e27"
      },
      "outputs": [
        {
          "output_type": "execute_result",
          "data": {
            "text/plain": [
              "  State  Account length  Area code International plan Voice mail plan  \\\n",
              "0    LA             117        408                 No              No   \n",
              "1    IN              65        415                 No              No   \n",
              "2    NY             161        415                 No              No   \n",
              "3    SC             111        415                 No              No   \n",
              "4    HI              49        510                 No              No   \n",
              "\n",
              "   Number vmail messages  Total day minutes  Total day calls  \\\n",
              "0                      0              184.5               97   \n",
              "1                      0              129.1              137   \n",
              "2                      0              332.9               67   \n",
              "3                      0              110.4              103   \n",
              "4                      0              119.3              117   \n",
              "\n",
              "   Total day charge  Total eve minutes  Total eve calls  Total eve charge  \\\n",
              "0             31.37              351.6               80             29.89   \n",
              "1             21.95              228.5               83             19.42   \n",
              "2             56.59              317.8               97             27.01   \n",
              "3             18.77              137.3              102             11.67   \n",
              "4             20.28              215.1              109             18.28   \n",
              "\n",
              "   Total night minutes  Total night calls  Total night charge  \\\n",
              "0                215.8                 90                9.71   \n",
              "1                208.8                111                9.40   \n",
              "2                160.6                128                7.23   \n",
              "3                189.6                105                8.53   \n",
              "4                178.7                 90                8.04   \n",
              "\n",
              "   Total intl minutes  Total intl calls  Total intl charge  \\\n",
              "0                 8.7                 4               2.35   \n",
              "1                12.7                 6               3.43   \n",
              "2                 5.4                 9               1.46   \n",
              "3                 7.7                 6               2.08   \n",
              "4                11.1                 1               3.00   \n",
              "\n",
              "   Customer service calls  Churn  \n",
              "0                       1  False  \n",
              "1                       4   True  \n",
              "2                       4   True  \n",
              "3                       2  False  \n",
              "4                       1  False  "
            ],
            "text/html": [
              "\n",
              "  <div id=\"df-5a5ba13f-6e37-4152-a5d9-bea0cb34c04c\">\n",
              "    <div class=\"colab-df-container\">\n",
              "      <div>\n",
              "<style scoped>\n",
              "    .dataframe tbody tr th:only-of-type {\n",
              "        vertical-align: middle;\n",
              "    }\n",
              "\n",
              "    .dataframe tbody tr th {\n",
              "        vertical-align: top;\n",
              "    }\n",
              "\n",
              "    .dataframe thead th {\n",
              "        text-align: right;\n",
              "    }\n",
              "</style>\n",
              "<table border=\"1\" class=\"dataframe\">\n",
              "  <thead>\n",
              "    <tr style=\"text-align: right;\">\n",
              "      <th></th>\n",
              "      <th>State</th>\n",
              "      <th>Account length</th>\n",
              "      <th>Area code</th>\n",
              "      <th>International plan</th>\n",
              "      <th>Voice mail plan</th>\n",
              "      <th>Number vmail messages</th>\n",
              "      <th>Total day minutes</th>\n",
              "      <th>Total day calls</th>\n",
              "      <th>Total day charge</th>\n",
              "      <th>Total eve minutes</th>\n",
              "      <th>Total eve calls</th>\n",
              "      <th>Total eve charge</th>\n",
              "      <th>Total night minutes</th>\n",
              "      <th>Total night calls</th>\n",
              "      <th>Total night charge</th>\n",
              "      <th>Total intl minutes</th>\n",
              "      <th>Total intl calls</th>\n",
              "      <th>Total intl charge</th>\n",
              "      <th>Customer service calls</th>\n",
              "      <th>Churn</th>\n",
              "    </tr>\n",
              "  </thead>\n",
              "  <tbody>\n",
              "    <tr>\n",
              "      <th>0</th>\n",
              "      <td>LA</td>\n",
              "      <td>117</td>\n",
              "      <td>408</td>\n",
              "      <td>No</td>\n",
              "      <td>No</td>\n",
              "      <td>0</td>\n",
              "      <td>184.5</td>\n",
              "      <td>97</td>\n",
              "      <td>31.37</td>\n",
              "      <td>351.6</td>\n",
              "      <td>80</td>\n",
              "      <td>29.89</td>\n",
              "      <td>215.8</td>\n",
              "      <td>90</td>\n",
              "      <td>9.71</td>\n",
              "      <td>8.7</td>\n",
              "      <td>4</td>\n",
              "      <td>2.35</td>\n",
              "      <td>1</td>\n",
              "      <td>False</td>\n",
              "    </tr>\n",
              "    <tr>\n",
              "      <th>1</th>\n",
              "      <td>IN</td>\n",
              "      <td>65</td>\n",
              "      <td>415</td>\n",
              "      <td>No</td>\n",
              "      <td>No</td>\n",
              "      <td>0</td>\n",
              "      <td>129.1</td>\n",
              "      <td>137</td>\n",
              "      <td>21.95</td>\n",
              "      <td>228.5</td>\n",
              "      <td>83</td>\n",
              "      <td>19.42</td>\n",
              "      <td>208.8</td>\n",
              "      <td>111</td>\n",
              "      <td>9.40</td>\n",
              "      <td>12.7</td>\n",
              "      <td>6</td>\n",
              "      <td>3.43</td>\n",
              "      <td>4</td>\n",
              "      <td>True</td>\n",
              "    </tr>\n",
              "    <tr>\n",
              "      <th>2</th>\n",
              "      <td>NY</td>\n",
              "      <td>161</td>\n",
              "      <td>415</td>\n",
              "      <td>No</td>\n",
              "      <td>No</td>\n",
              "      <td>0</td>\n",
              "      <td>332.9</td>\n",
              "      <td>67</td>\n",
              "      <td>56.59</td>\n",
              "      <td>317.8</td>\n",
              "      <td>97</td>\n",
              "      <td>27.01</td>\n",
              "      <td>160.6</td>\n",
              "      <td>128</td>\n",
              "      <td>7.23</td>\n",
              "      <td>5.4</td>\n",
              "      <td>9</td>\n",
              "      <td>1.46</td>\n",
              "      <td>4</td>\n",
              "      <td>True</td>\n",
              "    </tr>\n",
              "    <tr>\n",
              "      <th>3</th>\n",
              "      <td>SC</td>\n",
              "      <td>111</td>\n",
              "      <td>415</td>\n",
              "      <td>No</td>\n",
              "      <td>No</td>\n",
              "      <td>0</td>\n",
              "      <td>110.4</td>\n",
              "      <td>103</td>\n",
              "      <td>18.77</td>\n",
              "      <td>137.3</td>\n",
              "      <td>102</td>\n",
              "      <td>11.67</td>\n",
              "      <td>189.6</td>\n",
              "      <td>105</td>\n",
              "      <td>8.53</td>\n",
              "      <td>7.7</td>\n",
              "      <td>6</td>\n",
              "      <td>2.08</td>\n",
              "      <td>2</td>\n",
              "      <td>False</td>\n",
              "    </tr>\n",
              "    <tr>\n",
              "      <th>4</th>\n",
              "      <td>HI</td>\n",
              "      <td>49</td>\n",
              "      <td>510</td>\n",
              "      <td>No</td>\n",
              "      <td>No</td>\n",
              "      <td>0</td>\n",
              "      <td>119.3</td>\n",
              "      <td>117</td>\n",
              "      <td>20.28</td>\n",
              "      <td>215.1</td>\n",
              "      <td>109</td>\n",
              "      <td>18.28</td>\n",
              "      <td>178.7</td>\n",
              "      <td>90</td>\n",
              "      <td>8.04</td>\n",
              "      <td>11.1</td>\n",
              "      <td>1</td>\n",
              "      <td>3.00</td>\n",
              "      <td>1</td>\n",
              "      <td>False</td>\n",
              "    </tr>\n",
              "  </tbody>\n",
              "</table>\n",
              "</div>\n",
              "      <button class=\"colab-df-convert\" onclick=\"convertToInteractive('df-5a5ba13f-6e37-4152-a5d9-bea0cb34c04c')\"\n",
              "              title=\"Convert this dataframe to an interactive table.\"\n",
              "              style=\"display:none;\">\n",
              "        \n",
              "  <svg xmlns=\"http://www.w3.org/2000/svg\" height=\"24px\"viewBox=\"0 0 24 24\"\n",
              "       width=\"24px\">\n",
              "    <path d=\"M0 0h24v24H0V0z\" fill=\"none\"/>\n",
              "    <path d=\"M18.56 5.44l.94 2.06.94-2.06 2.06-.94-2.06-.94-.94-2.06-.94 2.06-2.06.94zm-11 1L8.5 8.5l.94-2.06 2.06-.94-2.06-.94L8.5 2.5l-.94 2.06-2.06.94zm10 10l.94 2.06.94-2.06 2.06-.94-2.06-.94-.94-2.06-.94 2.06-2.06.94z\"/><path d=\"M17.41 7.96l-1.37-1.37c-.4-.4-.92-.59-1.43-.59-.52 0-1.04.2-1.43.59L10.3 9.45l-7.72 7.72c-.78.78-.78 2.05 0 2.83L4 21.41c.39.39.9.59 1.41.59.51 0 1.02-.2 1.41-.59l7.78-7.78 2.81-2.81c.8-.78.8-2.07 0-2.86zM5.41 20L4 18.59l7.72-7.72 1.47 1.35L5.41 20z\"/>\n",
              "  </svg>\n",
              "      </button>\n",
              "      \n",
              "  <style>\n",
              "    .colab-df-container {\n",
              "      display:flex;\n",
              "      flex-wrap:wrap;\n",
              "      gap: 12px;\n",
              "    }\n",
              "\n",
              "    .colab-df-convert {\n",
              "      background-color: #E8F0FE;\n",
              "      border: none;\n",
              "      border-radius: 50%;\n",
              "      cursor: pointer;\n",
              "      display: none;\n",
              "      fill: #1967D2;\n",
              "      height: 32px;\n",
              "      padding: 0 0 0 0;\n",
              "      width: 32px;\n",
              "    }\n",
              "\n",
              "    .colab-df-convert:hover {\n",
              "      background-color: #E2EBFA;\n",
              "      box-shadow: 0px 1px 2px rgba(60, 64, 67, 0.3), 0px 1px 3px 1px rgba(60, 64, 67, 0.15);\n",
              "      fill: #174EA6;\n",
              "    }\n",
              "\n",
              "    [theme=dark] .colab-df-convert {\n",
              "      background-color: #3B4455;\n",
              "      fill: #D2E3FC;\n",
              "    }\n",
              "\n",
              "    [theme=dark] .colab-df-convert:hover {\n",
              "      background-color: #434B5C;\n",
              "      box-shadow: 0px 1px 3px 1px rgba(0, 0, 0, 0.15);\n",
              "      filter: drop-shadow(0px 1px 2px rgba(0, 0, 0, 0.3));\n",
              "      fill: #FFFFFF;\n",
              "    }\n",
              "  </style>\n",
              "\n",
              "      <script>\n",
              "        const buttonEl =\n",
              "          document.querySelector('#df-5a5ba13f-6e37-4152-a5d9-bea0cb34c04c button.colab-df-convert');\n",
              "        buttonEl.style.display =\n",
              "          google.colab.kernel.accessAllowed ? 'block' : 'none';\n",
              "\n",
              "        async function convertToInteractive(key) {\n",
              "          const element = document.querySelector('#df-5a5ba13f-6e37-4152-a5d9-bea0cb34c04c');\n",
              "          const dataTable =\n",
              "            await google.colab.kernel.invokeFunction('convertToInteractive',\n",
              "                                                     [key], {});\n",
              "          if (!dataTable) return;\n",
              "\n",
              "          const docLinkHtml = 'Like what you see? Visit the ' +\n",
              "            '<a target=\"_blank\" href=https://colab.research.google.com/notebooks/data_table.ipynb>data table notebook</a>'\n",
              "            + ' to learn more about interactive tables.';\n",
              "          element.innerHTML = '';\n",
              "          dataTable['output_type'] = 'display_data';\n",
              "          await google.colab.output.renderOutput(dataTable, element);\n",
              "          const docLink = document.createElement('div');\n",
              "          docLink.innerHTML = docLinkHtml;\n",
              "          element.appendChild(docLink);\n",
              "        }\n",
              "      </script>\n",
              "    </div>\n",
              "  </div>\n",
              "  "
            ]
          },
          "metadata": {},
          "execution_count": 6
        }
      ],
      "source": [
        "df.head()"
      ]
    },
    {
      "cell_type": "code",
      "execution_count": 7,
      "id": "9418f4dc",
      "metadata": {
        "colab": {
          "base_uri": "https://localhost:8080/"
        },
        "id": "9418f4dc",
        "outputId": "fcbd0022-4282-43e8-aaa4-e7fe7e2dbca7"
      },
      "outputs": [
        {
          "output_type": "stream",
          "name": "stdout",
          "text": [
            "<class 'pandas.core.frame.DataFrame'>\n",
            "RangeIndex: 3333 entries, 0 to 3332\n",
            "Data columns (total 20 columns):\n",
            " #   Column                  Non-Null Count  Dtype  \n",
            "---  ------                  --------------  -----  \n",
            " 0   State                   3333 non-null   object \n",
            " 1   Account length          3333 non-null   int64  \n",
            " 2   Area code               3333 non-null   int64  \n",
            " 3   International plan      3333 non-null   object \n",
            " 4   Voice mail plan         3333 non-null   object \n",
            " 5   Number vmail messages   3333 non-null   int64  \n",
            " 6   Total day minutes       3333 non-null   float64\n",
            " 7   Total day calls         3333 non-null   int64  \n",
            " 8   Total day charge        3333 non-null   float64\n",
            " 9   Total eve minutes       3333 non-null   float64\n",
            " 10  Total eve calls         3333 non-null   int64  \n",
            " 11  Total eve charge        3333 non-null   float64\n",
            " 12  Total night minutes     3333 non-null   float64\n",
            " 13  Total night calls       3333 non-null   int64  \n",
            " 14  Total night charge      3333 non-null   float64\n",
            " 15  Total intl minutes      3333 non-null   float64\n",
            " 16  Total intl calls        3333 non-null   int64  \n",
            " 17  Total intl charge       3333 non-null   float64\n",
            " 18  Customer service calls  3333 non-null   int64  \n",
            " 19  Churn                   3333 non-null   bool   \n",
            "dtypes: bool(1), float64(8), int64(8), object(3)\n",
            "memory usage: 498.1+ KB\n"
          ]
        }
      ],
      "source": [
        "df.info()"
      ]
    },
    {
      "cell_type": "markdown",
      "id": "9736bfe0",
      "metadata": {
        "id": "9736bfe0"
      },
      "source": [
        "# T Test "
      ]
    },
    {
      "cell_type": "code",
      "execution_count": 8,
      "id": "45b6f0a1",
      "metadata": {
        "colab": {
          "base_uri": "https://localhost:8080/"
        },
        "id": "45b6f0a1",
        "outputId": "f523de94-6732-4da0-db12-ad8cba08b5b9"
      },
      "outputs": [
        {
          "output_type": "execute_result",
          "data": {
            "text/plain": [
              "3333"
            ]
          },
          "metadata": {},
          "execution_count": 8
        }
      ],
      "source": [
        "#Using Coln 17 for Single test\n",
        "len(df)"
      ]
    },
    {
      "cell_type": "code",
      "execution_count": 9,
      "id": "30c5e475",
      "metadata": {
        "colab": {
          "base_uri": "https://localhost:8080/"
        },
        "id": "30c5e475",
        "outputId": "3f896a03-10c9-41b0-f1e5-5470b9118329"
      },
      "outputs": [
        {
          "output_type": "stream",
          "name": "stdout",
          "text": [
            "0       2.35\n",
            "1       3.43\n",
            "2       1.46\n",
            "3       2.08\n",
            "4       3.00\n",
            "        ... \n",
            "3328    3.19\n",
            "3329    2.67\n",
            "3330    2.59\n",
            "3331    3.81\n",
            "3332    3.70\n",
            "Name: Total intl charge, Length: 3333, dtype: float64\n"
          ]
        }
      ],
      "source": [
        "print(df['Total intl charge'])"
      ]
    },
    {
      "cell_type": "code",
      "execution_count": 10,
      "id": "2bb694c2",
      "metadata": {
        "colab": {
          "base_uri": "https://localhost:8080/"
        },
        "id": "2bb694c2",
        "outputId": "2f908f7e-a712-476e-b50f-554410396662"
      },
      "outputs": [
        {
          "output_type": "stream",
          "name": "stdout",
          "text": [
            "2.7645814581458144\n"
          ]
        }
      ],
      "source": [
        "#Calculating Mean of Total Intl Charge\n",
        "# Total intl charge = intlCHG\n",
        "\n",
        "import numpy as np\n",
        "intlCHG_mean=np.mean(df['Total intl charge'])\n",
        "print(intlCHG_mean)"
      ]
    },
    {
      "cell_type": "code",
      "execution_count": 11,
      "id": "8a0d19b4",
      "metadata": {
        "colab": {
          "base_uri": "https://localhost:8080/"
        },
        "id": "8a0d19b4",
        "outputId": "19e778fb-cbb3-4a1d-d885-944fb4d51f2d"
      },
      "outputs": [
        {
          "output_type": "execute_result",
          "data": {
            "text/plain": [
              "0.7536595269805159"
            ]
          },
          "metadata": {},
          "execution_count": 11
        }
      ],
      "source": [
        "np.std(df['Total intl charge'])"
      ]
    },
    {
      "cell_type": "code",
      "execution_count": 12,
      "id": "fc5e9a57",
      "metadata": {
        "id": "fc5e9a57"
      },
      "outputs": [],
      "source": [
        "## Lets take sample\n",
        "\n",
        "sample_size=100\n",
        "intlCHG_sample=np.random.choice(df['Total intl charge'],sample_size)"
      ]
    },
    {
      "cell_type": "code",
      "execution_count": 13,
      "id": "5a665cef",
      "metadata": {
        "colab": {
          "base_uri": "https://localhost:8080/"
        },
        "id": "5a665cef",
        "outputId": "ef3092f3-0655-447b-8a33-b14d3983e302"
      },
      "outputs": [
        {
          "output_type": "execute_result",
          "data": {
            "text/plain": [
              "2.8788000000000005"
            ]
          },
          "metadata": {},
          "execution_count": 13
        }
      ],
      "source": [
        "np.mean(intlCHG_sample)"
      ]
    },
    {
      "cell_type": "code",
      "execution_count": 14,
      "id": "23063f9a",
      "metadata": {
        "id": "23063f9a"
      },
      "outputs": [],
      "source": [
        "from scipy.stats import ttest_1samp"
      ]
    },
    {
      "cell_type": "code",
      "execution_count": 15,
      "id": "e3b0d6da",
      "metadata": {
        "id": "e3b0d6da"
      },
      "outputs": [],
      "source": [
        "ttest,p_value=ttest_1samp(intlCHG_sample,intlCHG_mean)"
      ]
    },
    {
      "cell_type": "code",
      "execution_count": 16,
      "id": "198d1615",
      "metadata": {
        "colab": {
          "base_uri": "https://localhost:8080/"
        },
        "id": "198d1615",
        "outputId": "2dad80b8-13e3-4d26-d29b-8ad333199147"
      },
      "outputs": [
        {
          "output_type": "stream",
          "name": "stdout",
          "text": [
            "0.08303117532273768\n"
          ]
        }
      ],
      "source": [
        "print(p_value)"
      ]
    },
    {
      "cell_type": "code",
      "execution_count": 17,
      "id": "7813eea6",
      "metadata": {
        "colab": {
          "base_uri": "https://localhost:8080/"
        },
        "id": "7813eea6",
        "outputId": "fe61c9d7-25d6-4563-8de9-83b43722dd05"
      },
      "outputs": [
        {
          "output_type": "stream",
          "name": "stdout",
          "text": [
            "we are accepting null hypothesis\n"
          ]
        }
      ],
      "source": [
        "if p_value < 0.05:    # alpha value is 0.05 or 5%\n",
        "    print(\" we are rejecting null hypothesis\")\n",
        "else:\n",
        "    print(\"we are accepting null hypothesis\")"
      ]
    },
    {
      "cell_type": "markdown",
      "id": "e7f90e5e",
      "metadata": {
        "id": "e7f90e5e"
      },
      "source": [
        "## Two-sample T-test With Python\n",
        "The Independent Samples t Test or 2-sample t-test compares the means of two independent groups in order to determine whether there is statistical evidence that the associated population means are significantly different. The Independent Samples t Test is a parametric test. This test is also known as: Independent t Test"
      ]
    },
    {
      "cell_type": "code",
      "execution_count": 18,
      "id": "d212be7d",
      "metadata": {
        "colab": {
          "base_uri": "https://localhost:8080/"
        },
        "id": "d212be7d",
        "outputId": "a8ca2908-a26d-405c-f531-7e7e9cac66a3"
      },
      "outputs": [
        {
          "output_type": "stream",
          "name": "stdout",
          "text": [
            "30.56230723072307\n"
          ]
        }
      ],
      "source": [
        "#Total day Charge = TdatCHG\n",
        "\n",
        "TdatCHG_mean=np.mean(df['Total day charge'])\n",
        "print(TdatCHG_mean)"
      ]
    },
    {
      "cell_type": "code",
      "execution_count": 19,
      "id": "6ee55fd2",
      "metadata": {
        "colab": {
          "base_uri": "https://localhost:8080/"
        },
        "id": "6ee55fd2",
        "outputId": "c8d027a4-9998-4ff5-81af-5b02d587ac5b"
      },
      "outputs": [
        {
          "output_type": "stream",
          "name": "stderr",
          "text": [
            "/usr/local/lib/python3.7/dist-packages/numpy/core/fromnumeric.py:3724: RuntimeWarning: Degrees of freedom <= 0 for slice\n",
            "  **kwargs)\n",
            "/usr/local/lib/python3.7/dist-packages/numpy/core/_methods.py:254: RuntimeWarning: invalid value encountered in double_scalars\n",
            "  ret = ret.dtype.type(ret / rcount)\n"
          ]
        },
        {
          "output_type": "execute_result",
          "data": {
            "text/plain": [
              "nan"
            ]
          },
          "metadata": {},
          "execution_count": 19
        }
      ],
      "source": [
        "import scipy.stats as sp\n",
        "from scipy.stats import ttest_1samp\n",
        "\n",
        "ttest,p_value=sp.stats.ttest_ind(a=intlCHG_mean,b= TdatCHG_mean,equal_var=False)\n",
        "p_value"
      ]
    },
    {
      "cell_type": "code",
      "execution_count": 20,
      "id": "b48911d4",
      "metadata": {
        "colab": {
          "base_uri": "https://localhost:8080/"
        },
        "id": "b48911d4",
        "outputId": "cba6db9c-b3ef-48a3-8799-d386754f2300"
      },
      "outputs": [
        {
          "output_type": "stream",
          "name": "stdout",
          "text": [
            "we are accepting null hypothesis\n"
          ]
        }
      ],
      "source": [
        "if p_value < 0.05:    # alpha value is 0.05 or 5%\n",
        "    print(\"we are rejecting null hypothesis\")\n",
        "else:\n",
        "    print(\"we are accepting null hypothesis\")  #need to recheck on this as value has come nan value"
      ]
    },
    {
      "cell_type": "markdown",
      "id": "67fb794d",
      "metadata": {
        "id": "67fb794d"
      },
      "source": [
        "## Paired T-test With Python\n",
        "When you want to check how different samples from the same group are, you can go for a paired T-test"
      ]
    },
    {
      "cell_type": "code",
      "execution_count": 21,
      "id": "376dfb94",
      "metadata": {
        "id": "376dfb94"
      },
      "outputs": [],
      "source": [
        "import scipy.stats as stats\n",
        "_,p_value=stats.ttest_rel(a=df['Total day minutes'],b=df['Total eve minutes'])"
      ]
    },
    {
      "cell_type": "code",
      "execution_count": 22,
      "id": "4f9ecf21",
      "metadata": {
        "colab": {
          "base_uri": "https://localhost:8080/"
        },
        "id": "4f9ecf21",
        "outputId": "2a178a53-9d5a-42e9-88b1-ae043a66dd4f"
      },
      "outputs": [
        {
          "output_type": "stream",
          "name": "stdout",
          "text": [
            "6.609283611867655e-59\n"
          ]
        }
      ],
      "source": [
        "print(p_value)"
      ]
    },
    {
      "cell_type": "code",
      "execution_count": 23,
      "id": "23d1ca8f",
      "metadata": {
        "colab": {
          "base_uri": "https://localhost:8080/"
        },
        "id": "23d1ca8f",
        "outputId": "c47c54f5-efdb-4f21-841a-fbc5572a3ceb"
      },
      "outputs": [
        {
          "output_type": "stream",
          "name": "stdout",
          "text": [
            " we are rejecting null hypothesis\n"
          ]
        }
      ],
      "source": [
        "if p_value < 0.05:    # alpha value is 0.05 or 5%\n",
        "    print(\" we are rejecting null hypothesis\")\n",
        "else:\n",
        "    print(\"we are accepting null hypothesis\")\n"
      ]
    },
    {
      "cell_type": "markdown",
      "id": "8d790fc0",
      "metadata": {
        "id": "8d790fc0"
      },
      "source": [
        "## Correlation"
      ]
    },
    {
      "cell_type": "code",
      "execution_count": 24,
      "id": "bef9aab5",
      "metadata": {
        "id": "bef9aab5"
      },
      "outputs": [],
      "source": [
        "import seaborn as sns"
      ]
    },
    {
      "cell_type": "code",
      "execution_count": 25,
      "id": "443a0009",
      "metadata": {
        "scrolled": true,
        "colab": {
          "base_uri": "https://localhost:8080/"
        },
        "id": "443a0009",
        "outputId": "96f9c0de-90b4-4697-d74c-46753dca2a7e"
      },
      "outputs": [
        {
          "output_type": "execute_result",
          "data": {
            "text/plain": [
              "(3333, 20)"
            ]
          },
          "metadata": {},
          "execution_count": 25
        }
      ],
      "source": [
        "df.shape"
      ]
    },
    {
      "cell_type": "code",
      "execution_count": 26,
      "id": "1e64ce91",
      "metadata": {
        "colab": {
          "base_uri": "https://localhost:8080/"
        },
        "id": "1e64ce91",
        "outputId": "8f9ab649-508d-4b92-caf4-70c78e7d9f77"
      },
      "outputs": [
        {
          "output_type": "stream",
          "name": "stdout",
          "text": [
            "      Total day minutes  Total eve minutes  Total night minutes\n",
            "0                 184.5              351.6                215.8\n",
            "1                 129.1              228.5                208.8\n",
            "2                 332.9              317.8                160.6\n",
            "3                 110.4              137.3                189.6\n",
            "4                 119.3              215.1                178.7\n",
            "...                 ...                ...                  ...\n",
            "3328              134.7              189.7                221.4\n",
            "3329              156.2              215.5                279.1\n",
            "3330              231.1              153.4                191.3\n",
            "3331              180.8              288.8                191.9\n",
            "3332              234.4              265.9                241.4\n",
            "\n",
            "[3333 rows x 3 columns]\n"
          ]
        }
      ],
      "source": [
        "#Create new data set\n",
        "\n",
        "df2 = df[['Total day minutes', 'Total eve minutes', 'Total night minutes']].copy()      # Extract selected columns\n",
        "print(df2)                           # Print DataFrame subset"
      ]
    },
    {
      "cell_type": "code",
      "execution_count": 27,
      "id": "81dc6233",
      "metadata": {
        "colab": {
          "base_uri": "https://localhost:8080/",
          "height": 143
        },
        "id": "81dc6233",
        "outputId": "76f3f22d-1f76-4803-ce60-a6e1f77e7d9b"
      },
      "outputs": [
        {
          "output_type": "execute_result",
          "data": {
            "text/plain": [
              "                     Total day minutes  Total eve minutes  Total night minutes\n",
              "Total day minutes             1.000000           0.007043             0.004323\n",
              "Total eve minutes             0.007043           1.000000            -0.012584\n",
              "Total night minutes           0.004323          -0.012584             1.000000"
            ],
            "text/html": [
              "\n",
              "  <div id=\"df-fedb42da-4a4a-4095-b7a5-4cd2fdaa7f91\">\n",
              "    <div class=\"colab-df-container\">\n",
              "      <div>\n",
              "<style scoped>\n",
              "    .dataframe tbody tr th:only-of-type {\n",
              "        vertical-align: middle;\n",
              "    }\n",
              "\n",
              "    .dataframe tbody tr th {\n",
              "        vertical-align: top;\n",
              "    }\n",
              "\n",
              "    .dataframe thead th {\n",
              "        text-align: right;\n",
              "    }\n",
              "</style>\n",
              "<table border=\"1\" class=\"dataframe\">\n",
              "  <thead>\n",
              "    <tr style=\"text-align: right;\">\n",
              "      <th></th>\n",
              "      <th>Total day minutes</th>\n",
              "      <th>Total eve minutes</th>\n",
              "      <th>Total night minutes</th>\n",
              "    </tr>\n",
              "  </thead>\n",
              "  <tbody>\n",
              "    <tr>\n",
              "      <th>Total day minutes</th>\n",
              "      <td>1.000000</td>\n",
              "      <td>0.007043</td>\n",
              "      <td>0.004323</td>\n",
              "    </tr>\n",
              "    <tr>\n",
              "      <th>Total eve minutes</th>\n",
              "      <td>0.007043</td>\n",
              "      <td>1.000000</td>\n",
              "      <td>-0.012584</td>\n",
              "    </tr>\n",
              "    <tr>\n",
              "      <th>Total night minutes</th>\n",
              "      <td>0.004323</td>\n",
              "      <td>-0.012584</td>\n",
              "      <td>1.000000</td>\n",
              "    </tr>\n",
              "  </tbody>\n",
              "</table>\n",
              "</div>\n",
              "      <button class=\"colab-df-convert\" onclick=\"convertToInteractive('df-fedb42da-4a4a-4095-b7a5-4cd2fdaa7f91')\"\n",
              "              title=\"Convert this dataframe to an interactive table.\"\n",
              "              style=\"display:none;\">\n",
              "        \n",
              "  <svg xmlns=\"http://www.w3.org/2000/svg\" height=\"24px\"viewBox=\"0 0 24 24\"\n",
              "       width=\"24px\">\n",
              "    <path d=\"M0 0h24v24H0V0z\" fill=\"none\"/>\n",
              "    <path d=\"M18.56 5.44l.94 2.06.94-2.06 2.06-.94-2.06-.94-.94-2.06-.94 2.06-2.06.94zm-11 1L8.5 8.5l.94-2.06 2.06-.94-2.06-.94L8.5 2.5l-.94 2.06-2.06.94zm10 10l.94 2.06.94-2.06 2.06-.94-2.06-.94-.94-2.06-.94 2.06-2.06.94z\"/><path d=\"M17.41 7.96l-1.37-1.37c-.4-.4-.92-.59-1.43-.59-.52 0-1.04.2-1.43.59L10.3 9.45l-7.72 7.72c-.78.78-.78 2.05 0 2.83L4 21.41c.39.39.9.59 1.41.59.51 0 1.02-.2 1.41-.59l7.78-7.78 2.81-2.81c.8-.78.8-2.07 0-2.86zM5.41 20L4 18.59l7.72-7.72 1.47 1.35L5.41 20z\"/>\n",
              "  </svg>\n",
              "      </button>\n",
              "      \n",
              "  <style>\n",
              "    .colab-df-container {\n",
              "      display:flex;\n",
              "      flex-wrap:wrap;\n",
              "      gap: 12px;\n",
              "    }\n",
              "\n",
              "    .colab-df-convert {\n",
              "      background-color: #E8F0FE;\n",
              "      border: none;\n",
              "      border-radius: 50%;\n",
              "      cursor: pointer;\n",
              "      display: none;\n",
              "      fill: #1967D2;\n",
              "      height: 32px;\n",
              "      padding: 0 0 0 0;\n",
              "      width: 32px;\n",
              "    }\n",
              "\n",
              "    .colab-df-convert:hover {\n",
              "      background-color: #E2EBFA;\n",
              "      box-shadow: 0px 1px 2px rgba(60, 64, 67, 0.3), 0px 1px 3px 1px rgba(60, 64, 67, 0.15);\n",
              "      fill: #174EA6;\n",
              "    }\n",
              "\n",
              "    [theme=dark] .colab-df-convert {\n",
              "      background-color: #3B4455;\n",
              "      fill: #D2E3FC;\n",
              "    }\n",
              "\n",
              "    [theme=dark] .colab-df-convert:hover {\n",
              "      background-color: #434B5C;\n",
              "      box-shadow: 0px 1px 3px 1px rgba(0, 0, 0, 0.15);\n",
              "      filter: drop-shadow(0px 1px 2px rgba(0, 0, 0, 0.3));\n",
              "      fill: #FFFFFF;\n",
              "    }\n",
              "  </style>\n",
              "\n",
              "      <script>\n",
              "        const buttonEl =\n",
              "          document.querySelector('#df-fedb42da-4a4a-4095-b7a5-4cd2fdaa7f91 button.colab-df-convert');\n",
              "        buttonEl.style.display =\n",
              "          google.colab.kernel.accessAllowed ? 'block' : 'none';\n",
              "\n",
              "        async function convertToInteractive(key) {\n",
              "          const element = document.querySelector('#df-fedb42da-4a4a-4095-b7a5-4cd2fdaa7f91');\n",
              "          const dataTable =\n",
              "            await google.colab.kernel.invokeFunction('convertToInteractive',\n",
              "                                                     [key], {});\n",
              "          if (!dataTable) return;\n",
              "\n",
              "          const docLinkHtml = 'Like what you see? Visit the ' +\n",
              "            '<a target=\"_blank\" href=https://colab.research.google.com/notebooks/data_table.ipynb>data table notebook</a>'\n",
              "            + ' to learn more about interactive tables.';\n",
              "          element.innerHTML = '';\n",
              "          dataTable['output_type'] = 'display_data';\n",
              "          await google.colab.output.renderOutput(dataTable, element);\n",
              "          const docLink = document.createElement('div');\n",
              "          docLink.innerHTML = docLinkHtml;\n",
              "          element.appendChild(docLink);\n",
              "        }\n",
              "      </script>\n",
              "    </div>\n",
              "  </div>\n",
              "  "
            ]
          },
          "metadata": {},
          "execution_count": 27
        }
      ],
      "source": [
        "df2.corr()"
      ]
    },
    {
      "cell_type": "code",
      "execution_count": 28,
      "id": "3c8cb6e4",
      "metadata": {
        "colab": {
          "base_uri": "https://localhost:8080/",
          "height": 567
        },
        "id": "3c8cb6e4",
        "outputId": "ef09f999-8ccd-4c63-bf42-5d5318bcd0ef"
      },
      "outputs": [
        {
          "output_type": "execute_result",
          "data": {
            "text/plain": [
              "<seaborn.axisgrid.PairGrid at 0x7f5d8a7839d0>"
            ]
          },
          "metadata": {},
          "execution_count": 28
        },
        {
          "output_type": "display_data",
          "data": {
            "text/plain": [
              "<Figure size 540x540 with 12 Axes>"
            ],
            "image/png": "[encoded data removed]"
          },
          "metadata": {
            "needs_background": "light"
          }
        }
      ],
      "source": [
        "sns.pairplot(df2)"
      ]
    },
    {
      "cell_type": "markdown",
      "source": [
        "**Conclusion** : Since the correlation values between Total day minutes and Total eve minutes, Total day minutes and Total night minutes, Total eve minutes and Total night minutes is very low, there is no strong correlation between them and that is why the points are very scattered."
      ],
      "metadata": {
        "id": "9rMSTLWTiffS"
      },
      "id": "9rMSTLWTiffS"
    },
    {
      "cell_type": "code",
      "execution_count": 29,
      "id": "37334121",
      "metadata": {
        "colab": {
          "base_uri": "https://localhost:8080/",
          "height": 424
        },
        "id": "37334121",
        "outputId": "592ab928-b9cb-494b-80ba-e740f350c039"
      },
      "outputs": [
        {
          "output_type": "execute_result",
          "data": {
            "text/plain": [
              "      Total day minutes  Total eve minutes  Total night minutes\n",
              "0                 184.5              351.6                215.8\n",
              "1                 129.1              228.5                208.8\n",
              "2                 332.9              317.8                160.6\n",
              "3                 110.4              137.3                189.6\n",
              "4                 119.3              215.1                178.7\n",
              "...                 ...                ...                  ...\n",
              "3328              134.7              189.7                221.4\n",
              "3329              156.2              215.5                279.1\n",
              "3330              231.1              153.4                191.3\n",
              "3331              180.8              288.8                191.9\n",
              "3332              234.4              265.9                241.4\n",
              "\n",
              "[3333 rows x 3 columns]"
            ],
            "text/html": [
              "\n",
              "  <div id=\"df-c902b27a-5cd3-4330-9b70-1b631a6ad686\">\n",
              "    <div class=\"colab-df-container\">\n",
              "      <div>\n",
              "<style scoped>\n",
              "    .dataframe tbody tr th:only-of-type {\n",
              "        vertical-align: middle;\n",
              "    }\n",
              "\n",
              "    .dataframe tbody tr th {\n",
              "        vertical-align: top;\n",
              "    }\n",
              "\n",
              "    .dataframe thead th {\n",
              "        text-align: right;\n",
              "    }\n",
              "</style>\n",
              "<table border=\"1\" class=\"dataframe\">\n",
              "  <thead>\n",
              "    <tr style=\"text-align: right;\">\n",
              "      <th></th>\n",
              "      <th>Total day minutes</th>\n",
              "      <th>Total eve minutes</th>\n",
              "      <th>Total night minutes</th>\n",
              "    </tr>\n",
              "  </thead>\n",
              "  <tbody>\n",
              "    <tr>\n",
              "      <th>0</th>\n",
              "      <td>184.5</td>\n",
              "      <td>351.6</td>\n",
              "      <td>215.8</td>\n",
              "    </tr>\n",
              "    <tr>\n",
              "      <th>1</th>\n",
              "      <td>129.1</td>\n",
              "      <td>228.5</td>\n",
              "      <td>208.8</td>\n",
              "    </tr>\n",
              "    <tr>\n",
              "      <th>2</th>\n",
              "      <td>332.9</td>\n",
              "      <td>317.8</td>\n",
              "      <td>160.6</td>\n",
              "    </tr>\n",
              "    <tr>\n",
              "      <th>3</th>\n",
              "      <td>110.4</td>\n",
              "      <td>137.3</td>\n",
              "      <td>189.6</td>\n",
              "    </tr>\n",
              "    <tr>\n",
              "      <th>4</th>\n",
              "      <td>119.3</td>\n",
              "      <td>215.1</td>\n",
              "      <td>178.7</td>\n",
              "    </tr>\n",
              "    <tr>\n",
              "      <th>...</th>\n",
              "      <td>...</td>\n",
              "      <td>...</td>\n",
              "      <td>...</td>\n",
              "    </tr>\n",
              "    <tr>\n",
              "      <th>3328</th>\n",
              "      <td>134.7</td>\n",
              "      <td>189.7</td>\n",
              "      <td>221.4</td>\n",
              "    </tr>\n",
              "    <tr>\n",
              "      <th>3329</th>\n",
              "      <td>156.2</td>\n",
              "      <td>215.5</td>\n",
              "      <td>279.1</td>\n",
              "    </tr>\n",
              "    <tr>\n",
              "      <th>3330</th>\n",
              "      <td>231.1</td>\n",
              "      <td>153.4</td>\n",
              "      <td>191.3</td>\n",
              "    </tr>\n",
              "    <tr>\n",
              "      <th>3331</th>\n",
              "      <td>180.8</td>\n",
              "      <td>288.8</td>\n",
              "      <td>191.9</td>\n",
              "    </tr>\n",
              "    <tr>\n",
              "      <th>3332</th>\n",
              "      <td>234.4</td>\n",
              "      <td>265.9</td>\n",
              "      <td>241.4</td>\n",
              "    </tr>\n",
              "  </tbody>\n",
              "</table>\n",
              "<p>3333 rows × 3 columns</p>\n",
              "</div>\n",
              "      <button class=\"colab-df-convert\" onclick=\"convertToInteractive('df-c902b27a-5cd3-4330-9b70-1b631a6ad686')\"\n",
              "              title=\"Convert this dataframe to an interactive table.\"\n",
              "              style=\"display:none;\">\n",
              "        \n",
              "  <svg xmlns=\"http://www.w3.org/2000/svg\" height=\"24px\"viewBox=\"0 0 24 24\"\n",
              "       width=\"24px\">\n",
              "    <path d=\"M0 0h24v24H0V0z\" fill=\"none\"/>\n",
              "    <path d=\"M18.56 5.44l.94 2.06.94-2.06 2.06-.94-2.06-.94-.94-2.06-.94 2.06-2.06.94zm-11 1L8.5 8.5l.94-2.06 2.06-.94-2.06-.94L8.5 2.5l-.94 2.06-2.06.94zm10 10l.94 2.06.94-2.06 2.06-.94-2.06-.94-.94-2.06-.94 2.06-2.06.94z\"/><path d=\"M17.41 7.96l-1.37-1.37c-.4-.4-.92-.59-1.43-.59-.52 0-1.04.2-1.43.59L10.3 9.45l-7.72 7.72c-.78.78-.78 2.05 0 2.83L4 21.41c.39.39.9.59 1.41.59.51 0 1.02-.2 1.41-.59l7.78-7.78 2.81-2.81c.8-.78.8-2.07 0-2.86zM5.41 20L4 18.59l7.72-7.72 1.47 1.35L5.41 20z\"/>\n",
              "  </svg>\n",
              "      </button>\n",
              "      \n",
              "  <style>\n",
              "    .colab-df-container {\n",
              "      display:flex;\n",
              "      flex-wrap:wrap;\n",
              "      gap: 12px;\n",
              "    }\n",
              "\n",
              "    .colab-df-convert {\n",
              "      background-color: #E8F0FE;\n",
              "      border: none;\n",
              "      border-radius: 50%;\n",
              "      cursor: pointer;\n",
              "      display: none;\n",
              "      fill: #1967D2;\n",
              "      height: 32px;\n",
              "      padding: 0 0 0 0;\n",
              "      width: 32px;\n",
              "    }\n",
              "\n",
              "    .colab-df-convert:hover {\n",
              "      background-color: #E2EBFA;\n",
              "      box-shadow: 0px 1px 2px rgba(60, 64, 67, 0.3), 0px 1px 3px 1px rgba(60, 64, 67, 0.15);\n",
              "      fill: #174EA6;\n",
              "    }\n",
              "\n",
              "    [theme=dark] .colab-df-convert {\n",
              "      background-color: #3B4455;\n",
              "      fill: #D2E3FC;\n",
              "    }\n",
              "\n",
              "    [theme=dark] .colab-df-convert:hover {\n",
              "      background-color: #434B5C;\n",
              "      box-shadow: 0px 1px 3px 1px rgba(0, 0, 0, 0.15);\n",
              "      filter: drop-shadow(0px 1px 2px rgba(0, 0, 0, 0.3));\n",
              "      fill: #FFFFFF;\n",
              "    }\n",
              "  </style>\n",
              "\n",
              "      <script>\n",
              "        const buttonEl =\n",
              "          document.querySelector('#df-c902b27a-5cd3-4330-9b70-1b631a6ad686 button.colab-df-convert');\n",
              "        buttonEl.style.display =\n",
              "          google.colab.kernel.accessAllowed ? 'block' : 'none';\n",
              "\n",
              "        async function convertToInteractive(key) {\n",
              "          const element = document.querySelector('#df-c902b27a-5cd3-4330-9b70-1b631a6ad686');\n",
              "          const dataTable =\n",
              "            await google.colab.kernel.invokeFunction('convertToInteractive',\n",
              "                                                     [key], {});\n",
              "          if (!dataTable) return;\n",
              "\n",
              "          const docLinkHtml = 'Like what you see? Visit the ' +\n",
              "            '<a target=\"_blank\" href=https://colab.research.google.com/notebooks/data_table.ipynb>data table notebook</a>'\n",
              "            + ' to learn more about interactive tables.';\n",
              "          element.innerHTML = '';\n",
              "          dataTable['output_type'] = 'display_data';\n",
              "          await google.colab.output.renderOutput(dataTable, element);\n",
              "          const docLink = document.createElement('div');\n",
              "          docLink.innerHTML = docLinkHtml;\n",
              "          element.appendChild(docLink);\n",
              "        }\n",
              "      </script>\n",
              "    </div>\n",
              "  </div>\n",
              "  "
            ]
          },
          "metadata": {},
          "execution_count": 29
        }
      ],
      "source": [
        "df2"
      ]
    },
    {
      "cell_type": "markdown",
      "source": [
        "# Chi-Square Test"
      ],
      "metadata": {
        "id": "zhs0PG4wrxIx"
      },
      "id": "zhs0PG4wrxIx"
    },
    {
      "cell_type": "code",
      "execution_count": 30,
      "id": "586ed205",
      "metadata": {
        "colab": {
          "base_uri": "https://localhost:8080/",
          "height": 424
        },
        "id": "586ed205",
        "outputId": "96e43b4f-739f-4a9d-d174-bca80c124be9"
      },
      "outputs": [
        {
          "output_type": "execute_result",
          "data": {
            "text/plain": [
              "      Total day minutes  Total eve minutes  Total night minutes\n",
              "0                  3.08               5.86                 3.60\n",
              "1                  2.15               3.81                 3.48\n",
              "2                  5.55               5.30                 2.68\n",
              "3                  1.84               2.29                 3.16\n",
              "4                  1.99               3.58                 2.98\n",
              "...                 ...                ...                  ...\n",
              "3328               2.24               3.16                 3.69\n",
              "3329               2.60               3.59                 4.65\n",
              "3330               3.85               2.56                 3.19\n",
              "3331               3.01               4.81                 3.20\n",
              "3332               3.91               4.43                 4.02\n",
              "\n",
              "[3333 rows x 3 columns]"
            ],
            "text/html": [
              "\n",
              "  <div id=\"df-e69c754f-f1e5-49f6-9f05-a238f01cff23\">\n",
              "    <div class=\"colab-df-container\">\n",
              "      <div>\n",
              "<style scoped>\n",
              "    .dataframe tbody tr th:only-of-type {\n",
              "        vertical-align: middle;\n",
              "    }\n",
              "\n",
              "    .dataframe tbody tr th {\n",
              "        vertical-align: top;\n",
              "    }\n",
              "\n",
              "    .dataframe thead th {\n",
              "        text-align: right;\n",
              "    }\n",
              "</style>\n",
              "<table border=\"1\" class=\"dataframe\">\n",
              "  <thead>\n",
              "    <tr style=\"text-align: right;\">\n",
              "      <th></th>\n",
              "      <th>Total day minutes</th>\n",
              "      <th>Total eve minutes</th>\n",
              "      <th>Total night minutes</th>\n",
              "    </tr>\n",
              "  </thead>\n",
              "  <tbody>\n",
              "    <tr>\n",
              "      <th>0</th>\n",
              "      <td>3.08</td>\n",
              "      <td>5.86</td>\n",
              "      <td>3.60</td>\n",
              "    </tr>\n",
              "    <tr>\n",
              "      <th>1</th>\n",
              "      <td>2.15</td>\n",
              "      <td>3.81</td>\n",
              "      <td>3.48</td>\n",
              "    </tr>\n",
              "    <tr>\n",
              "      <th>2</th>\n",
              "      <td>5.55</td>\n",
              "      <td>5.30</td>\n",
              "      <td>2.68</td>\n",
              "    </tr>\n",
              "    <tr>\n",
              "      <th>3</th>\n",
              "      <td>1.84</td>\n",
              "      <td>2.29</td>\n",
              "      <td>3.16</td>\n",
              "    </tr>\n",
              "    <tr>\n",
              "      <th>4</th>\n",
              "      <td>1.99</td>\n",
              "      <td>3.58</td>\n",
              "      <td>2.98</td>\n",
              "    </tr>\n",
              "    <tr>\n",
              "      <th>...</th>\n",
              "      <td>...</td>\n",
              "      <td>...</td>\n",
              "      <td>...</td>\n",
              "    </tr>\n",
              "    <tr>\n",
              "      <th>3328</th>\n",
              "      <td>2.24</td>\n",
              "      <td>3.16</td>\n",
              "      <td>3.69</td>\n",
              "    </tr>\n",
              "    <tr>\n",
              "      <th>3329</th>\n",
              "      <td>2.60</td>\n",
              "      <td>3.59</td>\n",
              "      <td>4.65</td>\n",
              "    </tr>\n",
              "    <tr>\n",
              "      <th>3330</th>\n",
              "      <td>3.85</td>\n",
              "      <td>2.56</td>\n",
              "      <td>3.19</td>\n",
              "    </tr>\n",
              "    <tr>\n",
              "      <th>3331</th>\n",
              "      <td>3.01</td>\n",
              "      <td>4.81</td>\n",
              "      <td>3.20</td>\n",
              "    </tr>\n",
              "    <tr>\n",
              "      <th>3332</th>\n",
              "      <td>3.91</td>\n",
              "      <td>4.43</td>\n",
              "      <td>4.02</td>\n",
              "    </tr>\n",
              "  </tbody>\n",
              "</table>\n",
              "<p>3333 rows × 3 columns</p>\n",
              "</div>\n",
              "      <button class=\"colab-df-convert\" onclick=\"convertToInteractive('df-e69c754f-f1e5-49f6-9f05-a238f01cff23')\"\n",
              "              title=\"Convert this dataframe to an interactive table.\"\n",
              "              style=\"display:none;\">\n",
              "        \n",
              "  <svg xmlns=\"http://www.w3.org/2000/svg\" height=\"24px\"viewBox=\"0 0 24 24\"\n",
              "       width=\"24px\">\n",
              "    <path d=\"M0 0h24v24H0V0z\" fill=\"none\"/>\n",
              "    <path d=\"M18.56 5.44l.94 2.06.94-2.06 2.06-.94-2.06-.94-.94-2.06-.94 2.06-2.06.94zm-11 1L8.5 8.5l.94-2.06 2.06-.94-2.06-.94L8.5 2.5l-.94 2.06-2.06.94zm10 10l.94 2.06.94-2.06 2.06-.94-2.06-.94-.94-2.06-.94 2.06-2.06.94z\"/><path d=\"M17.41 7.96l-1.37-1.37c-.4-.4-.92-.59-1.43-.59-.52 0-1.04.2-1.43.59L10.3 9.45l-7.72 7.72c-.78.78-.78 2.05 0 2.83L4 21.41c.39.39.9.59 1.41.59.51 0 1.02-.2 1.41-.59l7.78-7.78 2.81-2.81c.8-.78.8-2.07 0-2.86zM5.41 20L4 18.59l7.72-7.72 1.47 1.35L5.41 20z\"/>\n",
              "  </svg>\n",
              "      </button>\n",
              "      \n",
              "  <style>\n",
              "    .colab-df-container {\n",
              "      display:flex;\n",
              "      flex-wrap:wrap;\n",
              "      gap: 12px;\n",
              "    }\n",
              "\n",
              "    .colab-df-convert {\n",
              "      background-color: #E8F0FE;\n",
              "      border: none;\n",
              "      border-radius: 50%;\n",
              "      cursor: pointer;\n",
              "      display: none;\n",
              "      fill: #1967D2;\n",
              "      height: 32px;\n",
              "      padding: 0 0 0 0;\n",
              "      width: 32px;\n",
              "    }\n",
              "\n",
              "    .colab-df-convert:hover {\n",
              "      background-color: #E2EBFA;\n",
              "      box-shadow: 0px 1px 2px rgba(60, 64, 67, 0.3), 0px 1px 3px 1px rgba(60, 64, 67, 0.15);\n",
              "      fill: #174EA6;\n",
              "    }\n",
              "\n",
              "    [theme=dark] .colab-df-convert {\n",
              "      background-color: #3B4455;\n",
              "      fill: #D2E3FC;\n",
              "    }\n",
              "\n",
              "    [theme=dark] .colab-df-convert:hover {\n",
              "      background-color: #434B5C;\n",
              "      box-shadow: 0px 1px 3px 1px rgba(0, 0, 0, 0.15);\n",
              "      filter: drop-shadow(0px 1px 2px rgba(0, 0, 0, 0.3));\n",
              "      fill: #FFFFFF;\n",
              "    }\n",
              "  </style>\n",
              "\n",
              "      <script>\n",
              "        const buttonEl =\n",
              "          document.querySelector('#df-e69c754f-f1e5-49f6-9f05-a238f01cff23 button.colab-df-convert');\n",
              "        buttonEl.style.display =\n",
              "          google.colab.kernel.accessAllowed ? 'block' : 'none';\n",
              "\n",
              "        async function convertToInteractive(key) {\n",
              "          const element = document.querySelector('#df-e69c754f-f1e5-49f6-9f05-a238f01cff23');\n",
              "          const dataTable =\n",
              "            await google.colab.kernel.invokeFunction('convertToInteractive',\n",
              "                                                     [key], {});\n",
              "          if (!dataTable) return;\n",
              "\n",
              "          const docLinkHtml = 'Like what you see? Visit the ' +\n",
              "            '<a target=\"_blank\" href=https://colab.research.google.com/notebooks/data_table.ipynb>data table notebook</a>'\n",
              "            + ' to learn more about interactive tables.';\n",
              "          element.innerHTML = '';\n",
              "          dataTable['output_type'] = 'display_data';\n",
              "          await google.colab.output.renderOutput(dataTable, element);\n",
              "          const docLink = document.createElement('div');\n",
              "          docLink.innerHTML = docLinkHtml;\n",
              "          element.appendChild(docLink);\n",
              "        }\n",
              "      </script>\n",
              "    </div>\n",
              "  </div>\n",
              "  "
            ]
          },
          "metadata": {},
          "execution_count": 30
        }
      ],
      "source": [
        "#Converting minutes into hours \n",
        "\n",
        "df2['Total day minutes'] = df2['Total day minutes'].div(60).round(2)\n",
        "df2['Total eve minutes'] = df2['Total eve minutes'].div(60).round(2)\n",
        "df2['Total night minutes'] = df2['Total night minutes'].div(60).round(2)\n",
        "\n",
        "df2"
      ]
    },
    {
      "cell_type": "code",
      "execution_count": 31,
      "id": "fe81d190",
      "metadata": {
        "colab": {
          "base_uri": "https://localhost:8080/",
          "height": 424
        },
        "id": "fe81d190",
        "outputId": "da725fe2-2cfd-499b-dde6-225db9735965"
      },
      "outputs": [
        {
          "output_type": "execute_result",
          "data": {
            "text/plain": [
              "      Total day minutes  Total eve minutes  Total night minutes  Total Time\n",
              "0                  3.08               5.86                 3.60       12.54\n",
              "1                  2.15               3.81                 3.48        9.44\n",
              "2                  5.55               5.30                 2.68       13.53\n",
              "3                  1.84               2.29                 3.16        7.29\n",
              "4                  1.99               3.58                 2.98        8.55\n",
              "...                 ...                ...                  ...         ...\n",
              "3328               2.24               3.16                 3.69        9.09\n",
              "3329               2.60               3.59                 4.65       10.84\n",
              "3330               3.85               2.56                 3.19        9.60\n",
              "3331               3.01               4.81                 3.20       11.02\n",
              "3332               3.91               4.43                 4.02       12.36\n",
              "\n",
              "[3333 rows x 4 columns]"
            ],
            "text/html": [
              "\n",
              "  <div id=\"df-931f2dbc-f9c4-47d1-a921-9d14b49bb3cb\">\n",
              "    <div class=\"colab-df-container\">\n",
              "      <div>\n",
              "<style scoped>\n",
              "    .dataframe tbody tr th:only-of-type {\n",
              "        vertical-align: middle;\n",
              "    }\n",
              "\n",
              "    .dataframe tbody tr th {\n",
              "        vertical-align: top;\n",
              "    }\n",
              "\n",
              "    .dataframe thead th {\n",
              "        text-align: right;\n",
              "    }\n",
              "</style>\n",
              "<table border=\"1\" class=\"dataframe\">\n",
              "  <thead>\n",
              "    <tr style=\"text-align: right;\">\n",
              "      <th></th>\n",
              "      <th>Total day minutes</th>\n",
              "      <th>Total eve minutes</th>\n",
              "      <th>Total night minutes</th>\n",
              "      <th>Total Time</th>\n",
              "    </tr>\n",
              "  </thead>\n",
              "  <tbody>\n",
              "    <tr>\n",
              "      <th>0</th>\n",
              "      <td>3.08</td>\n",
              "      <td>5.86</td>\n",
              "      <td>3.60</td>\n",
              "      <td>12.54</td>\n",
              "    </tr>\n",
              "    <tr>\n",
              "      <th>1</th>\n",
              "      <td>2.15</td>\n",
              "      <td>3.81</td>\n",
              "      <td>3.48</td>\n",
              "      <td>9.44</td>\n",
              "    </tr>\n",
              "    <tr>\n",
              "      <th>2</th>\n",
              "      <td>5.55</td>\n",
              "      <td>5.30</td>\n",
              "      <td>2.68</td>\n",
              "      <td>13.53</td>\n",
              "    </tr>\n",
              "    <tr>\n",
              "      <th>3</th>\n",
              "      <td>1.84</td>\n",
              "      <td>2.29</td>\n",
              "      <td>3.16</td>\n",
              "      <td>7.29</td>\n",
              "    </tr>\n",
              "    <tr>\n",
              "      <th>4</th>\n",
              "      <td>1.99</td>\n",
              "      <td>3.58</td>\n",
              "      <td>2.98</td>\n",
              "      <td>8.55</td>\n",
              "    </tr>\n",
              "    <tr>\n",
              "      <th>...</th>\n",
              "      <td>...</td>\n",
              "      <td>...</td>\n",
              "      <td>...</td>\n",
              "      <td>...</td>\n",
              "    </tr>\n",
              "    <tr>\n",
              "      <th>3328</th>\n",
              "      <td>2.24</td>\n",
              "      <td>3.16</td>\n",
              "      <td>3.69</td>\n",
              "      <td>9.09</td>\n",
              "    </tr>\n",
              "    <tr>\n",
              "      <th>3329</th>\n",
              "      <td>2.60</td>\n",
              "      <td>3.59</td>\n",
              "      <td>4.65</td>\n",
              "      <td>10.84</td>\n",
              "    </tr>\n",
              "    <tr>\n",
              "      <th>3330</th>\n",
              "      <td>3.85</td>\n",
              "      <td>2.56</td>\n",
              "      <td>3.19</td>\n",
              "      <td>9.60</td>\n",
              "    </tr>\n",
              "    <tr>\n",
              "      <th>3331</th>\n",
              "      <td>3.01</td>\n",
              "      <td>4.81</td>\n",
              "      <td>3.20</td>\n",
              "      <td>11.02</td>\n",
              "    </tr>\n",
              "    <tr>\n",
              "      <th>3332</th>\n",
              "      <td>3.91</td>\n",
              "      <td>4.43</td>\n",
              "      <td>4.02</td>\n",
              "      <td>12.36</td>\n",
              "    </tr>\n",
              "  </tbody>\n",
              "</table>\n",
              "<p>3333 rows × 4 columns</p>\n",
              "</div>\n",
              "      <button class=\"colab-df-convert\" onclick=\"convertToInteractive('df-931f2dbc-f9c4-47d1-a921-9d14b49bb3cb')\"\n",
              "              title=\"Convert this dataframe to an interactive table.\"\n",
              "              style=\"display:none;\">\n",
              "        \n",
              "  <svg xmlns=\"http://www.w3.org/2000/svg\" height=\"24px\"viewBox=\"0 0 24 24\"\n",
              "       width=\"24px\">\n",
              "    <path d=\"M0 0h24v24H0V0z\" fill=\"none\"/>\n",
              "    <path d=\"M18.56 5.44l.94 2.06.94-2.06 2.06-.94-2.06-.94-.94-2.06-.94 2.06-2.06.94zm-11 1L8.5 8.5l.94-2.06 2.06-.94-2.06-.94L8.5 2.5l-.94 2.06-2.06.94zm10 10l.94 2.06.94-2.06 2.06-.94-2.06-.94-.94-2.06-.94 2.06-2.06.94z\"/><path d=\"M17.41 7.96l-1.37-1.37c-.4-.4-.92-.59-1.43-.59-.52 0-1.04.2-1.43.59L10.3 9.45l-7.72 7.72c-.78.78-.78 2.05 0 2.83L4 21.41c.39.39.9.59 1.41.59.51 0 1.02-.2 1.41-.59l7.78-7.78 2.81-2.81c.8-.78.8-2.07 0-2.86zM5.41 20L4 18.59l7.72-7.72 1.47 1.35L5.41 20z\"/>\n",
              "  </svg>\n",
              "      </button>\n",
              "      \n",
              "  <style>\n",
              "    .colab-df-container {\n",
              "      display:flex;\n",
              "      flex-wrap:wrap;\n",
              "      gap: 12px;\n",
              "    }\n",
              "\n",
              "    .colab-df-convert {\n",
              "      background-color: #E8F0FE;\n",
              "      border: none;\n",
              "      border-radius: 50%;\n",
              "      cursor: pointer;\n",
              "      display: none;\n",
              "      fill: #1967D2;\n",
              "      height: 32px;\n",
              "      padding: 0 0 0 0;\n",
              "      width: 32px;\n",
              "    }\n",
              "\n",
              "    .colab-df-convert:hover {\n",
              "      background-color: #E2EBFA;\n",
              "      box-shadow: 0px 1px 2px rgba(60, 64, 67, 0.3), 0px 1px 3px 1px rgba(60, 64, 67, 0.15);\n",
              "      fill: #174EA6;\n",
              "    }\n",
              "\n",
              "    [theme=dark] .colab-df-convert {\n",
              "      background-color: #3B4455;\n",
              "      fill: #D2E3FC;\n",
              "    }\n",
              "\n",
              "    [theme=dark] .colab-df-convert:hover {\n",
              "      background-color: #434B5C;\n",
              "      box-shadow: 0px 1px 3px 1px rgba(0, 0, 0, 0.15);\n",
              "      filter: drop-shadow(0px 1px 2px rgba(0, 0, 0, 0.3));\n",
              "      fill: #FFFFFF;\n",
              "    }\n",
              "  </style>\n",
              "\n",
              "      <script>\n",
              "        const buttonEl =\n",
              "          document.querySelector('#df-931f2dbc-f9c4-47d1-a921-9d14b49bb3cb button.colab-df-convert');\n",
              "        buttonEl.style.display =\n",
              "          google.colab.kernel.accessAllowed ? 'block' : 'none';\n",
              "\n",
              "        async function convertToInteractive(key) {\n",
              "          const element = document.querySelector('#df-931f2dbc-f9c4-47d1-a921-9d14b49bb3cb');\n",
              "          const dataTable =\n",
              "            await google.colab.kernel.invokeFunction('convertToInteractive',\n",
              "                                                     [key], {});\n",
              "          if (!dataTable) return;\n",
              "\n",
              "          const docLinkHtml = 'Like what you see? Visit the ' +\n",
              "            '<a target=\"_blank\" href=https://colab.research.google.com/notebooks/data_table.ipynb>data table notebook</a>'\n",
              "            + ' to learn more about interactive tables.';\n",
              "          element.innerHTML = '';\n",
              "          dataTable['output_type'] = 'display_data';\n",
              "          await google.colab.output.renderOutput(dataTable, element);\n",
              "          const docLink = document.createElement('div');\n",
              "          docLink.innerHTML = docLinkHtml;\n",
              "          element.appendChild(docLink);\n",
              "        }\n",
              "      </script>\n",
              "    </div>\n",
              "  </div>\n",
              "  "
            ]
          },
          "metadata": {},
          "execution_count": 31
        }
      ],
      "source": [
        "df2['Total Time'] = df2['Total day minutes'] + df2['Total eve minutes'] + df2['Total night minutes']\n",
        "df2"
      ]
    },
    {
      "cell_type": "code",
      "execution_count": 32,
      "id": "cd763a45",
      "metadata": {
        "id": "cd763a45"
      },
      "outputs": [],
      "source": [
        "#Inserting Churn Columnn from orignal dataset\n",
        "df2.insert(1, value=df['Churn'], column='Churn') "
      ]
    },
    {
      "cell_type": "code",
      "execution_count": 33,
      "id": "b6decb66",
      "metadata": {
        "colab": {
          "base_uri": "https://localhost:8080/",
          "height": 424
        },
        "id": "b6decb66",
        "outputId": "b7d99427-fda5-460d-d8e5-bc9bd4283982"
      },
      "outputs": [
        {
          "output_type": "execute_result",
          "data": {
            "text/plain": [
              "      Total day minutes  Churn  Total eve minutes  Total night minutes  \\\n",
              "0                  3.08  False               5.86                 3.60   \n",
              "1                  2.15   True               3.81                 3.48   \n",
              "2                  5.55   True               5.30                 2.68   \n",
              "3                  1.84  False               2.29                 3.16   \n",
              "4                  1.99  False               3.58                 2.98   \n",
              "...                 ...    ...                ...                  ...   \n",
              "3328               2.24  False               3.16                 3.69   \n",
              "3329               2.60  False               3.59                 4.65   \n",
              "3330               3.85  False               2.56                 3.19   \n",
              "3331               3.01  False               4.81                 3.20   \n",
              "3332               3.91  False               4.43                 4.02   \n",
              "\n",
              "      Total Time  \n",
              "0          12.54  \n",
              "1           9.44  \n",
              "2          13.53  \n",
              "3           7.29  \n",
              "4           8.55  \n",
              "...          ...  \n",
              "3328        9.09  \n",
              "3329       10.84  \n",
              "3330        9.60  \n",
              "3331       11.02  \n",
              "3332       12.36  \n",
              "\n",
              "[3333 rows x 5 columns]"
            ],
            "text/html": [
              "\n",
              "  <div id=\"df-6942055f-1291-4458-8e18-d30af85ce2fb\">\n",
              "    <div class=\"colab-df-container\">\n",
              "      <div>\n",
              "<style scoped>\n",
              "    .dataframe tbody tr th:only-of-type {\n",
              "        vertical-align: middle;\n",
              "    }\n",
              "\n",
              "    .dataframe tbody tr th {\n",
              "        vertical-align: top;\n",
              "    }\n",
              "\n",
              "    .dataframe thead th {\n",
              "        text-align: right;\n",
              "    }\n",
              "</style>\n",
              "<table border=\"1\" class=\"dataframe\">\n",
              "  <thead>\n",
              "    <tr style=\"text-align: right;\">\n",
              "      <th></th>\n",
              "      <th>Total day minutes</th>\n",
              "      <th>Churn</th>\n",
              "      <th>Total eve minutes</th>\n",
              "      <th>Total night minutes</th>\n",
              "      <th>Total Time</th>\n",
              "    </tr>\n",
              "  </thead>\n",
              "  <tbody>\n",
              "    <tr>\n",
              "      <th>0</th>\n",
              "      <td>3.08</td>\n",
              "      <td>False</td>\n",
              "      <td>5.86</td>\n",
              "      <td>3.60</td>\n",
              "      <td>12.54</td>\n",
              "    </tr>\n",
              "    <tr>\n",
              "      <th>1</th>\n",
              "      <td>2.15</td>\n",
              "      <td>True</td>\n",
              "      <td>3.81</td>\n",
              "      <td>3.48</td>\n",
              "      <td>9.44</td>\n",
              "    </tr>\n",
              "    <tr>\n",
              "      <th>2</th>\n",
              "      <td>5.55</td>\n",
              "      <td>True</td>\n",
              "      <td>5.30</td>\n",
              "      <td>2.68</td>\n",
              "      <td>13.53</td>\n",
              "    </tr>\n",
              "    <tr>\n",
              "      <th>3</th>\n",
              "      <td>1.84</td>\n",
              "      <td>False</td>\n",
              "      <td>2.29</td>\n",
              "      <td>3.16</td>\n",
              "      <td>7.29</td>\n",
              "    </tr>\n",
              "    <tr>\n",
              "      <th>4</th>\n",
              "      <td>1.99</td>\n",
              "      <td>False</td>\n",
              "      <td>3.58</td>\n",
              "      <td>2.98</td>\n",
              "      <td>8.55</td>\n",
              "    </tr>\n",
              "    <tr>\n",
              "      <th>...</th>\n",
              "      <td>...</td>\n",
              "      <td>...</td>\n",
              "      <td>...</td>\n",
              "      <td>...</td>\n",
              "      <td>...</td>\n",
              "    </tr>\n",
              "    <tr>\n",
              "      <th>3328</th>\n",
              "      <td>2.24</td>\n",
              "      <td>False</td>\n",
              "      <td>3.16</td>\n",
              "      <td>3.69</td>\n",
              "      <td>9.09</td>\n",
              "    </tr>\n",
              "    <tr>\n",
              "      <th>3329</th>\n",
              "      <td>2.60</td>\n",
              "      <td>False</td>\n",
              "      <td>3.59</td>\n",
              "      <td>4.65</td>\n",
              "      <td>10.84</td>\n",
              "    </tr>\n",
              "    <tr>\n",
              "      <th>3330</th>\n",
              "      <td>3.85</td>\n",
              "      <td>False</td>\n",
              "      <td>2.56</td>\n",
              "      <td>3.19</td>\n",
              "      <td>9.60</td>\n",
              "    </tr>\n",
              "    <tr>\n",
              "      <th>3331</th>\n",
              "      <td>3.01</td>\n",
              "      <td>False</td>\n",
              "      <td>4.81</td>\n",
              "      <td>3.20</td>\n",
              "      <td>11.02</td>\n",
              "    </tr>\n",
              "    <tr>\n",
              "      <th>3332</th>\n",
              "      <td>3.91</td>\n",
              "      <td>False</td>\n",
              "      <td>4.43</td>\n",
              "      <td>4.02</td>\n",
              "      <td>12.36</td>\n",
              "    </tr>\n",
              "  </tbody>\n",
              "</table>\n",
              "<p>3333 rows × 5 columns</p>\n",
              "</div>\n",
              "      <button class=\"colab-df-convert\" onclick=\"convertToInteractive('df-6942055f-1291-4458-8e18-d30af85ce2fb')\"\n",
              "              title=\"Convert this dataframe to an interactive table.\"\n",
              "              style=\"display:none;\">\n",
              "        \n",
              "  <svg xmlns=\"http://www.w3.org/2000/svg\" height=\"24px\"viewBox=\"0 0 24 24\"\n",
              "       width=\"24px\">\n",
              "    <path d=\"M0 0h24v24H0V0z\" fill=\"none\"/>\n",
              "    <path d=\"M18.56 5.44l.94 2.06.94-2.06 2.06-.94-2.06-.94-.94-2.06-.94 2.06-2.06.94zm-11 1L8.5 8.5l.94-2.06 2.06-.94-2.06-.94L8.5 2.5l-.94 2.06-2.06.94zm10 10l.94 2.06.94-2.06 2.06-.94-2.06-.94-.94-2.06-.94 2.06-2.06.94z\"/><path d=\"M17.41 7.96l-1.37-1.37c-.4-.4-.92-.59-1.43-.59-.52 0-1.04.2-1.43.59L10.3 9.45l-7.72 7.72c-.78.78-.78 2.05 0 2.83L4 21.41c.39.39.9.59 1.41.59.51 0 1.02-.2 1.41-.59l7.78-7.78 2.81-2.81c.8-.78.8-2.07 0-2.86zM5.41 20L4 18.59l7.72-7.72 1.47 1.35L5.41 20z\"/>\n",
              "  </svg>\n",
              "      </button>\n",
              "      \n",
              "  <style>\n",
              "    .colab-df-container {\n",
              "      display:flex;\n",
              "      flex-wrap:wrap;\n",
              "      gap: 12px;\n",
              "    }\n",
              "\n",
              "    .colab-df-convert {\n",
              "      background-color: #E8F0FE;\n",
              "      border: none;\n",
              "      border-radius: 50%;\n",
              "      cursor: pointer;\n",
              "      display: none;\n",
              "      fill: #1967D2;\n",
              "      height: 32px;\n",
              "      padding: 0 0 0 0;\n",
              "      width: 32px;\n",
              "    }\n",
              "\n",
              "    .colab-df-convert:hover {\n",
              "      background-color: #E2EBFA;\n",
              "      box-shadow: 0px 1px 2px rgba(60, 64, 67, 0.3), 0px 1px 3px 1px rgba(60, 64, 67, 0.15);\n",
              "      fill: #174EA6;\n",
              "    }\n",
              "\n",
              "    [theme=dark] .colab-df-convert {\n",
              "      background-color: #3B4455;\n",
              "      fill: #D2E3FC;\n",
              "    }\n",
              "\n",
              "    [theme=dark] .colab-df-convert:hover {\n",
              "      background-color: #434B5C;\n",
              "      box-shadow: 0px 1px 3px 1px rgba(0, 0, 0, 0.15);\n",
              "      filter: drop-shadow(0px 1px 2px rgba(0, 0, 0, 0.3));\n",
              "      fill: #FFFFFF;\n",
              "    }\n",
              "  </style>\n",
              "\n",
              "      <script>\n",
              "        const buttonEl =\n",
              "          document.querySelector('#df-6942055f-1291-4458-8e18-d30af85ce2fb button.colab-df-convert');\n",
              "        buttonEl.style.display =\n",
              "          google.colab.kernel.accessAllowed ? 'block' : 'none';\n",
              "\n",
              "        async function convertToInteractive(key) {\n",
              "          const element = document.querySelector('#df-6942055f-1291-4458-8e18-d30af85ce2fb');\n",
              "          const dataTable =\n",
              "            await google.colab.kernel.invokeFunction('convertToInteractive',\n",
              "                                                     [key], {});\n",
              "          if (!dataTable) return;\n",
              "\n",
              "          const docLinkHtml = 'Like what you see? Visit the ' +\n",
              "            '<a target=\"_blank\" href=https://colab.research.google.com/notebooks/data_table.ipynb>data table notebook</a>'\n",
              "            + ' to learn more about interactive tables.';\n",
              "          element.innerHTML = '';\n",
              "          dataTable['output_type'] = 'display_data';\n",
              "          await google.colab.output.renderOutput(dataTable, element);\n",
              "          const docLink = document.createElement('div');\n",
              "          docLink.innerHTML = docLinkHtml;\n",
              "          element.appendChild(docLink);\n",
              "        }\n",
              "      </script>\n",
              "    </div>\n",
              "  </div>\n",
              "  "
            ]
          },
          "metadata": {},
          "execution_count": 33
        }
      ],
      "source": [
        "df2"
      ]
    },
    {
      "cell_type": "code",
      "execution_count": 34,
      "id": "229d14e9",
      "metadata": {
        "colab": {
          "base_uri": "https://localhost:8080/"
        },
        "id": "229d14e9",
        "outputId": "e25c4841-556d-44a6-a0e3-71e8bd79c998"
      },
      "outputs": [
        {
          "output_type": "execute_result",
          "data": {
            "text/plain": [
              "['Total day minutes',\n",
              " 'Churn',\n",
              " 'Total eve minutes',\n",
              " 'Total night minutes',\n",
              " 'Total Time']"
            ]
          },
          "metadata": {},
          "execution_count": 34
        }
      ],
      "source": [
        "cols = list(df2.columns.values)\n",
        "cols"
      ]
    },
    {
      "cell_type": "code",
      "execution_count": 35,
      "id": "a6de55b9",
      "metadata": {
        "colab": {
          "base_uri": "https://localhost:8080/",
          "height": 424
        },
        "id": "a6de55b9",
        "outputId": "e141008f-d314-4369-895e-218eb8b934f9"
      },
      "outputs": [
        {
          "output_type": "execute_result",
          "data": {
            "text/plain": [
              "      Churn  Total day minutes  Total eve minutes  Total night minutes  \\\n",
              "0     False               3.08               5.86                 3.60   \n",
              "1      True               2.15               3.81                 3.48   \n",
              "2      True               5.55               5.30                 2.68   \n",
              "3     False               1.84               2.29                 3.16   \n",
              "4     False               1.99               3.58                 2.98   \n",
              "...     ...                ...                ...                  ...   \n",
              "3328  False               2.24               3.16                 3.69   \n",
              "3329  False               2.60               3.59                 4.65   \n",
              "3330  False               3.85               2.56                 3.19   \n",
              "3331  False               3.01               4.81                 3.20   \n",
              "3332  False               3.91               4.43                 4.02   \n",
              "\n",
              "      Total Time  \n",
              "0          12.54  \n",
              "1           9.44  \n",
              "2          13.53  \n",
              "3           7.29  \n",
              "4           8.55  \n",
              "...          ...  \n",
              "3328        9.09  \n",
              "3329       10.84  \n",
              "3330        9.60  \n",
              "3331       11.02  \n",
              "3332       12.36  \n",
              "\n",
              "[3333 rows x 5 columns]"
            ],
            "text/html": [
              "\n",
              "  <div id=\"df-ed24303e-6f3f-425d-8669-e58daa182195\">\n",
              "    <div class=\"colab-df-container\">\n",
              "      <div>\n",
              "<style scoped>\n",
              "    .dataframe tbody tr th:only-of-type {\n",
              "        vertical-align: middle;\n",
              "    }\n",
              "\n",
              "    .dataframe tbody tr th {\n",
              "        vertical-align: top;\n",
              "    }\n",
              "\n",
              "    .dataframe thead th {\n",
              "        text-align: right;\n",
              "    }\n",
              "</style>\n",
              "<table border=\"1\" class=\"dataframe\">\n",
              "  <thead>\n",
              "    <tr style=\"text-align: right;\">\n",
              "      <th></th>\n",
              "      <th>Churn</th>\n",
              "      <th>Total day minutes</th>\n",
              "      <th>Total eve minutes</th>\n",
              "      <th>Total night minutes</th>\n",
              "      <th>Total Time</th>\n",
              "    </tr>\n",
              "  </thead>\n",
              "  <tbody>\n",
              "    <tr>\n",
              "      <th>0</th>\n",
              "      <td>False</td>\n",
              "      <td>3.08</td>\n",
              "      <td>5.86</td>\n",
              "      <td>3.60</td>\n",
              "      <td>12.54</td>\n",
              "    </tr>\n",
              "    <tr>\n",
              "      <th>1</th>\n",
              "      <td>True</td>\n",
              "      <td>2.15</td>\n",
              "      <td>3.81</td>\n",
              "      <td>3.48</td>\n",
              "      <td>9.44</td>\n",
              "    </tr>\n",
              "    <tr>\n",
              "      <th>2</th>\n",
              "      <td>True</td>\n",
              "      <td>5.55</td>\n",
              "      <td>5.30</td>\n",
              "      <td>2.68</td>\n",
              "      <td>13.53</td>\n",
              "    </tr>\n",
              "    <tr>\n",
              "      <th>3</th>\n",
              "      <td>False</td>\n",
              "      <td>1.84</td>\n",
              "      <td>2.29</td>\n",
              "      <td>3.16</td>\n",
              "      <td>7.29</td>\n",
              "    </tr>\n",
              "    <tr>\n",
              "      <th>4</th>\n",
              "      <td>False</td>\n",
              "      <td>1.99</td>\n",
              "      <td>3.58</td>\n",
              "      <td>2.98</td>\n",
              "      <td>8.55</td>\n",
              "    </tr>\n",
              "    <tr>\n",
              "      <th>...</th>\n",
              "      <td>...</td>\n",
              "      <td>...</td>\n",
              "      <td>...</td>\n",
              "      <td>...</td>\n",
              "      <td>...</td>\n",
              "    </tr>\n",
              "    <tr>\n",
              "      <th>3328</th>\n",
              "      <td>False</td>\n",
              "      <td>2.24</td>\n",
              "      <td>3.16</td>\n",
              "      <td>3.69</td>\n",
              "      <td>9.09</td>\n",
              "    </tr>\n",
              "    <tr>\n",
              "      <th>3329</th>\n",
              "      <td>False</td>\n",
              "      <td>2.60</td>\n",
              "      <td>3.59</td>\n",
              "      <td>4.65</td>\n",
              "      <td>10.84</td>\n",
              "    </tr>\n",
              "    <tr>\n",
              "      <th>3330</th>\n",
              "      <td>False</td>\n",
              "      <td>3.85</td>\n",
              "      <td>2.56</td>\n",
              "      <td>3.19</td>\n",
              "      <td>9.60</td>\n",
              "    </tr>\n",
              "    <tr>\n",
              "      <th>3331</th>\n",
              "      <td>False</td>\n",
              "      <td>3.01</td>\n",
              "      <td>4.81</td>\n",
              "      <td>3.20</td>\n",
              "      <td>11.02</td>\n",
              "    </tr>\n",
              "    <tr>\n",
              "      <th>3332</th>\n",
              "      <td>False</td>\n",
              "      <td>3.91</td>\n",
              "      <td>4.43</td>\n",
              "      <td>4.02</td>\n",
              "      <td>12.36</td>\n",
              "    </tr>\n",
              "  </tbody>\n",
              "</table>\n",
              "<p>3333 rows × 5 columns</p>\n",
              "</div>\n",
              "      <button class=\"colab-df-convert\" onclick=\"convertToInteractive('df-ed24303e-6f3f-425d-8669-e58daa182195')\"\n",
              "              title=\"Convert this dataframe to an interactive table.\"\n",
              "              style=\"display:none;\">\n",
              "        \n",
              "  <svg xmlns=\"http://www.w3.org/2000/svg\" height=\"24px\"viewBox=\"0 0 24 24\"\n",
              "       width=\"24px\">\n",
              "    <path d=\"M0 0h24v24H0V0z\" fill=\"none\"/>\n",
              "    <path d=\"M18.56 5.44l.94 2.06.94-2.06 2.06-.94-2.06-.94-.94-2.06-.94 2.06-2.06.94zm-11 1L8.5 8.5l.94-2.06 2.06-.94-2.06-.94L8.5 2.5l-.94 2.06-2.06.94zm10 10l.94 2.06.94-2.06 2.06-.94-2.06-.94-.94-2.06-.94 2.06-2.06.94z\"/><path d=\"M17.41 7.96l-1.37-1.37c-.4-.4-.92-.59-1.43-.59-.52 0-1.04.2-1.43.59L10.3 9.45l-7.72 7.72c-.78.78-.78 2.05 0 2.83L4 21.41c.39.39.9.59 1.41.59.51 0 1.02-.2 1.41-.59l7.78-7.78 2.81-2.81c.8-.78.8-2.07 0-2.86zM5.41 20L4 18.59l7.72-7.72 1.47 1.35L5.41 20z\"/>\n",
              "  </svg>\n",
              "      </button>\n",
              "      \n",
              "  <style>\n",
              "    .colab-df-container {\n",
              "      display:flex;\n",
              "      flex-wrap:wrap;\n",
              "      gap: 12px;\n",
              "    }\n",
              "\n",
              "    .colab-df-convert {\n",
              "      background-color: #E8F0FE;\n",
              "      border: none;\n",
              "      border-radius: 50%;\n",
              "      cursor: pointer;\n",
              "      display: none;\n",
              "      fill: #1967D2;\n",
              "      height: 32px;\n",
              "      padding: 0 0 0 0;\n",
              "      width: 32px;\n",
              "    }\n",
              "\n",
              "    .colab-df-convert:hover {\n",
              "      background-color: #E2EBFA;\n",
              "      box-shadow: 0px 1px 2px rgba(60, 64, 67, 0.3), 0px 1px 3px 1px rgba(60, 64, 67, 0.15);\n",
              "      fill: #174EA6;\n",
              "    }\n",
              "\n",
              "    [theme=dark] .colab-df-convert {\n",
              "      background-color: #3B4455;\n",
              "      fill: #D2E3FC;\n",
              "    }\n",
              "\n",
              "    [theme=dark] .colab-df-convert:hover {\n",
              "      background-color: #434B5C;\n",
              "      box-shadow: 0px 1px 3px 1px rgba(0, 0, 0, 0.15);\n",
              "      filter: drop-shadow(0px 1px 2px rgba(0, 0, 0, 0.3));\n",
              "      fill: #FFFFFF;\n",
              "    }\n",
              "  </style>\n",
              "\n",
              "      <script>\n",
              "        const buttonEl =\n",
              "          document.querySelector('#df-ed24303e-6f3f-425d-8669-e58daa182195 button.colab-df-convert');\n",
              "        buttonEl.style.display =\n",
              "          google.colab.kernel.accessAllowed ? 'block' : 'none';\n",
              "\n",
              "        async function convertToInteractive(key) {\n",
              "          const element = document.querySelector('#df-ed24303e-6f3f-425d-8669-e58daa182195');\n",
              "          const dataTable =\n",
              "            await google.colab.kernel.invokeFunction('convertToInteractive',\n",
              "                                                     [key], {});\n",
              "          if (!dataTable) return;\n",
              "\n",
              "          const docLinkHtml = 'Like what you see? Visit the ' +\n",
              "            '<a target=\"_blank\" href=https://colab.research.google.com/notebooks/data_table.ipynb>data table notebook</a>'\n",
              "            + ' to learn more about interactive tables.';\n",
              "          element.innerHTML = '';\n",
              "          dataTable['output_type'] = 'display_data';\n",
              "          await google.colab.output.renderOutput(dataTable, element);\n",
              "          const docLink = document.createElement('div');\n",
              "          docLink.innerHTML = docLinkHtml;\n",
              "          element.appendChild(docLink);\n",
              "        }\n",
              "      </script>\n",
              "    </div>\n",
              "  </div>\n",
              "  "
            ]
          },
          "metadata": {},
          "execution_count": 35
        }
      ],
      "source": [
        "#Rearranging columns\n",
        "\n",
        "df2 = df2[['Churn', 'Total day minutes', 'Total eve minutes', 'Total night minutes', 'Total Time']]\n",
        "df2"
      ]
    },
    {
      "cell_type": "code",
      "execution_count": 36,
      "id": "f1c0c468",
      "metadata": {
        "colab": {
          "base_uri": "https://localhost:8080/",
          "height": 143
        },
        "id": "f1c0c468",
        "outputId": "a244c911-30c7-4770-e254-cb8ffe347d02"
      },
      "outputs": [
        {
          "output_type": "execute_result",
          "data": {
            "text/plain": [
              "       Total day minutes  Total eve minutes  Total night minutes  Total Time\n",
              "Churn                                                                       \n",
              "False           2.919635           3.317456             3.335579    9.572670\n",
              "True            3.448219           3.540124             3.420828   10.409172"
            ],
            "text/html": [
              "\n",
              "  <div id=\"df-979be7d0-8ccb-4c44-8858-e5f193d45e2f\">\n",
              "    <div class=\"colab-df-container\">\n",
              "      <div>\n",
              "<style scoped>\n",
              "    .dataframe tbody tr th:only-of-type {\n",
              "        vertical-align: middle;\n",
              "    }\n",
              "\n",
              "    .dataframe tbody tr th {\n",
              "        vertical-align: top;\n",
              "    }\n",
              "\n",
              "    .dataframe thead th {\n",
              "        text-align: right;\n",
              "    }\n",
              "</style>\n",
              "<table border=\"1\" class=\"dataframe\">\n",
              "  <thead>\n",
              "    <tr style=\"text-align: right;\">\n",
              "      <th></th>\n",
              "      <th>Total day minutes</th>\n",
              "      <th>Total eve minutes</th>\n",
              "      <th>Total night minutes</th>\n",
              "      <th>Total Time</th>\n",
              "    </tr>\n",
              "    <tr>\n",
              "      <th>Churn</th>\n",
              "      <th></th>\n",
              "      <th></th>\n",
              "      <th></th>\n",
              "      <th></th>\n",
              "    </tr>\n",
              "  </thead>\n",
              "  <tbody>\n",
              "    <tr>\n",
              "      <th>False</th>\n",
              "      <td>2.919635</td>\n",
              "      <td>3.317456</td>\n",
              "      <td>3.335579</td>\n",
              "      <td>9.572670</td>\n",
              "    </tr>\n",
              "    <tr>\n",
              "      <th>True</th>\n",
              "      <td>3.448219</td>\n",
              "      <td>3.540124</td>\n",
              "      <td>3.420828</td>\n",
              "      <td>10.409172</td>\n",
              "    </tr>\n",
              "  </tbody>\n",
              "</table>\n",
              "</div>\n",
              "      <button class=\"colab-df-convert\" onclick=\"convertToInteractive('df-979be7d0-8ccb-4c44-8858-e5f193d45e2f')\"\n",
              "              title=\"Convert this dataframe to an interactive table.\"\n",
              "              style=\"display:none;\">\n",
              "        \n",
              "  <svg xmlns=\"http://www.w3.org/2000/svg\" height=\"24px\"viewBox=\"0 0 24 24\"\n",
              "       width=\"24px\">\n",
              "    <path d=\"M0 0h24v24H0V0z\" fill=\"none\"/>\n",
              "    <path d=\"M18.56 5.44l.94 2.06.94-2.06 2.06-.94-2.06-.94-.94-2.06-.94 2.06-2.06.94zm-11 1L8.5 8.5l.94-2.06 2.06-.94-2.06-.94L8.5 2.5l-.94 2.06-2.06.94zm10 10l.94 2.06.94-2.06 2.06-.94-2.06-.94-.94-2.06-.94 2.06-2.06.94z\"/><path d=\"M17.41 7.96l-1.37-1.37c-.4-.4-.92-.59-1.43-.59-.52 0-1.04.2-1.43.59L10.3 9.45l-7.72 7.72c-.78.78-.78 2.05 0 2.83L4 21.41c.39.39.9.59 1.41.59.51 0 1.02-.2 1.41-.59l7.78-7.78 2.81-2.81c.8-.78.8-2.07 0-2.86zM5.41 20L4 18.59l7.72-7.72 1.47 1.35L5.41 20z\"/>\n",
              "  </svg>\n",
              "      </button>\n",
              "      \n",
              "  <style>\n",
              "    .colab-df-container {\n",
              "      display:flex;\n",
              "      flex-wrap:wrap;\n",
              "      gap: 12px;\n",
              "    }\n",
              "\n",
              "    .colab-df-convert {\n",
              "      background-color: #E8F0FE;\n",
              "      border: none;\n",
              "      border-radius: 50%;\n",
              "      cursor: pointer;\n",
              "      display: none;\n",
              "      fill: #1967D2;\n",
              "      height: 32px;\n",
              "      padding: 0 0 0 0;\n",
              "      width: 32px;\n",
              "    }\n",
              "\n",
              "    .colab-df-convert:hover {\n",
              "      background-color: #E2EBFA;\n",
              "      box-shadow: 0px 1px 2px rgba(60, 64, 67, 0.3), 0px 1px 3px 1px rgba(60, 64, 67, 0.15);\n",
              "      fill: #174EA6;\n",
              "    }\n",
              "\n",
              "    [theme=dark] .colab-df-convert {\n",
              "      background-color: #3B4455;\n",
              "      fill: #D2E3FC;\n",
              "    }\n",
              "\n",
              "    [theme=dark] .colab-df-convert:hover {\n",
              "      background-color: #434B5C;\n",
              "      box-shadow: 0px 1px 3px 1px rgba(0, 0, 0, 0.15);\n",
              "      filter: drop-shadow(0px 1px 2px rgba(0, 0, 0, 0.3));\n",
              "      fill: #FFFFFF;\n",
              "    }\n",
              "  </style>\n",
              "\n",
              "      <script>\n",
              "        const buttonEl =\n",
              "          document.querySelector('#df-979be7d0-8ccb-4c44-8858-e5f193d45e2f button.colab-df-convert');\n",
              "        buttonEl.style.display =\n",
              "          google.colab.kernel.accessAllowed ? 'block' : 'none';\n",
              "\n",
              "        async function convertToInteractive(key) {\n",
              "          const element = document.querySelector('#df-979be7d0-8ccb-4c44-8858-e5f193d45e2f');\n",
              "          const dataTable =\n",
              "            await google.colab.kernel.invokeFunction('convertToInteractive',\n",
              "                                                     [key], {});\n",
              "          if (!dataTable) return;\n",
              "\n",
              "          const docLinkHtml = 'Like what you see? Visit the ' +\n",
              "            '<a target=\"_blank\" href=https://colab.research.google.com/notebooks/data_table.ipynb>data table notebook</a>'\n",
              "            + ' to learn more about interactive tables.';\n",
              "          element.innerHTML = '';\n",
              "          dataTable['output_type'] = 'display_data';\n",
              "          await google.colab.output.renderOutput(dataTable, element);\n",
              "          const docLink = document.createElement('div');\n",
              "          docLink.innerHTML = docLinkHtml;\n",
              "          element.appendChild(docLink);\n",
              "        }\n",
              "      </script>\n",
              "    </div>\n",
              "  </div>\n",
              "  "
            ]
          },
          "metadata": {},
          "execution_count": 36
        }
      ],
      "source": [
        "#Creating new dataframe by grouping Churn outcomes\n",
        "\n",
        "df3 = df2.groupby('Churn').mean()\n",
        "df3"
      ]
    },
    {
      "cell_type": "code",
      "execution_count": 37,
      "id": "92079583",
      "metadata": {
        "colab": {
          "base_uri": "https://localhost:8080/",
          "height": 143
        },
        "id": "92079583",
        "outputId": "c799a879-0472-4a7b-8a19-3e91eec75b97"
      },
      "outputs": [
        {
          "output_type": "execute_result",
          "data": {
            "text/plain": [
              "       Total day minutes  Total eve minutes  Total night minutes  Total Time\n",
              "Churn                                                                       \n",
              "False           2.919635           3.317456             3.335579    9.572670\n",
              "True            3.448219           3.540124             3.420828   10.409172"
            ],
            "text/html": [
              "\n",
              "  <div id=\"df-cd6280d9-1e21-48cc-a481-f4569df474a3\">\n",
              "    <div class=\"colab-df-container\">\n",
              "      <div>\n",
              "<style scoped>\n",
              "    .dataframe tbody tr th:only-of-type {\n",
              "        vertical-align: middle;\n",
              "    }\n",
              "\n",
              "    .dataframe tbody tr th {\n",
              "        vertical-align: top;\n",
              "    }\n",
              "\n",
              "    .dataframe thead th {\n",
              "        text-align: right;\n",
              "    }\n",
              "</style>\n",
              "<table border=\"1\" class=\"dataframe\">\n",
              "  <thead>\n",
              "    <tr style=\"text-align: right;\">\n",
              "      <th></th>\n",
              "      <th>Total day minutes</th>\n",
              "      <th>Total eve minutes</th>\n",
              "      <th>Total night minutes</th>\n",
              "      <th>Total Time</th>\n",
              "    </tr>\n",
              "    <tr>\n",
              "      <th>Churn</th>\n",
              "      <th></th>\n",
              "      <th></th>\n",
              "      <th></th>\n",
              "      <th></th>\n",
              "    </tr>\n",
              "  </thead>\n",
              "  <tbody>\n",
              "    <tr>\n",
              "      <th>False</th>\n",
              "      <td>2.919635</td>\n",
              "      <td>3.317456</td>\n",
              "      <td>3.335579</td>\n",
              "      <td>9.572670</td>\n",
              "    </tr>\n",
              "    <tr>\n",
              "      <th>True</th>\n",
              "      <td>3.448219</td>\n",
              "      <td>3.540124</td>\n",
              "      <td>3.420828</td>\n",
              "      <td>10.409172</td>\n",
              "    </tr>\n",
              "  </tbody>\n",
              "</table>\n",
              "</div>\n",
              "      <button class=\"colab-df-convert\" onclick=\"convertToInteractive('df-cd6280d9-1e21-48cc-a481-f4569df474a3')\"\n",
              "              title=\"Convert this dataframe to an interactive table.\"\n",
              "              style=\"display:none;\">\n",
              "        \n",
              "  <svg xmlns=\"http://www.w3.org/2000/svg\" height=\"24px\"viewBox=\"0 0 24 24\"\n",
              "       width=\"24px\">\n",
              "    <path d=\"M0 0h24v24H0V0z\" fill=\"none\"/>\n",
              "    <path d=\"M18.56 5.44l.94 2.06.94-2.06 2.06-.94-2.06-.94-.94-2.06-.94 2.06-2.06.94zm-11 1L8.5 8.5l.94-2.06 2.06-.94-2.06-.94L8.5 2.5l-.94 2.06-2.06.94zm10 10l.94 2.06.94-2.06 2.06-.94-2.06-.94-.94-2.06-.94 2.06-2.06.94z\"/><path d=\"M17.41 7.96l-1.37-1.37c-.4-.4-.92-.59-1.43-.59-.52 0-1.04.2-1.43.59L10.3 9.45l-7.72 7.72c-.78.78-.78 2.05 0 2.83L4 21.41c.39.39.9.59 1.41.59.51 0 1.02-.2 1.41-.59l7.78-7.78 2.81-2.81c.8-.78.8-2.07 0-2.86zM5.41 20L4 18.59l7.72-7.72 1.47 1.35L5.41 20z\"/>\n",
              "  </svg>\n",
              "      </button>\n",
              "      \n",
              "  <style>\n",
              "    .colab-df-container {\n",
              "      display:flex;\n",
              "      flex-wrap:wrap;\n",
              "      gap: 12px;\n",
              "    }\n",
              "\n",
              "    .colab-df-convert {\n",
              "      background-color: #E8F0FE;\n",
              "      border: none;\n",
              "      border-radius: 50%;\n",
              "      cursor: pointer;\n",
              "      display: none;\n",
              "      fill: #1967D2;\n",
              "      height: 32px;\n",
              "      padding: 0 0 0 0;\n",
              "      width: 32px;\n",
              "    }\n",
              "\n",
              "    .colab-df-convert:hover {\n",
              "      background-color: #E2EBFA;\n",
              "      box-shadow: 0px 1px 2px rgba(60, 64, 67, 0.3), 0px 1px 3px 1px rgba(60, 64, 67, 0.15);\n",
              "      fill: #174EA6;\n",
              "    }\n",
              "\n",
              "    [theme=dark] .colab-df-convert {\n",
              "      background-color: #3B4455;\n",
              "      fill: #D2E3FC;\n",
              "    }\n",
              "\n",
              "    [theme=dark] .colab-df-convert:hover {\n",
              "      background-color: #434B5C;\n",
              "      box-shadow: 0px 1px 3px 1px rgba(0, 0, 0, 0.15);\n",
              "      filter: drop-shadow(0px 1px 2px rgba(0, 0, 0, 0.3));\n",
              "      fill: #FFFFFF;\n",
              "    }\n",
              "  </style>\n",
              "\n",
              "      <script>\n",
              "        const buttonEl =\n",
              "          document.querySelector('#df-cd6280d9-1e21-48cc-a481-f4569df474a3 button.colab-df-convert');\n",
              "        buttonEl.style.display =\n",
              "          google.colab.kernel.accessAllowed ? 'block' : 'none';\n",
              "\n",
              "        async function convertToInteractive(key) {\n",
              "          const element = document.querySelector('#df-cd6280d9-1e21-48cc-a481-f4569df474a3');\n",
              "          const dataTable =\n",
              "            await google.colab.kernel.invokeFunction('convertToInteractive',\n",
              "                                                     [key], {});\n",
              "          if (!dataTable) return;\n",
              "\n",
              "          const docLinkHtml = 'Like what you see? Visit the ' +\n",
              "            '<a target=\"_blank\" href=https://colab.research.google.com/notebooks/data_table.ipynb>data table notebook</a>'\n",
              "            + ' to learn more about interactive tables.';\n",
              "          element.innerHTML = '';\n",
              "          dataTable['output_type'] = 'display_data';\n",
              "          await google.colab.output.renderOutput(dataTable, element);\n",
              "          const docLink = document.createElement('div');\n",
              "          docLink.innerHTML = docLinkHtml;\n",
              "          element.appendChild(docLink);\n",
              "        }\n",
              "      </script>\n",
              "    </div>\n",
              "  </div>\n",
              "  "
            ]
          },
          "metadata": {},
          "execution_count": 37
        }
      ],
      "source": [
        "df3\n"
      ]
    },
    {
      "cell_type": "code",
      "execution_count": 38,
      "id": "90748d23",
      "metadata": {
        "colab": {
          "base_uri": "https://localhost:8080/"
        },
        "id": "90748d23",
        "outputId": "7a8b486c-3dbe-4cba-9c17-06abc4b49d12"
      },
      "outputs": [
        {
          "output_type": "execute_result",
          "data": {
            "text/plain": [
              "<bound method NDFrame.to_csv of        Total day minutes  Total eve minutes  Total night minutes  Total Time\n",
              "Churn                                                                       \n",
              "False           2.919635           3.317456             3.335579    9.572670\n",
              "True            3.448219           3.540124             3.420828   10.409172>"
            ]
          },
          "metadata": {},
          "execution_count": 38
        }
      ],
      "source": [
        "import pandas as pd\n",
        "df3.to_csv"
      ]
    },
    {
      "cell_type": "code",
      "execution_count": 39,
      "id": "db0ea328",
      "metadata": {
        "colab": {
          "base_uri": "https://localhost:8080/",
          "height": 143
        },
        "id": "db0ea328",
        "outputId": "4ebf14c4-7ce2-43ba-dd72-b1ba955601fe"
      },
      "outputs": [
        {
          "output_type": "execute_result",
          "data": {
            "text/plain": [
              "       Churn  Total day minutes  Total eve minutes  Total night minutes  \\\n",
              "0      FALSE           2.919635           3.317456             3.335579   \n",
              "1       TRUE           3.448219           3.540124             3.420828   \n",
              "2  Col_Total           6.367855           6.857580             6.756407   \n",
              "\n",
              "   Total Time  \n",
              "0    9.572670  \n",
              "1   10.409172  \n",
              "2   19.981842  "
            ],
            "text/html": [
              "\n",
              "  <div id=\"df-86c86499-7bae-467f-b717-1ca15bfbdbc9\">\n",
              "    <div class=\"colab-df-container\">\n",
              "      <div>\n",
              "<style scoped>\n",
              "    .dataframe tbody tr th:only-of-type {\n",
              "        vertical-align: middle;\n",
              "    }\n",
              "\n",
              "    .dataframe tbody tr th {\n",
              "        vertical-align: top;\n",
              "    }\n",
              "\n",
              "    .dataframe thead th {\n",
              "        text-align: right;\n",
              "    }\n",
              "</style>\n",
              "<table border=\"1\" class=\"dataframe\">\n",
              "  <thead>\n",
              "    <tr style=\"text-align: right;\">\n",
              "      <th></th>\n",
              "      <th>Churn</th>\n",
              "      <th>Total day minutes</th>\n",
              "      <th>Total eve minutes</th>\n",
              "      <th>Total night minutes</th>\n",
              "      <th>Total Time</th>\n",
              "    </tr>\n",
              "  </thead>\n",
              "  <tbody>\n",
              "    <tr>\n",
              "      <th>0</th>\n",
              "      <td>FALSE</td>\n",
              "      <td>2.919635</td>\n",
              "      <td>3.317456</td>\n",
              "      <td>3.335579</td>\n",
              "      <td>9.572670</td>\n",
              "    </tr>\n",
              "    <tr>\n",
              "      <th>1</th>\n",
              "      <td>TRUE</td>\n",
              "      <td>3.448219</td>\n",
              "      <td>3.540124</td>\n",
              "      <td>3.420828</td>\n",
              "      <td>10.409172</td>\n",
              "    </tr>\n",
              "    <tr>\n",
              "      <th>2</th>\n",
              "      <td>Col_Total</td>\n",
              "      <td>6.367855</td>\n",
              "      <td>6.857580</td>\n",
              "      <td>6.756407</td>\n",
              "      <td>19.981842</td>\n",
              "    </tr>\n",
              "  </tbody>\n",
              "</table>\n",
              "</div>\n",
              "      <button class=\"colab-df-convert\" onclick=\"convertToInteractive('df-86c86499-7bae-467f-b717-1ca15bfbdbc9')\"\n",
              "              title=\"Convert this dataframe to an interactive table.\"\n",
              "              style=\"display:none;\">\n",
              "        \n",
              "  <svg xmlns=\"http://www.w3.org/2000/svg\" height=\"24px\"viewBox=\"0 0 24 24\"\n",
              "       width=\"24px\">\n",
              "    <path d=\"M0 0h24v24H0V0z\" fill=\"none\"/>\n",
              "    <path d=\"M18.56 5.44l.94 2.06.94-2.06 2.06-.94-2.06-.94-.94-2.06-.94 2.06-2.06.94zm-11 1L8.5 8.5l.94-2.06 2.06-.94-2.06-.94L8.5 2.5l-.94 2.06-2.06.94zm10 10l.94 2.06.94-2.06 2.06-.94-2.06-.94-.94-2.06-.94 2.06-2.06.94z\"/><path d=\"M17.41 7.96l-1.37-1.37c-.4-.4-.92-.59-1.43-.59-.52 0-1.04.2-1.43.59L10.3 9.45l-7.72 7.72c-.78.78-.78 2.05 0 2.83L4 21.41c.39.39.9.59 1.41.59.51 0 1.02-.2 1.41-.59l7.78-7.78 2.81-2.81c.8-.78.8-2.07 0-2.86zM5.41 20L4 18.59l7.72-7.72 1.47 1.35L5.41 20z\"/>\n",
              "  </svg>\n",
              "      </button>\n",
              "      \n",
              "  <style>\n",
              "    .colab-df-container {\n",
              "      display:flex;\n",
              "      flex-wrap:wrap;\n",
              "      gap: 12px;\n",
              "    }\n",
              "\n",
              "    .colab-df-convert {\n",
              "      background-color: #E8F0FE;\n",
              "      border: none;\n",
              "      border-radius: 50%;\n",
              "      cursor: pointer;\n",
              "      display: none;\n",
              "      fill: #1967D2;\n",
              "      height: 32px;\n",
              "      padding: 0 0 0 0;\n",
              "      width: 32px;\n",
              "    }\n",
              "\n",
              "    .colab-df-convert:hover {\n",
              "      background-color: #E2EBFA;\n",
              "      box-shadow: 0px 1px 2px rgba(60, 64, 67, 0.3), 0px 1px 3px 1px rgba(60, 64, 67, 0.15);\n",
              "      fill: #174EA6;\n",
              "    }\n",
              "\n",
              "    [theme=dark] .colab-df-convert {\n",
              "      background-color: #3B4455;\n",
              "      fill: #D2E3FC;\n",
              "    }\n",
              "\n",
              "    [theme=dark] .colab-df-convert:hover {\n",
              "      background-color: #434B5C;\n",
              "      box-shadow: 0px 1px 3px 1px rgba(0, 0, 0, 0.15);\n",
              "      filter: drop-shadow(0px 1px 2px rgba(0, 0, 0, 0.3));\n",
              "      fill: #FFFFFF;\n",
              "    }\n",
              "  </style>\n",
              "\n",
              "      <script>\n",
              "        const buttonEl =\n",
              "          document.querySelector('#df-86c86499-7bae-467f-b717-1ca15bfbdbc9 button.colab-df-convert');\n",
              "        buttonEl.style.display =\n",
              "          google.colab.kernel.accessAllowed ? 'block' : 'none';\n",
              "\n",
              "        async function convertToInteractive(key) {\n",
              "          const element = document.querySelector('#df-86c86499-7bae-467f-b717-1ca15bfbdbc9');\n",
              "          const dataTable =\n",
              "            await google.colab.kernel.invokeFunction('convertToInteractive',\n",
              "                                                     [key], {});\n",
              "          if (!dataTable) return;\n",
              "\n",
              "          const docLinkHtml = 'Like what you see? Visit the ' +\n",
              "            '<a target=\"_blank\" href=https://colab.research.google.com/notebooks/data_table.ipynb>data table notebook</a>'\n",
              "            + ' to learn more about interactive tables.';\n",
              "          element.innerHTML = '';\n",
              "          dataTable['output_type'] = 'display_data';\n",
              "          await google.colab.output.renderOutput(dataTable, element);\n",
              "          const docLink = document.createElement('div');\n",
              "          docLink.innerHTML = docLinkHtml;\n",
              "          element.appendChild(docLink);\n",
              "        }\n",
              "      </script>\n",
              "    </div>\n",
              "  </div>\n",
              "  "
            ]
          },
          "metadata": {},
          "execution_count": 39
        }
      ],
      "source": [
        "df4 = pd.read_csv('ChiSquare.csv')\n",
        "df4"
      ]
    },
    {
      "cell_type": "code",
      "source": [
        "df4.info()"
      ],
      "metadata": {
        "colab": {
          "base_uri": "https://localhost:8080/"
        },
        "id": "ctFhVm8uvYte",
        "outputId": "c13bdb55-bb77-40dd-b01a-36e51a481cdd"
      },
      "id": "ctFhVm8uvYte",
      "execution_count": 40,
      "outputs": [
        {
          "output_type": "stream",
          "name": "stdout",
          "text": [
            "<class 'pandas.core.frame.DataFrame'>\n",
            "RangeIndex: 3 entries, 0 to 2\n",
            "Data columns (total 5 columns):\n",
            " #   Column               Non-Null Count  Dtype  \n",
            "---  ------               --------------  -----  \n",
            " 0   Churn                3 non-null      object \n",
            " 1   Total day minutes    3 non-null      float64\n",
            " 2   Total eve minutes    3 non-null      float64\n",
            " 3   Total night minutes  3 non-null      float64\n",
            " 4   Total Time           3 non-null      float64\n",
            "dtypes: float64(4), object(1)\n",
            "memory usage: 248.0+ bytes\n"
          ]
        }
      ]
    },
    {
      "cell_type": "code",
      "source": [
        "# label encoding\n",
        "df4['Churn'] = df4['Churn'].map({'True': 1, 'False': 0})"
      ],
      "metadata": {
        "id": "6MQlyDBowACr"
      },
      "id": "6MQlyDBowACr",
      "execution_count": 41,
      "outputs": []
    },
    {
      "cell_type": "code",
      "execution_count": 42,
      "id": "32a7a07c",
      "metadata": {
        "id": "32a7a07c",
        "colab": {
          "base_uri": "https://localhost:8080/"
        },
        "outputId": "7d4b436b-93a2-44f9-c69b-bfad5881ab3f"
      },
      "outputs": [
        {
          "output_type": "stream",
          "name": "stdout",
          "text": [
            "Looking in indexes: https://pypi.org/simple, https://us-python.pkg.dev/colab-wheels/public/simple/\n",
            "Requirement already satisfied: scipy in /usr/local/lib/python3.7/dist-packages (1.7.3)\n",
            "Requirement already satisfied: numpy<1.23.0,>=1.16.5 in /usr/local/lib/python3.7/dist-packages (from scipy) (1.21.6)\n"
          ]
        }
      ],
      "source": [
        "pip install scipy"
      ]
    },
    {
      "cell_type": "code",
      "execution_count": 56,
      "id": "84c67ff1",
      "metadata": {
        "id": "84c67ff1",
        "colab": {
          "base_uri": "https://localhost:8080/"
        },
        "outputId": "2d6b7f00-d277-4b8d-c6e9-3a6319b85c0a"
      },
      "outputs": [
        {
          "output_type": "stream",
          "name": "stdout",
          "text": [
            "nan\n",
            "Independent (H0 holds true)\n"
          ]
        }
      ],
      "source": [
        "from scipy.stats import chi2_contingency\n",
        "\n",
        "stat, p, dof, expected = chi2_contingency(df4)\n",
        "\n",
        "\n",
        "# interpret p-value\n",
        "alpha = 0.05\n",
        "print(float(p))\n",
        "#print(\"p value is \" + str(p))\n",
        "if p <= alpha:\n",
        "    print('Dependent (reject H0)')\n",
        "else:\n",
        "    print('Independent (H0 holds true)')\n",
        "\n"
      ]
    },
    {
      "cell_type": "code",
      "source": [
        "cat_cols = [ 'International plan', 'Voice mail plan']\n",
        "num_cols = ['Total day minutes', 'Total eve minutes','Total night minutes']\n",
        "# Perform Chi2-test for categorical columns against churn vs no-churn groups to check statistical significance\n",
        "col_list = []\n",
        "p_val_list = []\n",
        "\n",
        "# Loop and calculate p-values for each feature\n",
        "for col in cat_cols:\n",
        "    cross_tab = pd.crosstab(df[col], df['Churn'])\n",
        "    \n",
        "    # Compute the chi2-stat and p-value\n",
        "    chi2_stat, p_val, dof,  exp_freq = chi2_contingency(observed=cross_tab)\n",
        "\n",
        "    # Append p_values\n",
        "    p_val_list.append(p_val)\n",
        "    col_list.append(col)\n",
        "\n",
        "import matplotlib.pyplot as plt\n",
        "\n",
        "# Plot p-values\n",
        "# P-value is the probability that the results from sample data occured by chance. Low p-values are good, they \n",
        "# indicate the data did not occur by chance. Most cases p-value of 0.05 is accepted to mean data is valid\n",
        "pvals = pd.DataFrame(p_val_list, col_list)\n",
        "pvals.columns = ['P-values']\n",
        "pvals.sort_values(by='P-values', ascending=False).plot(kind='barh');\n",
        "plt.semilogx()\n",
        "plt.vlines(x=0.05, ymin=-1, ymax=len(num_cols), colors='k', label='p = 0.05');\n",
        "plt.legend();"
      ],
      "metadata": {
        "colab": {
          "base_uri": "https://localhost:8080/",
          "height": 269
        },
        "id": "7CYc4k3uotIl",
        "outputId": "c3f322bb-eebc-44f5-e7bb-8f3a18fc7c95"
      },
      "id": "7CYc4k3uotIl",
      "execution_count": 63,
      "outputs": [
        {
          "output_type": "display_data",
          "data": {
            "text/plain": [
              "<Figure size 432x288 with 1 Axes>"
            ],
            "image/png": "[encoded data removed]"
          },
          "metadata": {
            "needs_background": "light"
          }
        }
      ]
    },
    {
      "cell_type": "markdown",
      "source": [
        "**Analysis summary**\n",
        "\n",
        "From the plot above International plan, Voice mail plan are all statistically significant with p-values < 0.05"
      ],
      "metadata": {
        "id": "-LtvRTdtrZs1"
      },
      "id": "-LtvRTdtrZs1"
    },
    {
      "cell_type": "markdown",
      "id": "de38ccfb",
      "metadata": {
        "id": "de38ccfb"
      },
      "source": [
        "**Conclusion** : There is no significant relation beteeen Total day minutes, Total eve minutes & Total night minutes"
      ]
    }
  ],
  "metadata": {
    "kernelspec": {
      "display_name": "Python 3 (ipykernel)",
      "language": "python",
      "name": "python3"
    },
    "language_info": {
      "codemirror_mode": {
        "name": "ipython",
        "version": 3
      },
      "file_extension": ".py",
      "mimetype": "text/x-python",
      "name": "python",
      "nbconvert_exporter": "python",
      "pygments_lexer": "ipython3",
      "version": "3.9.12"
    },
    "colab": {
      "provenance": []
    }
  },
  "nbformat": 4,
  "nbformat_minor": 5
}