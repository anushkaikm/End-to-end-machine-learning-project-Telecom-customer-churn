{
  "cells": [
    {
      "cell_type": "markdown",
      "metadata": {
        "id": "zhjw5ZOb0-Fc"
      },
      "source": [
        "# **Machine Learning**\n"
      ]
    },
    {
      "cell_type": "code",
      "execution_count": 2,
      "metadata": {
        "id": "gSepVnzxf4iT"
      },
      "outputs": [],
      "source": [
        "# import libraries\n",
        "import pandas as pd\n",
        "import numpy as np\n",
        "import matplotlib.pyplot as plt\n",
        "import seaborn as sns\n",
        "import scipy.stats as stats\n",
        "from sklearn import metrics"
      ]
    },
    {
      "cell_type": "code",
      "execution_count": 3,
      "metadata": {
        "id": "zLvE1jDBgWp2"
      },
      "outputs": [],
      "source": [
        "# import telecom dataset into a pandas data frame\n",
        "df_churn20 = pd.read_csv('churn-bigml-20.csv')\n",
        "df_churn80 = pd.read_csv('churn-bigml-80.csv')"
      ]
    },
    {
      "cell_type": "code",
      "execution_count": 4,
      "metadata": {
        "colab": {
          "base_uri": "https://localhost:8080/",
          "height": 522
        },
        "id": "HWdYXcIEgaEZ",
        "outputId": "f5f33f74-8935-4650-abea-8dd4eec3dd33"
      },
      "outputs": [
        {
          "output_type": "execute_result",
          "data": {
            "text/plain": [
              "     State  Account length  Area code International plan Voice mail plan  \\\n",
              "0       LA             117        408                 No              No   \n",
              "1       IN              65        415                 No              No   \n",
              "2       NY             161        415                 No              No   \n",
              "3       SC             111        415                 No              No   \n",
              "4       HI              49        510                 No              No   \n",
              "...    ...             ...        ...                ...             ...   \n",
              "3328    SC              79        415                 No              No   \n",
              "3329    AZ             192        415                 No             Yes   \n",
              "3330    WV              68        415                 No              No   \n",
              "3331    RI              28        510                 No              No   \n",
              "3332    TN              74        415                 No             Yes   \n",
              "\n",
              "      Number vmail messages  Total day minutes  Total day calls  \\\n",
              "0                         0              184.5               97   \n",
              "1                         0              129.1              137   \n",
              "2                         0              332.9               67   \n",
              "3                         0              110.4              103   \n",
              "4                         0              119.3              117   \n",
              "...                     ...                ...              ...   \n",
              "3328                      0              134.7               98   \n",
              "3329                     36              156.2               77   \n",
              "3330                      0              231.1               57   \n",
              "3331                      0              180.8              109   \n",
              "3332                     25              234.4              113   \n",
              "\n",
              "      Total day charge  Total eve minutes  Total eve calls  Total eve charge  \\\n",
              "0                31.37              351.6               80             29.89   \n",
              "1                21.95              228.5               83             19.42   \n",
              "2                56.59              317.8               97             27.01   \n",
              "3                18.77              137.3              102             11.67   \n",
              "4                20.28              215.1              109             18.28   \n",
              "...                ...                ...              ...               ...   \n",
              "3328             22.90              189.7               68             16.12   \n",
              "3329             26.55              215.5              126             18.32   \n",
              "3330             39.29              153.4               55             13.04   \n",
              "3331             30.74              288.8               58             24.55   \n",
              "3332             39.85              265.9               82             22.60   \n",
              "\n",
              "      Total night minutes  Total night calls  Total night charge  \\\n",
              "0                   215.8                 90                9.71   \n",
              "1                   208.8                111                9.40   \n",
              "2                   160.6                128                7.23   \n",
              "3                   189.6                105                8.53   \n",
              "4                   178.7                 90                8.04   \n",
              "...                   ...                ...                 ...   \n",
              "3328                221.4                128                9.96   \n",
              "3329                279.1                 83               12.56   \n",
              "3330                191.3                123                8.61   \n",
              "3331                191.9                 91                8.64   \n",
              "3332                241.4                 77               10.86   \n",
              "\n",
              "      Total intl minutes  Total intl calls  Total intl charge  \\\n",
              "0                    8.7                 4               2.35   \n",
              "1                   12.7                 6               3.43   \n",
              "2                    5.4                 9               1.46   \n",
              "3                    7.7                 6               2.08   \n",
              "4                   11.1                 1               3.00   \n",
              "...                  ...               ...                ...   \n",
              "3328                11.8                 5               3.19   \n",
              "3329                 9.9                 6               2.67   \n",
              "3330                 9.6                 4               2.59   \n",
              "3331                14.1                 6               3.81   \n",
              "3332                13.7                 4               3.70   \n",
              "\n",
              "      Customer service calls  Churn  \n",
              "0                          1  False  \n",
              "1                          4   True  \n",
              "2                          4   True  \n",
              "3                          2  False  \n",
              "4                          1  False  \n",
              "...                      ...    ...  \n",
              "3328                       2  False  \n",
              "3329                       2  False  \n",
              "3330                       3  False  \n",
              "3331                       2  False  \n",
              "3332                       0  False  \n",
              "\n",
              "[3333 rows x 20 columns]"
            ],
            "text/html": [
              "\n",
              "  <div id=\"df-e3cf0a18-8582-46dd-9942-87771716243a\">\n",
              "    <div class=\"colab-df-container\">\n",
              "      <div>\n",
              "<style scoped>\n",
              "    .dataframe tbody tr th:only-of-type {\n",
              "        vertical-align: middle;\n",
              "    }\n",
              "\n",
              "    .dataframe tbody tr th {\n",
              "        vertical-align: top;\n",
              "    }\n",
              "\n",
              "    .dataframe thead th {\n",
              "        text-align: right;\n",
              "    }\n",
              "</style>\n",
              "<table border=\"1\" class=\"dataframe\">\n",
              "  <thead>\n",
              "    <tr style=\"text-align: right;\">\n",
              "      <th></th>\n",
              "      <th>State</th>\n",
              "      <th>Account length</th>\n",
              "      <th>Area code</th>\n",
              "      <th>International plan</th>\n",
              "      <th>Voice mail plan</th>\n",
              "      <th>Number vmail messages</th>\n",
              "      <th>Total day minutes</th>\n",
              "      <th>Total day calls</th>\n",
              "      <th>Total day charge</th>\n",
              "      <th>Total eve minutes</th>\n",
              "      <th>Total eve calls</th>\n",
              "      <th>Total eve charge</th>\n",
              "      <th>Total night minutes</th>\n",
              "      <th>Total night calls</th>\n",
              "      <th>Total night charge</th>\n",
              "      <th>Total intl minutes</th>\n",
              "      <th>Total intl calls</th>\n",
              "      <th>Total intl charge</th>\n",
              "      <th>Customer service calls</th>\n",
              "      <th>Churn</th>\n",
              "    </tr>\n",
              "  </thead>\n",
              "  <tbody>\n",
              "    <tr>\n",
              "      <th>0</th>\n",
              "      <td>LA</td>\n",
              "      <td>117</td>\n",
              "      <td>408</td>\n",
              "      <td>No</td>\n",
              "      <td>No</td>\n",
              "      <td>0</td>\n",
              "      <td>184.5</td>\n",
              "      <td>97</td>\n",
              "      <td>31.37</td>\n",
              "      <td>351.6</td>\n",
              "      <td>80</td>\n",
              "      <td>29.89</td>\n",
              "      <td>215.8</td>\n",
              "      <td>90</td>\n",
              "      <td>9.71</td>\n",
              "      <td>8.7</td>\n",
              "      <td>4</td>\n",
              "      <td>2.35</td>\n",
              "      <td>1</td>\n",
              "      <td>False</td>\n",
              "    </tr>\n",
              "    <tr>\n",
              "      <th>1</th>\n",
              "      <td>IN</td>\n",
              "      <td>65</td>\n",
              "      <td>415</td>\n",
              "      <td>No</td>\n",
              "      <td>No</td>\n",
              "      <td>0</td>\n",
              "      <td>129.1</td>\n",
              "      <td>137</td>\n",
              "      <td>21.95</td>\n",
              "      <td>228.5</td>\n",
              "      <td>83</td>\n",
              "      <td>19.42</td>\n",
              "      <td>208.8</td>\n",
              "      <td>111</td>\n",
              "      <td>9.40</td>\n",
              "      <td>12.7</td>\n",
              "      <td>6</td>\n",
              "      <td>3.43</td>\n",
              "      <td>4</td>\n",
              "      <td>True</td>\n",
              "    </tr>\n",
              "    <tr>\n",
              "      <th>2</th>\n",
              "      <td>NY</td>\n",
              "      <td>161</td>\n",
              "      <td>415</td>\n",
              "      <td>No</td>\n",
              "      <td>No</td>\n",
              "      <td>0</td>\n",
              "      <td>332.9</td>\n",
              "      <td>67</td>\n",
              "      <td>56.59</td>\n",
              "      <td>317.8</td>\n",
              "      <td>97</td>\n",
              "      <td>27.01</td>\n",
              "      <td>160.6</td>\n",
              "      <td>128</td>\n",
              "      <td>7.23</td>\n",
              "      <td>5.4</td>\n",
              "      <td>9</td>\n",
              "      <td>1.46</td>\n",
              "      <td>4</td>\n",
              "      <td>True</td>\n",
              "    </tr>\n",
              "    <tr>\n",
              "      <th>3</th>\n",
              "      <td>SC</td>\n",
              "      <td>111</td>\n",
              "      <td>415</td>\n",
              "      <td>No</td>\n",
              "      <td>No</td>\n",
              "      <td>0</td>\n",
              "      <td>110.4</td>\n",
              "      <td>103</td>\n",
              "      <td>18.77</td>\n",
              "      <td>137.3</td>\n",
              "      <td>102</td>\n",
              "      <td>11.67</td>\n",
              "      <td>189.6</td>\n",
              "      <td>105</td>\n",
              "      <td>8.53</td>\n",
              "      <td>7.7</td>\n",
              "      <td>6</td>\n",
              "      <td>2.08</td>\n",
              "      <td>2</td>\n",
              "      <td>False</td>\n",
              "    </tr>\n",
              "    <tr>\n",
              "      <th>4</th>\n",
              "      <td>HI</td>\n",
              "      <td>49</td>\n",
              "      <td>510</td>\n",
              "      <td>No</td>\n",
              "      <td>No</td>\n",
              "      <td>0</td>\n",
              "      <td>119.3</td>\n",
              "      <td>117</td>\n",
              "      <td>20.28</td>\n",
              "      <td>215.1</td>\n",
              "      <td>109</td>\n",
              "      <td>18.28</td>\n",
              "      <td>178.7</td>\n",
              "      <td>90</td>\n",
              "      <td>8.04</td>\n",
              "      <td>11.1</td>\n",
              "      <td>1</td>\n",
              "      <td>3.00</td>\n",
              "      <td>1</td>\n",
              "      <td>False</td>\n",
              "    </tr>\n",
              "    <tr>\n",
              "      <th>...</th>\n",
              "      <td>...</td>\n",
              "      <td>...</td>\n",
              "      <td>...</td>\n",
              "      <td>...</td>\n",
              "      <td>...</td>\n",
              "      <td>...</td>\n",
              "      <td>...</td>\n",
              "      <td>...</td>\n",
              "      <td>...</td>\n",
              "      <td>...</td>\n",
              "      <td>...</td>\n",
              "      <td>...</td>\n",
              "      <td>...</td>\n",
              "      <td>...</td>\n",
              "      <td>...</td>\n",
              "      <td>...</td>\n",
              "      <td>...</td>\n",
              "      <td>...</td>\n",
              "      <td>...</td>\n",
              "      <td>...</td>\n",
              "    </tr>\n",
              "    <tr>\n",
              "      <th>3328</th>\n",
              "      <td>SC</td>\n",
              "      <td>79</td>\n",
              "      <td>415</td>\n",
              "      <td>No</td>\n",
              "      <td>No</td>\n",
              "      <td>0</td>\n",
              "      <td>134.7</td>\n",
              "      <td>98</td>\n",
              "      <td>22.90</td>\n",
              "      <td>189.7</td>\n",
              "      <td>68</td>\n",
              "      <td>16.12</td>\n",
              "      <td>221.4</td>\n",
              "      <td>128</td>\n",
              "      <td>9.96</td>\n",
              "      <td>11.8</td>\n",
              "      <td>5</td>\n",
              "      <td>3.19</td>\n",
              "      <td>2</td>\n",
              "      <td>False</td>\n",
              "    </tr>\n",
              "    <tr>\n",
              "      <th>3329</th>\n",
              "      <td>AZ</td>\n",
              "      <td>192</td>\n",
              "      <td>415</td>\n",
              "      <td>No</td>\n",
              "      <td>Yes</td>\n",
              "      <td>36</td>\n",
              "      <td>156.2</td>\n",
              "      <td>77</td>\n",
              "      <td>26.55</td>\n",
              "      <td>215.5</td>\n",
              "      <td>126</td>\n",
              "      <td>18.32</td>\n",
              "      <td>279.1</td>\n",
              "      <td>83</td>\n",
              "      <td>12.56</td>\n",
              "      <td>9.9</td>\n",
              "      <td>6</td>\n",
              "      <td>2.67</td>\n",
              "      <td>2</td>\n",
              "      <td>False</td>\n",
              "    </tr>\n",
              "    <tr>\n",
              "      <th>3330</th>\n",
              "      <td>WV</td>\n",
              "      <td>68</td>\n",
              "      <td>415</td>\n",
              "      <td>No</td>\n",
              "      <td>No</td>\n",
              "      <td>0</td>\n",
              "      <td>231.1</td>\n",
              "      <td>57</td>\n",
              "      <td>39.29</td>\n",
              "      <td>153.4</td>\n",
              "      <td>55</td>\n",
              "      <td>13.04</td>\n",
              "      <td>191.3</td>\n",
              "      <td>123</td>\n",
              "      <td>8.61</td>\n",
              "      <td>9.6</td>\n",
              "      <td>4</td>\n",
              "      <td>2.59</td>\n",
              "      <td>3</td>\n",
              "      <td>False</td>\n",
              "    </tr>\n",
              "    <tr>\n",
              "      <th>3331</th>\n",
              "      <td>RI</td>\n",
              "      <td>28</td>\n",
              "      <td>510</td>\n",
              "      <td>No</td>\n",
              "      <td>No</td>\n",
              "      <td>0</td>\n",
              "      <td>180.8</td>\n",
              "      <td>109</td>\n",
              "      <td>30.74</td>\n",
              "      <td>288.8</td>\n",
              "      <td>58</td>\n",
              "      <td>24.55</td>\n",
              "      <td>191.9</td>\n",
              "      <td>91</td>\n",
              "      <td>8.64</td>\n",
              "      <td>14.1</td>\n",
              "      <td>6</td>\n",
              "      <td>3.81</td>\n",
              "      <td>2</td>\n",
              "      <td>False</td>\n",
              "    </tr>\n",
              "    <tr>\n",
              "      <th>3332</th>\n",
              "      <td>TN</td>\n",
              "      <td>74</td>\n",
              "      <td>415</td>\n",
              "      <td>No</td>\n",
              "      <td>Yes</td>\n",
              "      <td>25</td>\n",
              "      <td>234.4</td>\n",
              "      <td>113</td>\n",
              "      <td>39.85</td>\n",
              "      <td>265.9</td>\n",
              "      <td>82</td>\n",
              "      <td>22.60</td>\n",
              "      <td>241.4</td>\n",
              "      <td>77</td>\n",
              "      <td>10.86</td>\n",
              "      <td>13.7</td>\n",
              "      <td>4</td>\n",
              "      <td>3.70</td>\n",
              "      <td>0</td>\n",
              "      <td>False</td>\n",
              "    </tr>\n",
              "  </tbody>\n",
              "</table>\n",
              "<p>3333 rows × 20 columns</p>\n",
              "</div>\n",
              "      <button class=\"colab-df-convert\" onclick=\"convertToInteractive('df-e3cf0a18-8582-46dd-9942-87771716243a')\"\n",
              "              title=\"Convert this dataframe to an interactive table.\"\n",
              "              style=\"display:none;\">\n",
              "        \n",
              "  <svg xmlns=\"http://www.w3.org/2000/svg\" height=\"24px\"viewBox=\"0 0 24 24\"\n",
              "       width=\"24px\">\n",
              "    <path d=\"M0 0h24v24H0V0z\" fill=\"none\"/>\n",
              "    <path d=\"M18.56 5.44l.94 2.06.94-2.06 2.06-.94-2.06-.94-.94-2.06-.94 2.06-2.06.94zm-11 1L8.5 8.5l.94-2.06 2.06-.94-2.06-.94L8.5 2.5l-.94 2.06-2.06.94zm10 10l.94 2.06.94-2.06 2.06-.94-2.06-.94-.94-2.06-.94 2.06-2.06.94z\"/><path d=\"M17.41 7.96l-1.37-1.37c-.4-.4-.92-.59-1.43-.59-.52 0-1.04.2-1.43.59L10.3 9.45l-7.72 7.72c-.78.78-.78 2.05 0 2.83L4 21.41c.39.39.9.59 1.41.59.51 0 1.02-.2 1.41-.59l7.78-7.78 2.81-2.81c.8-.78.8-2.07 0-2.86zM5.41 20L4 18.59l7.72-7.72 1.47 1.35L5.41 20z\"/>\n",
              "  </svg>\n",
              "      </button>\n",
              "      \n",
              "  <style>\n",
              "    .colab-df-container {\n",
              "      display:flex;\n",
              "      flex-wrap:wrap;\n",
              "      gap: 12px;\n",
              "    }\n",
              "\n",
              "    .colab-df-convert {\n",
              "      background-color: #E8F0FE;\n",
              "      border: none;\n",
              "      border-radius: 50%;\n",
              "      cursor: pointer;\n",
              "      display: none;\n",
              "      fill: #1967D2;\n",
              "      height: 32px;\n",
              "      padding: 0 0 0 0;\n",
              "      width: 32px;\n",
              "    }\n",
              "\n",
              "    .colab-df-convert:hover {\n",
              "      background-color: #E2EBFA;\n",
              "      box-shadow: 0px 1px 2px rgba(60, 64, 67, 0.3), 0px 1px 3px 1px rgba(60, 64, 67, 0.15);\n",
              "      fill: #174EA6;\n",
              "    }\n",
              "\n",
              "    [theme=dark] .colab-df-convert {\n",
              "      background-color: #3B4455;\n",
              "      fill: #D2E3FC;\n",
              "    }\n",
              "\n",
              "    [theme=dark] .colab-df-convert:hover {\n",
              "      background-color: #434B5C;\n",
              "      box-shadow: 0px 1px 3px 1px rgba(0, 0, 0, 0.15);\n",
              "      filter: drop-shadow(0px 1px 2px rgba(0, 0, 0, 0.3));\n",
              "      fill: #FFFFFF;\n",
              "    }\n",
              "  </style>\n",
              "\n",
              "      <script>\n",
              "        const buttonEl =\n",
              "          document.querySelector('#df-e3cf0a18-8582-46dd-9942-87771716243a button.colab-df-convert');\n",
              "        buttonEl.style.display =\n",
              "          google.colab.kernel.accessAllowed ? 'block' : 'none';\n",
              "\n",
              "        async function convertToInteractive(key) {\n",
              "          const element = document.querySelector('#df-e3cf0a18-8582-46dd-9942-87771716243a');\n",
              "          const dataTable =\n",
              "            await google.colab.kernel.invokeFunction('convertToInteractive',\n",
              "                                                     [key], {});\n",
              "          if (!dataTable) return;\n",
              "\n",
              "          const docLinkHtml = 'Like what you see? Visit the ' +\n",
              "            '<a target=\"_blank\" href=https://colab.research.google.com/notebooks/data_table.ipynb>data table notebook</a>'\n",
              "            + ' to learn more about interactive tables.';\n",
              "          element.innerHTML = '';\n",
              "          dataTable['output_type'] = 'display_data';\n",
              "          await google.colab.output.renderOutput(dataTable, element);\n",
              "          const docLink = document.createElement('div');\n",
              "          docLink.innerHTML = docLinkHtml;\n",
              "          element.appendChild(docLink);\n",
              "        }\n",
              "      </script>\n",
              "    </div>\n",
              "  </div>\n",
              "  "
            ]
          },
          "metadata": {},
          "execution_count": 4
        }
      ],
      "source": [
        "# merging two csv files\n",
        "df = pd.concat(\n",
        "    map(pd.read_csv, ['churn-bigml-20.csv', 'churn-bigml-80.csv']), ignore_index=True)\n",
        "df"
      ]
    },
    {
      "cell_type": "code",
      "execution_count": 5,
      "metadata": {
        "id": "rvK37P7e1sTr"
      },
      "outputs": [],
      "source": [
        "\n",
        "# saving the dataframe\n",
        "df.to_csv('churncombo.csv')"
      ]
    },
    {
      "cell_type": "code",
      "execution_count": 6,
      "metadata": {
        "colab": {
          "base_uri": "https://localhost:8080/"
        },
        "id": "29v6D5nAhxk_",
        "outputId": "a31948d8-1019-4c64-fbc1-f76a72536e81"
      },
      "outputs": [
        {
          "output_type": "stream",
          "name": "stdout",
          "text": [
            "<class 'pandas.core.frame.DataFrame'>\n",
            "RangeIndex: 3333 entries, 0 to 3332\n",
            "Data columns (total 20 columns):\n",
            " #   Column                  Non-Null Count  Dtype  \n",
            "---  ------                  --------------  -----  \n",
            " 0   State                   3333 non-null   object \n",
            " 1   Account length          3333 non-null   int64  \n",
            " 2   Area code               3333 non-null   int64  \n",
            " 3   International plan      3333 non-null   object \n",
            " 4   Voice mail plan         3333 non-null   object \n",
            " 5   Number vmail messages   3333 non-null   int64  \n",
            " 6   Total day minutes       3333 non-null   float64\n",
            " 7   Total day calls         3333 non-null   int64  \n",
            " 8   Total day charge        3333 non-null   float64\n",
            " 9   Total eve minutes       3333 non-null   float64\n",
            " 10  Total eve calls         3333 non-null   int64  \n",
            " 11  Total eve charge        3333 non-null   float64\n",
            " 12  Total night minutes     3333 non-null   float64\n",
            " 13  Total night calls       3333 non-null   int64  \n",
            " 14  Total night charge      3333 non-null   float64\n",
            " 15  Total intl minutes      3333 non-null   float64\n",
            " 16  Total intl calls        3333 non-null   int64  \n",
            " 17  Total intl charge       3333 non-null   float64\n",
            " 18  Customer service calls  3333 non-null   int64  \n",
            " 19  Churn                   3333 non-null   bool   \n",
            "dtypes: bool(1), float64(8), int64(8), object(3)\n",
            "memory usage: 498.1+ KB\n"
          ]
        }
      ],
      "source": [
        "df.info()"
      ]
    },
    {
      "cell_type": "code",
      "execution_count": 7,
      "metadata": {
        "id": "OZfAoRVDh0HN"
      },
      "outputs": [],
      "source": [
        "# Area code to be treated as categorical feature because we don't perform arithmetic calculations on pincodes\n",
        "df['Area code'] = df['Area code'].astype('object')"
      ]
    },
    {
      "cell_type": "code",
      "execution_count": 8,
      "metadata": {
        "colab": {
          "base_uri": "https://localhost:8080/"
        },
        "id": "CnI5br8eh4_Q",
        "outputId": "34432306-8b16-45f1-91f4-20840ab912db"
      },
      "outputs": [
        {
          "output_type": "stream",
          "name": "stdout",
          "text": [
            "object\n"
          ]
        }
      ],
      "source": [
        "# Use Dataframe.dtypes to give \n",
        "# data type of 'Area code' column as result\n",
        "print(df.dtypes['Area code'])"
      ]
    },
    {
      "cell_type": "markdown",
      "metadata": {
        "id": "VfOrnsNlLY1K"
      },
      "source": [
        "# Feature importance"
      ]
    },
    {
      "cell_type": "markdown",
      "metadata": {
        "id": "Exy9AFJTLlrL"
      },
      "source": [
        "**Mutual information — analysis of linear and nonlinear relationships**"
      ]
    },
    {
      "cell_type": "markdown",
      "metadata": {
        "id": "9fiGmde3Tut3"
      },
      "source": [
        "In machine learning, we are interested in evaluating the degree of dependency between each independent variable and the response variable. Higher values of mutual information show a higher degree of dependency which indicates that the independent variable will be useful for predicting the target. The target here is the churn response."
      ]
    },
    {
      "cell_type": "code",
      "execution_count": 9,
      "metadata": {
        "colab": {
          "base_uri": "https://localhost:8080/",
          "height": 424
        },
        "id": "ZGlpk_UjQrgH",
        "outputId": "2b374b55-9ebf-4fb4-f043-7c8ca29c3f8a"
      },
      "outputs": [
        {
          "output_type": "execute_result",
          "data": {
            "text/plain": [
              "     State Area code International plan Voice mail plan\n",
              "0       LA       408                 No              No\n",
              "1       IN       415                 No              No\n",
              "2       NY       415                 No              No\n",
              "3       SC       415                 No              No\n",
              "4       HI       510                 No              No\n",
              "...    ...       ...                ...             ...\n",
              "3328    SC       415                 No              No\n",
              "3329    AZ       415                 No             Yes\n",
              "3330    WV       415                 No              No\n",
              "3331    RI       510                 No              No\n",
              "3332    TN       415                 No             Yes\n",
              "\n",
              "[3333 rows x 4 columns]"
            ],
            "text/html": [
              "\n",
              "  <div id=\"df-182ae80b-d3a9-4d46-9095-01c5b865eecc\">\n",
              "    <div class=\"colab-df-container\">\n",
              "      <div>\n",
              "<style scoped>\n",
              "    .dataframe tbody tr th:only-of-type {\n",
              "        vertical-align: middle;\n",
              "    }\n",
              "\n",
              "    .dataframe tbody tr th {\n",
              "        vertical-align: top;\n",
              "    }\n",
              "\n",
              "    .dataframe thead th {\n",
              "        text-align: right;\n",
              "    }\n",
              "</style>\n",
              "<table border=\"1\" class=\"dataframe\">\n",
              "  <thead>\n",
              "    <tr style=\"text-align: right;\">\n",
              "      <th></th>\n",
              "      <th>State</th>\n",
              "      <th>Area code</th>\n",
              "      <th>International plan</th>\n",
              "      <th>Voice mail plan</th>\n",
              "    </tr>\n",
              "  </thead>\n",
              "  <tbody>\n",
              "    <tr>\n",
              "      <th>0</th>\n",
              "      <td>LA</td>\n",
              "      <td>408</td>\n",
              "      <td>No</td>\n",
              "      <td>No</td>\n",
              "    </tr>\n",
              "    <tr>\n",
              "      <th>1</th>\n",
              "      <td>IN</td>\n",
              "      <td>415</td>\n",
              "      <td>No</td>\n",
              "      <td>No</td>\n",
              "    </tr>\n",
              "    <tr>\n",
              "      <th>2</th>\n",
              "      <td>NY</td>\n",
              "      <td>415</td>\n",
              "      <td>No</td>\n",
              "      <td>No</td>\n",
              "    </tr>\n",
              "    <tr>\n",
              "      <th>3</th>\n",
              "      <td>SC</td>\n",
              "      <td>415</td>\n",
              "      <td>No</td>\n",
              "      <td>No</td>\n",
              "    </tr>\n",
              "    <tr>\n",
              "      <th>4</th>\n",
              "      <td>HI</td>\n",
              "      <td>510</td>\n",
              "      <td>No</td>\n",
              "      <td>No</td>\n",
              "    </tr>\n",
              "    <tr>\n",
              "      <th>...</th>\n",
              "      <td>...</td>\n",
              "      <td>...</td>\n",
              "      <td>...</td>\n",
              "      <td>...</td>\n",
              "    </tr>\n",
              "    <tr>\n",
              "      <th>3328</th>\n",
              "      <td>SC</td>\n",
              "      <td>415</td>\n",
              "      <td>No</td>\n",
              "      <td>No</td>\n",
              "    </tr>\n",
              "    <tr>\n",
              "      <th>3329</th>\n",
              "      <td>AZ</td>\n",
              "      <td>415</td>\n",
              "      <td>No</td>\n",
              "      <td>Yes</td>\n",
              "    </tr>\n",
              "    <tr>\n",
              "      <th>3330</th>\n",
              "      <td>WV</td>\n",
              "      <td>415</td>\n",
              "      <td>No</td>\n",
              "      <td>No</td>\n",
              "    </tr>\n",
              "    <tr>\n",
              "      <th>3331</th>\n",
              "      <td>RI</td>\n",
              "      <td>510</td>\n",
              "      <td>No</td>\n",
              "      <td>No</td>\n",
              "    </tr>\n",
              "    <tr>\n",
              "      <th>3332</th>\n",
              "      <td>TN</td>\n",
              "      <td>415</td>\n",
              "      <td>No</td>\n",
              "      <td>Yes</td>\n",
              "    </tr>\n",
              "  </tbody>\n",
              "</table>\n",
              "<p>3333 rows × 4 columns</p>\n",
              "</div>\n",
              "      <button class=\"colab-df-convert\" onclick=\"convertToInteractive('df-182ae80b-d3a9-4d46-9095-01c5b865eecc')\"\n",
              "              title=\"Convert this dataframe to an interactive table.\"\n",
              "              style=\"display:none;\">\n",
              "        \n",
              "  <svg xmlns=\"http://www.w3.org/2000/svg\" height=\"24px\"viewBox=\"0 0 24 24\"\n",
              "       width=\"24px\">\n",
              "    <path d=\"M0 0h24v24H0V0z\" fill=\"none\"/>\n",
              "    <path d=\"M18.56 5.44l.94 2.06.94-2.06 2.06-.94-2.06-.94-.94-2.06-.94 2.06-2.06.94zm-11 1L8.5 8.5l.94-2.06 2.06-.94-2.06-.94L8.5 2.5l-.94 2.06-2.06.94zm10 10l.94 2.06.94-2.06 2.06-.94-2.06-.94-.94-2.06-.94 2.06-2.06.94z\"/><path d=\"M17.41 7.96l-1.37-1.37c-.4-.4-.92-.59-1.43-.59-.52 0-1.04.2-1.43.59L10.3 9.45l-7.72 7.72c-.78.78-.78 2.05 0 2.83L4 21.41c.39.39.9.59 1.41.59.51 0 1.02-.2 1.41-.59l7.78-7.78 2.81-2.81c.8-.78.8-2.07 0-2.86zM5.41 20L4 18.59l7.72-7.72 1.47 1.35L5.41 20z\"/>\n",
              "  </svg>\n",
              "      </button>\n",
              "      \n",
              "  <style>\n",
              "    .colab-df-container {\n",
              "      display:flex;\n",
              "      flex-wrap:wrap;\n",
              "      gap: 12px;\n",
              "    }\n",
              "\n",
              "    .colab-df-convert {\n",
              "      background-color: #E8F0FE;\n",
              "      border: none;\n",
              "      border-radius: 50%;\n",
              "      cursor: pointer;\n",
              "      display: none;\n",
              "      fill: #1967D2;\n",
              "      height: 32px;\n",
              "      padding: 0 0 0 0;\n",
              "      width: 32px;\n",
              "    }\n",
              "\n",
              "    .colab-df-convert:hover {\n",
              "      background-color: #E2EBFA;\n",
              "      box-shadow: 0px 1px 2px rgba(60, 64, 67, 0.3), 0px 1px 3px 1px rgba(60, 64, 67, 0.15);\n",
              "      fill: #174EA6;\n",
              "    }\n",
              "\n",
              "    [theme=dark] .colab-df-convert {\n",
              "      background-color: #3B4455;\n",
              "      fill: #D2E3FC;\n",
              "    }\n",
              "\n",
              "    [theme=dark] .colab-df-convert:hover {\n",
              "      background-color: #434B5C;\n",
              "      box-shadow: 0px 1px 3px 1px rgba(0, 0, 0, 0.15);\n",
              "      filter: drop-shadow(0px 1px 2px rgba(0, 0, 0, 0.3));\n",
              "      fill: #FFFFFF;\n",
              "    }\n",
              "  </style>\n",
              "\n",
              "      <script>\n",
              "        const buttonEl =\n",
              "          document.querySelector('#df-182ae80b-d3a9-4d46-9095-01c5b865eecc button.colab-df-convert');\n",
              "        buttonEl.style.display =\n",
              "          google.colab.kernel.accessAllowed ? 'block' : 'none';\n",
              "\n",
              "        async function convertToInteractive(key) {\n",
              "          const element = document.querySelector('#df-182ae80b-d3a9-4d46-9095-01c5b865eecc');\n",
              "          const dataTable =\n",
              "            await google.colab.kernel.invokeFunction('convertToInteractive',\n",
              "                                                     [key], {});\n",
              "          if (!dataTable) return;\n",
              "\n",
              "          const docLinkHtml = 'Like what you see? Visit the ' +\n",
              "            '<a target=\"_blank\" href=https://colab.research.google.com/notebooks/data_table.ipynb>data table notebook</a>'\n",
              "            + ' to learn more about interactive tables.';\n",
              "          element.innerHTML = '';\n",
              "          dataTable['output_type'] = 'display_data';\n",
              "          await google.colab.output.renderOutput(dataTable, element);\n",
              "          const docLink = document.createElement('div');\n",
              "          docLink.innerHTML = docLinkHtml;\n",
              "          element.appendChild(docLink);\n",
              "        }\n",
              "      </script>\n",
              "    </div>\n",
              "  </div>\n",
              "  "
            ]
          },
          "metadata": {},
          "execution_count": 9
        }
      ],
      "source": [
        "# select categorial variables excluding the response variable\n",
        "categorical_variables = df.select_dtypes(include=object)\n",
        "categorical_variables"
      ]
    },
    {
      "cell_type": "code",
      "execution_count": 10,
      "metadata": {
        "colab": {
          "base_uri": "https://localhost:8080/"
        },
        "id": "PAs8E99TR9XZ",
        "outputId": "4402e9b5-1ecb-4c7b-a137-19be0377e022"
      },
      "outputs": [
        {
          "output_type": "stream",
          "name": "stdout",
          "text": [
            "International plan    0.025563\n",
            "State                 0.012479\n",
            "Voice mail plan       0.005695\n",
            "Area code             0.000027\n",
            "dtype: float64\n"
          ]
        }
      ],
      "source": [
        "from sklearn.metrics import mutual_info_score\n",
        "\n",
        "# function that computes the mutual infomation score between a categorical series and the column Churn\n",
        "def compute_mutual_information(categorical_series):\n",
        "    return mutual_info_score(categorical_series, df.Churn)\n",
        "\n",
        "# compute the mutual information score between each categorical variable and the target\n",
        "feature_importance = categorical_variables.apply(compute_mutual_information).sort_values(ascending=False)\n",
        "\n",
        "# visualize feature importance\n",
        "print(feature_importance)"
      ]
    },
    {
      "cell_type": "code",
      "execution_count": 11,
      "metadata": {
        "colab": {
          "base_uri": "https://localhost:8080/",
          "height": 460
        },
        "id": "1xzP3txVLXu1",
        "outputId": "b597227f-1fa2-4bbe-bed5-ec5b78fbe266"
      },
      "outputs": [
        {
          "output_type": "display_data",
          "data": {
            "text/plain": [
              "<Figure size 800x500 with 1 Axes>"
            ],
            "image/png": "[encoded data removed]"
          },
          "metadata": {
            "needs_background": "light"
          }
        }
      ],
      "source": [
        "def plot_mi_scores(scores):\n",
        "    scores = scores.sort_values(ascending=True)\n",
        "    width = np.arange(len(scores))\n",
        "    ticks = list(scores.index)\n",
        "    ax = plt.barh(width, scores)\n",
        "    \n",
        "    plt.yticks(width, ticks)\n",
        "    plt.title(\"Mutual Information Scores\")\n",
        "\n",
        "\n",
        "plt.figure(dpi=100, figsize=(8, 5))\n",
        "plot_mi_scores(feature_importance)\n"
      ]
    },
    {
      "cell_type": "markdown",
      "metadata": {
        "id": "VIThDYNzT45E"
      },
      "source": [
        "Mutual information allows us not only to better understand our data but also to identify the predictor variables that are completely independent of the target. As shown above, only Area code has a mutual information score really close to 0, meaning it does not have a strong relationship with Churn.\n",
        "\n",
        "In the following steps, we should consider removing the variable 'Area code' from the data set before training as it does not provide useful information for predicting the outcome."
      ]
    },
    {
      "cell_type": "code",
      "execution_count": 12,
      "metadata": {
        "id": "cXuv2yv2pvFa"
      },
      "outputs": [],
      "source": [
        " # drop the Area code column from the dataset\n",
        "df_new = df.drop('Area code', axis=1)"
      ]
    },
    {
      "cell_type": "code",
      "execution_count": 13,
      "metadata": {
        "colab": {
          "base_uri": "https://localhost:8080/"
        },
        "id": "-93STK1BqPL4",
        "outputId": "bf8de70c-1387-4533-97ef-7ce1838dc240"
      },
      "outputs": [
        {
          "output_type": "stream",
          "name": "stdout",
          "text": [
            "<class 'pandas.core.frame.DataFrame'>\n",
            "RangeIndex: 3333 entries, 0 to 3332\n",
            "Data columns (total 19 columns):\n",
            " #   Column                  Non-Null Count  Dtype  \n",
            "---  ------                  --------------  -----  \n",
            " 0   State                   3333 non-null   object \n",
            " 1   Account length          3333 non-null   int64  \n",
            " 2   International plan      3333 non-null   object \n",
            " 3   Voice mail plan         3333 non-null   object \n",
            " 4   Number vmail messages   3333 non-null   int64  \n",
            " 5   Total day minutes       3333 non-null   float64\n",
            " 6   Total day calls         3333 non-null   int64  \n",
            " 7   Total day charge        3333 non-null   float64\n",
            " 8   Total eve minutes       3333 non-null   float64\n",
            " 9   Total eve calls         3333 non-null   int64  \n",
            " 10  Total eve charge        3333 non-null   float64\n",
            " 11  Total night minutes     3333 non-null   float64\n",
            " 12  Total night calls       3333 non-null   int64  \n",
            " 13  Total night charge      3333 non-null   float64\n",
            " 14  Total intl minutes      3333 non-null   float64\n",
            " 15  Total intl calls        3333 non-null   int64  \n",
            " 16  Total intl charge       3333 non-null   float64\n",
            " 17  Customer service calls  3333 non-null   int64  \n",
            " 18  Churn                   3333 non-null   bool   \n",
            "dtypes: bool(1), float64(8), int64(7), object(3)\n",
            "memory usage: 472.1+ KB\n"
          ]
        }
      ],
      "source": [
        "df_new.info()"
      ]
    },
    {
      "cell_type": "code",
      "execution_count": 14,
      "metadata": {
        "colab": {
          "base_uri": "https://localhost:8080/"
        },
        "id": "Nr0fcwxcjCvq",
        "outputId": "a0831135-aa56-4f02-f46a-9026fa38931b"
      },
      "outputs": [
        {
          "output_type": "stream",
          "name": "stdout",
          "text": [
            "<class 'pandas.core.frame.DataFrame'>\n",
            "RangeIndex: 3333 entries, 0 to 3332\n",
            "Data columns (total 19 columns):\n",
            " #   Column                  Non-Null Count  Dtype  \n",
            "---  ------                  --------------  -----  \n",
            " 0   State                   3333 non-null   object \n",
            " 1   Account length          3333 non-null   int64  \n",
            " 2   International plan      3333 non-null   object \n",
            " 3   Voice mail plan         3333 non-null   object \n",
            " 4   Number vmail messages   3333 non-null   int64  \n",
            " 5   Total day minutes       3333 non-null   float64\n",
            " 6   Total day calls         3333 non-null   int64  \n",
            " 7   Total day charge        3333 non-null   float64\n",
            " 8   Total eve minutes       3333 non-null   float64\n",
            " 9   Total eve calls         3333 non-null   int64  \n",
            " 10  Total eve charge        3333 non-null   float64\n",
            " 11  Total night minutes     3333 non-null   float64\n",
            " 12  Total night calls       3333 non-null   int64  \n",
            " 13  Total night charge      3333 non-null   float64\n",
            " 14  Total intl minutes      3333 non-null   float64\n",
            " 15  Total intl calls        3333 non-null   int64  \n",
            " 16  Total intl charge       3333 non-null   float64\n",
            " 17  Customer service calls  3333 non-null   int64  \n",
            " 18  Churn                   3333 non-null   bool   \n",
            "dtypes: bool(1), float64(8), int64(7), object(3)\n",
            "memory usage: 472.1+ KB\n"
          ]
        }
      ],
      "source": [
        "# atrip leading and trailing spaces\n",
        "df_new.columns = df_new.columns.str.strip()\n",
        "df_new.info()"
      ]
    },
    {
      "cell_type": "code",
      "execution_count": 15,
      "metadata": {
        "colab": {
          "base_uri": "https://localhost:8080/"
        },
        "id": "NADBzDIZl4un",
        "outputId": "1e62faae-1979-4cde-a8ed-df4d00d61c02"
      },
      "outputs": [
        {
          "output_type": "stream",
          "name": "stdout",
          "text": [
            "<class 'pandas.core.frame.DataFrame'>\n",
            "RangeIndex: 3333 entries, 0 to 3332\n",
            "Data columns (total 19 columns):\n",
            " #   Column                  Non-Null Count  Dtype  \n",
            "---  ------                  --------------  -----  \n",
            " 0   State                   3333 non-null   object \n",
            " 1   Account length          3333 non-null   int64  \n",
            " 2   International plan      3333 non-null   object \n",
            " 3   Voice mail plan         3333 non-null   object \n",
            " 4   Number vmail messages   3333 non-null   int64  \n",
            " 5   Total day minutes       3333 non-null   float64\n",
            " 6   Total day calls         3333 non-null   int64  \n",
            " 7   Total day charge        3333 non-null   float64\n",
            " 8   Total eve minutes       3333 non-null   float64\n",
            " 9   Total eve calls         3333 non-null   int64  \n",
            " 10  Total eve charge        3333 non-null   float64\n",
            " 11  Total night minutes     3333 non-null   float64\n",
            " 12  Total night calls       3333 non-null   int64  \n",
            " 13  Total night charge      3333 non-null   float64\n",
            " 14  Total intl minutes      3333 non-null   float64\n",
            " 15  Total intl calls        3333 non-null   int64  \n",
            " 16  Total intl charge       3333 non-null   float64\n",
            " 17  Customer service calls  3333 non-null   int64  \n",
            " 18  Churn                   3333 non-null   object \n",
            "dtypes: float64(8), int64(7), object(4)\n",
            "memory usage: 494.9+ KB\n"
          ]
        }
      ],
      "source": [
        "df_new['Churn'] = df_new['Churn'].map({True: 'True', False: 'False'})  # Replace boolean by string\n",
        "df_new.info()     "
      ]
    },
    {
      "cell_type": "code",
      "execution_count": 16,
      "metadata": {
        "id": "IrqDzh8tkgoh"
      },
      "outputs": [],
      "source": [
        "# strip leading and trailing spaces from the entire column\n",
        "df_new['Churn'] = df_new['Churn'].str.strip()"
      ]
    },
    {
      "cell_type": "markdown",
      "metadata": {
        "id": "a9c6XTMWmc9D"
      },
      "source": [
        "# Feature Engineering"
      ]
    },
    {
      "cell_type": "markdown",
      "metadata": {
        "id": "vC7FZmoymu9E"
      },
      "source": [
        "Feature engineering is the process of extracting features from the data and transforming them into a format that is suitable for the machine learning model. In this project, we need to transform both numerical and categorical variables. Most machine learning algorithms require numerical values; therefore, all categorical attributes available in the dataset should be encoded into numerical labels before training the model. In addition, we need to transform numeric columns into a common scale. This will prevent that the columns with large values dominate the learning process."
      ]
    },
    {
      "cell_type": "markdown",
      "metadata": {
        "id": "gOzbwYrFr8eh"
      },
      "source": [
        "**Label Encoding**"
      ]
    },
    {
      "cell_type": "markdown",
      "metadata": {
        "id": "CQmHhNHAsEHf"
      },
      "source": [
        "Label encoding is used to replace categorical values with numerical values. This encoding replaces every category with a numerical label. In this project, we use label encoding with the following binary variables: (1) International plan, (2) Voice mail plan, (3) Churn."
      ]
    },
    {
      "cell_type": "code",
      "execution_count": 17,
      "metadata": {
        "id": "piwnNL4BmwBX"
      },
      "outputs": [],
      "source": [
        "df_telco_transformed = df_new.copy()\n",
        "\n",
        "# label encoding (binary variables)\n",
        "label_encoding_columns = ['International plan', 'Voice mail plan', 'Churn']\n",
        "\n",
        "# encode categorical binary features using label encoding\n",
        "for column in label_encoding_columns:\n",
        "    if column == 'International plan' or column == 'Voice mail plan':\n",
        "        df_telco_transformed[column] = df_telco_transformed[column].map({'Yes': 1, 'No': 0})\n",
        "    else: \n",
        "        df_telco_transformed[column] = df_telco_transformed[column].map({'True': 1, 'False': 0}) "
      ]
    },
    {
      "cell_type": "code",
      "execution_count": 18,
      "metadata": {
        "colab": {
          "base_uri": "https://localhost:8080/",
          "height": 522
        },
        "id": "Pa7bGJWisx8M",
        "outputId": "0c498689-b1a2-4317-be34-82dc1a073649"
      },
      "outputs": [
        {
          "output_type": "execute_result",
          "data": {
            "text/plain": [
              "     State  Account length  International plan  Voice mail plan  \\\n",
              "0       LA             117                   0                0   \n",
              "1       IN              65                   0                0   \n",
              "2       NY             161                   0                0   \n",
              "3       SC             111                   0                0   \n",
              "4       HI              49                   0                0   \n",
              "...    ...             ...                 ...              ...   \n",
              "3328    SC              79                   0                0   \n",
              "3329    AZ             192                   0                1   \n",
              "3330    WV              68                   0                0   \n",
              "3331    RI              28                   0                0   \n",
              "3332    TN              74                   0                1   \n",
              "\n",
              "      Number vmail messages  Total day minutes  Total day calls  \\\n",
              "0                         0              184.5               97   \n",
              "1                         0              129.1              137   \n",
              "2                         0              332.9               67   \n",
              "3                         0              110.4              103   \n",
              "4                         0              119.3              117   \n",
              "...                     ...                ...              ...   \n",
              "3328                      0              134.7               98   \n",
              "3329                     36              156.2               77   \n",
              "3330                      0              231.1               57   \n",
              "3331                      0              180.8              109   \n",
              "3332                     25              234.4              113   \n",
              "\n",
              "      Total day charge  Total eve minutes  Total eve calls  Total eve charge  \\\n",
              "0                31.37              351.6               80             29.89   \n",
              "1                21.95              228.5               83             19.42   \n",
              "2                56.59              317.8               97             27.01   \n",
              "3                18.77              137.3              102             11.67   \n",
              "4                20.28              215.1              109             18.28   \n",
              "...                ...                ...              ...               ...   \n",
              "3328             22.90              189.7               68             16.12   \n",
              "3329             26.55              215.5              126             18.32   \n",
              "3330             39.29              153.4               55             13.04   \n",
              "3331             30.74              288.8               58             24.55   \n",
              "3332             39.85              265.9               82             22.60   \n",
              "\n",
              "      Total night minutes  Total night calls  Total night charge  \\\n",
              "0                   215.8                 90                9.71   \n",
              "1                   208.8                111                9.40   \n",
              "2                   160.6                128                7.23   \n",
              "3                   189.6                105                8.53   \n",
              "4                   178.7                 90                8.04   \n",
              "...                   ...                ...                 ...   \n",
              "3328                221.4                128                9.96   \n",
              "3329                279.1                 83               12.56   \n",
              "3330                191.3                123                8.61   \n",
              "3331                191.9                 91                8.64   \n",
              "3332                241.4                 77               10.86   \n",
              "\n",
              "      Total intl minutes  Total intl calls  Total intl charge  \\\n",
              "0                    8.7                 4               2.35   \n",
              "1                   12.7                 6               3.43   \n",
              "2                    5.4                 9               1.46   \n",
              "3                    7.7                 6               2.08   \n",
              "4                   11.1                 1               3.00   \n",
              "...                  ...               ...                ...   \n",
              "3328                11.8                 5               3.19   \n",
              "3329                 9.9                 6               2.67   \n",
              "3330                 9.6                 4               2.59   \n",
              "3331                14.1                 6               3.81   \n",
              "3332                13.7                 4               3.70   \n",
              "\n",
              "      Customer service calls  Churn  \n",
              "0                          1      0  \n",
              "1                          4      1  \n",
              "2                          4      1  \n",
              "3                          2      0  \n",
              "4                          1      0  \n",
              "...                      ...    ...  \n",
              "3328                       2      0  \n",
              "3329                       2      0  \n",
              "3330                       3      0  \n",
              "3331                       2      0  \n",
              "3332                       0      0  \n",
              "\n",
              "[3333 rows x 19 columns]"
            ],
            "text/html": [
              "\n",
              "  <div id=\"df-8305a2e6-b011-4456-b5c5-a2d3b7a8d8f8\">\n",
              "    <div class=\"colab-df-container\">\n",
              "      <div>\n",
              "<style scoped>\n",
              "    .dataframe tbody tr th:only-of-type {\n",
              "        vertical-align: middle;\n",
              "    }\n",
              "\n",
              "    .dataframe tbody tr th {\n",
              "        vertical-align: top;\n",
              "    }\n",
              "\n",
              "    .dataframe thead th {\n",
              "        text-align: right;\n",
              "    }\n",
              "</style>\n",
              "<table border=\"1\" class=\"dataframe\">\n",
              "  <thead>\n",
              "    <tr style=\"text-align: right;\">\n",
              "      <th></th>\n",
              "      <th>State</th>\n",
              "      <th>Account length</th>\n",
              "      <th>International plan</th>\n",
              "      <th>Voice mail plan</th>\n",
              "      <th>Number vmail messages</th>\n",
              "      <th>Total day minutes</th>\n",
              "      <th>Total day calls</th>\n",
              "      <th>Total day charge</th>\n",
              "      <th>Total eve minutes</th>\n",
              "      <th>Total eve calls</th>\n",
              "      <th>Total eve charge</th>\n",
              "      <th>Total night minutes</th>\n",
              "      <th>Total night calls</th>\n",
              "      <th>Total night charge</th>\n",
              "      <th>Total intl minutes</th>\n",
              "      <th>Total intl calls</th>\n",
              "      <th>Total intl charge</th>\n",
              "      <th>Customer service calls</th>\n",
              "      <th>Churn</th>\n",
              "    </tr>\n",
              "  </thead>\n",
              "  <tbody>\n",
              "    <tr>\n",
              "      <th>0</th>\n",
              "      <td>LA</td>\n",
              "      <td>117</td>\n",
              "      <td>0</td>\n",
              "      <td>0</td>\n",
              "      <td>0</td>\n",
              "      <td>184.5</td>\n",
              "      <td>97</td>\n",
              "      <td>31.37</td>\n",
              "      <td>351.6</td>\n",
              "      <td>80</td>\n",
              "      <td>29.89</td>\n",
              "      <td>215.8</td>\n",
              "      <td>90</td>\n",
              "      <td>9.71</td>\n",
              "      <td>8.7</td>\n",
              "      <td>4</td>\n",
              "      <td>2.35</td>\n",
              "      <td>1</td>\n",
              "      <td>0</td>\n",
              "    </tr>\n",
              "    <tr>\n",
              "      <th>1</th>\n",
              "      <td>IN</td>\n",
              "      <td>65</td>\n",
              "      <td>0</td>\n",
              "      <td>0</td>\n",
              "      <td>0</td>\n",
              "      <td>129.1</td>\n",
              "      <td>137</td>\n",
              "      <td>21.95</td>\n",
              "      <td>228.5</td>\n",
              "      <td>83</td>\n",
              "      <td>19.42</td>\n",
              "      <td>208.8</td>\n",
              "      <td>111</td>\n",
              "      <td>9.40</td>\n",
              "      <td>12.7</td>\n",
              "      <td>6</td>\n",
              "      <td>3.43</td>\n",
              "      <td>4</td>\n",
              "      <td>1</td>\n",
              "    </tr>\n",
              "    <tr>\n",
              "      <th>2</th>\n",
              "      <td>NY</td>\n",
              "      <td>161</td>\n",
              "      <td>0</td>\n",
              "      <td>0</td>\n",
              "      <td>0</td>\n",
              "      <td>332.9</td>\n",
              "      <td>67</td>\n",
              "      <td>56.59</td>\n",
              "      <td>317.8</td>\n",
              "      <td>97</td>\n",
              "      <td>27.01</td>\n",
              "      <td>160.6</td>\n",
              "      <td>128</td>\n",
              "      <td>7.23</td>\n",
              "      <td>5.4</td>\n",
              "      <td>9</td>\n",
              "      <td>1.46</td>\n",
              "      <td>4</td>\n",
              "      <td>1</td>\n",
              "    </tr>\n",
              "    <tr>\n",
              "      <th>3</th>\n",
              "      <td>SC</td>\n",
              "      <td>111</td>\n",
              "      <td>0</td>\n",
              "      <td>0</td>\n",
              "      <td>0</td>\n",
              "      <td>110.4</td>\n",
              "      <td>103</td>\n",
              "      <td>18.77</td>\n",
              "      <td>137.3</td>\n",
              "      <td>102</td>\n",
              "      <td>11.67</td>\n",
              "      <td>189.6</td>\n",
              "      <td>105</td>\n",
              "      <td>8.53</td>\n",
              "      <td>7.7</td>\n",
              "      <td>6</td>\n",
              "      <td>2.08</td>\n",
              "      <td>2</td>\n",
              "      <td>0</td>\n",
              "    </tr>\n",
              "    <tr>\n",
              "      <th>4</th>\n",
              "      <td>HI</td>\n",
              "      <td>49</td>\n",
              "      <td>0</td>\n",
              "      <td>0</td>\n",
              "      <td>0</td>\n",
              "      <td>119.3</td>\n",
              "      <td>117</td>\n",
              "      <td>20.28</td>\n",
              "      <td>215.1</td>\n",
              "      <td>109</td>\n",
              "      <td>18.28</td>\n",
              "      <td>178.7</td>\n",
              "      <td>90</td>\n",
              "      <td>8.04</td>\n",
              "      <td>11.1</td>\n",
              "      <td>1</td>\n",
              "      <td>3.00</td>\n",
              "      <td>1</td>\n",
              "      <td>0</td>\n",
              "    </tr>\n",
              "    <tr>\n",
              "      <th>...</th>\n",
              "      <td>...</td>\n",
              "      <td>...</td>\n",
              "      <td>...</td>\n",
              "      <td>...</td>\n",
              "      <td>...</td>\n",
              "      <td>...</td>\n",
              "      <td>...</td>\n",
              "      <td>...</td>\n",
              "      <td>...</td>\n",
              "      <td>...</td>\n",
              "      <td>...</td>\n",
              "      <td>...</td>\n",
              "      <td>...</td>\n",
              "      <td>...</td>\n",
              "      <td>...</td>\n",
              "      <td>...</td>\n",
              "      <td>...</td>\n",
              "      <td>...</td>\n",
              "      <td>...</td>\n",
              "    </tr>\n",
              "    <tr>\n",
              "      <th>3328</th>\n",
              "      <td>SC</td>\n",
              "      <td>79</td>\n",
              "      <td>0</td>\n",
              "      <td>0</td>\n",
              "      <td>0</td>\n",
              "      <td>134.7</td>\n",
              "      <td>98</td>\n",
              "      <td>22.90</td>\n",
              "      <td>189.7</td>\n",
              "      <td>68</td>\n",
              "      <td>16.12</td>\n",
              "      <td>221.4</td>\n",
              "      <td>128</td>\n",
              "      <td>9.96</td>\n",
              "      <td>11.8</td>\n",
              "      <td>5</td>\n",
              "      <td>3.19</td>\n",
              "      <td>2</td>\n",
              "      <td>0</td>\n",
              "    </tr>\n",
              "    <tr>\n",
              "      <th>3329</th>\n",
              "      <td>AZ</td>\n",
              "      <td>192</td>\n",
              "      <td>0</td>\n",
              "      <td>1</td>\n",
              "      <td>36</td>\n",
              "      <td>156.2</td>\n",
              "      <td>77</td>\n",
              "      <td>26.55</td>\n",
              "      <td>215.5</td>\n",
              "      <td>126</td>\n",
              "      <td>18.32</td>\n",
              "      <td>279.1</td>\n",
              "      <td>83</td>\n",
              "      <td>12.56</td>\n",
              "      <td>9.9</td>\n",
              "      <td>6</td>\n",
              "      <td>2.67</td>\n",
              "      <td>2</td>\n",
              "      <td>0</td>\n",
              "    </tr>\n",
              "    <tr>\n",
              "      <th>3330</th>\n",
              "      <td>WV</td>\n",
              "      <td>68</td>\n",
              "      <td>0</td>\n",
              "      <td>0</td>\n",
              "      <td>0</td>\n",
              "      <td>231.1</td>\n",
              "      <td>57</td>\n",
              "      <td>39.29</td>\n",
              "      <td>153.4</td>\n",
              "      <td>55</td>\n",
              "      <td>13.04</td>\n",
              "      <td>191.3</td>\n",
              "      <td>123</td>\n",
              "      <td>8.61</td>\n",
              "      <td>9.6</td>\n",
              "      <td>4</td>\n",
              "      <td>2.59</td>\n",
              "      <td>3</td>\n",
              "      <td>0</td>\n",
              "    </tr>\n",
              "    <tr>\n",
              "      <th>3331</th>\n",
              "      <td>RI</td>\n",
              "      <td>28</td>\n",
              "      <td>0</td>\n",
              "      <td>0</td>\n",
              "      <td>0</td>\n",
              "      <td>180.8</td>\n",
              "      <td>109</td>\n",
              "      <td>30.74</td>\n",
              "      <td>288.8</td>\n",
              "      <td>58</td>\n",
              "      <td>24.55</td>\n",
              "      <td>191.9</td>\n",
              "      <td>91</td>\n",
              "      <td>8.64</td>\n",
              "      <td>14.1</td>\n",
              "      <td>6</td>\n",
              "      <td>3.81</td>\n",
              "      <td>2</td>\n",
              "      <td>0</td>\n",
              "    </tr>\n",
              "    <tr>\n",
              "      <th>3332</th>\n",
              "      <td>TN</td>\n",
              "      <td>74</td>\n",
              "      <td>0</td>\n",
              "      <td>1</td>\n",
              "      <td>25</td>\n",
              "      <td>234.4</td>\n",
              "      <td>113</td>\n",
              "      <td>39.85</td>\n",
              "      <td>265.9</td>\n",
              "      <td>82</td>\n",
              "      <td>22.60</td>\n",
              "      <td>241.4</td>\n",
              "      <td>77</td>\n",
              "      <td>10.86</td>\n",
              "      <td>13.7</td>\n",
              "      <td>4</td>\n",
              "      <td>3.70</td>\n",
              "      <td>0</td>\n",
              "      <td>0</td>\n",
              "    </tr>\n",
              "  </tbody>\n",
              "</table>\n",
              "<p>3333 rows × 19 columns</p>\n",
              "</div>\n",
              "      <button class=\"colab-df-convert\" onclick=\"convertToInteractive('df-8305a2e6-b011-4456-b5c5-a2d3b7a8d8f8')\"\n",
              "              title=\"Convert this dataframe to an interactive table.\"\n",
              "              style=\"display:none;\">\n",
              "        \n",
              "  <svg xmlns=\"http://www.w3.org/2000/svg\" height=\"24px\"viewBox=\"0 0 24 24\"\n",
              "       width=\"24px\">\n",
              "    <path d=\"M0 0h24v24H0V0z\" fill=\"none\"/>\n",
              "    <path d=\"M18.56 5.44l.94 2.06.94-2.06 2.06-.94-2.06-.94-.94-2.06-.94 2.06-2.06.94zm-11 1L8.5 8.5l.94-2.06 2.06-.94-2.06-.94L8.5 2.5l-.94 2.06-2.06.94zm10 10l.94 2.06.94-2.06 2.06-.94-2.06-.94-.94-2.06-.94 2.06-2.06.94z\"/><path d=\"M17.41 7.96l-1.37-1.37c-.4-.4-.92-.59-1.43-.59-.52 0-1.04.2-1.43.59L10.3 9.45l-7.72 7.72c-.78.78-.78 2.05 0 2.83L4 21.41c.39.39.9.59 1.41.59.51 0 1.02-.2 1.41-.59l7.78-7.78 2.81-2.81c.8-.78.8-2.07 0-2.86zM5.41 20L4 18.59l7.72-7.72 1.47 1.35L5.41 20z\"/>\n",
              "  </svg>\n",
              "      </button>\n",
              "      \n",
              "  <style>\n",
              "    .colab-df-container {\n",
              "      display:flex;\n",
              "      flex-wrap:wrap;\n",
              "      gap: 12px;\n",
              "    }\n",
              "\n",
              "    .colab-df-convert {\n",
              "      background-color: #E8F0FE;\n",
              "      border: none;\n",
              "      border-radius: 50%;\n",
              "      cursor: pointer;\n",
              "      display: none;\n",
              "      fill: #1967D2;\n",
              "      height: 32px;\n",
              "      padding: 0 0 0 0;\n",
              "      width: 32px;\n",
              "    }\n",
              "\n",
              "    .colab-df-convert:hover {\n",
              "      background-color: #E2EBFA;\n",
              "      box-shadow: 0px 1px 2px rgba(60, 64, 67, 0.3), 0px 1px 3px 1px rgba(60, 64, 67, 0.15);\n",
              "      fill: #174EA6;\n",
              "    }\n",
              "\n",
              "    [theme=dark] .colab-df-convert {\n",
              "      background-color: #3B4455;\n",
              "      fill: #D2E3FC;\n",
              "    }\n",
              "\n",
              "    [theme=dark] .colab-df-convert:hover {\n",
              "      background-color: #434B5C;\n",
              "      box-shadow: 0px 1px 3px 1px rgba(0, 0, 0, 0.15);\n",
              "      filter: drop-shadow(0px 1px 2px rgba(0, 0, 0, 0.3));\n",
              "      fill: #FFFFFF;\n",
              "    }\n",
              "  </style>\n",
              "\n",
              "      <script>\n",
              "        const buttonEl =\n",
              "          document.querySelector('#df-8305a2e6-b011-4456-b5c5-a2d3b7a8d8f8 button.colab-df-convert');\n",
              "        buttonEl.style.display =\n",
              "          google.colab.kernel.accessAllowed ? 'block' : 'none';\n",
              "\n",
              "        async function convertToInteractive(key) {\n",
              "          const element = document.querySelector('#df-8305a2e6-b011-4456-b5c5-a2d3b7a8d8f8');\n",
              "          const dataTable =\n",
              "            await google.colab.kernel.invokeFunction('convertToInteractive',\n",
              "                                                     [key], {});\n",
              "          if (!dataTable) return;\n",
              "\n",
              "          const docLinkHtml = 'Like what you see? Visit the ' +\n",
              "            '<a target=\"_blank\" href=https://colab.research.google.com/notebooks/data_table.ipynb>data table notebook</a>'\n",
              "            + ' to learn more about interactive tables.';\n",
              "          element.innerHTML = '';\n",
              "          dataTable['output_type'] = 'display_data';\n",
              "          await google.colab.output.renderOutput(dataTable, element);\n",
              "          const docLink = document.createElement('div');\n",
              "          docLink.innerHTML = docLinkHtml;\n",
              "          element.appendChild(docLink);\n",
              "        }\n",
              "      </script>\n",
              "    </div>\n",
              "  </div>\n",
              "  "
            ]
          },
          "metadata": {},
          "execution_count": 18
        }
      ],
      "source": [
        "df_telco_transformed"
      ]
    },
    {
      "cell_type": "markdown",
      "metadata": {
        "id": "Wh52ZiNBgvMF"
      },
      "source": [
        "**Normalization**"
      ]
    },
    {
      "cell_type": "markdown",
      "metadata": {
        "id": "su94R9EJhIJy"
      },
      "source": [
        "In this project, we will use the min-max method to rescale the numeric columns to a common scale. The min-max approach (often called normalization) rescales the feature to a fixed range of [0,1] by subtracting the minimum value of the feature and then dividing by the range."
      ]
    },
    {
      "cell_type": "code",
      "execution_count": 19,
      "metadata": {
        "id": "1KxjsOoEf8QO"
      },
      "outputs": [],
      "source": [
        "# min-max normalization (numeric variables)\n",
        "min_max_columns = df_telco_transformed.loc[:, ~df_telco_transformed.columns.isin(['State', 'Churn'])]\n",
        "\n",
        "# scale numerical variables using min max scaler\n",
        "for column in min_max_columns:\n",
        "        # minimum value of the column\n",
        "        min_column = df_telco_transformed[column].min()\n",
        "        # maximum value of the column\n",
        "        max_column = df_telco_transformed[column].max()\n",
        "        # min max scaler\n",
        "        df_telco_transformed[column] = (df_telco_transformed[column] - min_column) / (max_column - min_column)   \n"
      ]
    },
    {
      "cell_type": "code",
      "execution_count": 20,
      "metadata": {
        "colab": {
          "base_uri": "https://localhost:8080/",
          "height": 522
        },
        "id": "cFwggIxbm9BU",
        "outputId": "c4919936-584e-4004-9dff-78e6ed2280f4"
      },
      "outputs": [
        {
          "output_type": "execute_result",
          "data": {
            "text/plain": [
              "     State  Account length  International plan  Voice mail plan  \\\n",
              "0       LA        0.479339                 0.0              0.0   \n",
              "1       IN        0.264463                 0.0              0.0   \n",
              "2       NY        0.661157                 0.0              0.0   \n",
              "3       SC        0.454545                 0.0              0.0   \n",
              "4       HI        0.198347                 0.0              0.0   \n",
              "...    ...             ...                 ...              ...   \n",
              "3328    SC        0.322314                 0.0              0.0   \n",
              "3329    AZ        0.789256                 0.0              1.0   \n",
              "3330    WV        0.276860                 0.0              0.0   \n",
              "3331    RI        0.111570                 0.0              0.0   \n",
              "3332    TN        0.301653                 0.0              1.0   \n",
              "\n",
              "      Number vmail messages  Total day minutes  Total day calls  \\\n",
              "0                  0.000000           0.525941         0.587879   \n",
              "1                  0.000000           0.368016         0.830303   \n",
              "2                  0.000000           0.948974         0.406061   \n",
              "3                  0.000000           0.314709         0.624242   \n",
              "4                  0.000000           0.340080         0.709091   \n",
              "...                     ...                ...              ...   \n",
              "3328               0.000000           0.383979         0.593939   \n",
              "3329               0.705882           0.445268         0.466667   \n",
              "3330               0.000000           0.658780         0.345455   \n",
              "3331               0.000000           0.515393         0.660606   \n",
              "3332               0.490196           0.668187         0.684848   \n",
              "\n",
              "      Total day charge  Total eve minutes  Total eve calls  Total eve charge  \\\n",
              "0             0.525989           0.966731         0.470588          0.967001   \n",
              "1             0.368042           0.628265         0.488235          0.628276   \n",
              "2             0.948860           0.873797         0.570588          0.873827   \n",
              "3             0.314722           0.377509         0.600000          0.377548   \n",
              "4             0.340040           0.591422         0.641176          0.591394   \n",
              "...                ...                ...              ...               ...   \n",
              "3328          0.383970           0.521584         0.400000          0.521514   \n",
              "3329          0.445171           0.592521         0.741176          0.592688   \n",
              "3330          0.658786           0.421776         0.323529          0.421870   \n",
              "3331          0.515426           0.794061         0.341176          0.794241   \n",
              "3332          0.668176           0.731097         0.482353          0.731155   \n",
              "\n",
              "      Total night minutes  Total night calls  Total night charge  \\\n",
              "0                0.518020           0.401408            0.518231   \n",
              "1                0.499193           0.549296            0.499701   \n",
              "2                0.369554           0.669014            0.369994   \n",
              "3                0.447552           0.507042            0.447699   \n",
              "4                0.418236           0.401408            0.418410   \n",
              "...                   ...                ...                 ...   \n",
              "3328             0.533082           0.669014            0.533174   \n",
              "3329             0.688273           0.352113            0.688583   \n",
              "3330             0.452125           0.633803            0.452481   \n",
              "3331             0.453739           0.408451            0.454274   \n",
              "3332             0.586875           0.309859            0.586970   \n",
              "\n",
              "      Total intl minutes  Total intl calls  Total intl charge  \\\n",
              "0                  0.435              0.20           0.435185   \n",
              "1                  0.635              0.30           0.635185   \n",
              "2                  0.270              0.45           0.270370   \n",
              "3                  0.385              0.30           0.385185   \n",
              "4                  0.555              0.05           0.555556   \n",
              "...                  ...               ...                ...   \n",
              "3328               0.590              0.25           0.590741   \n",
              "3329               0.495              0.30           0.494444   \n",
              "3330               0.480              0.20           0.479630   \n",
              "3331               0.705              0.30           0.705556   \n",
              "3332               0.685              0.20           0.685185   \n",
              "\n",
              "      Customer service calls  Churn  \n",
              "0                   0.111111      0  \n",
              "1                   0.444444      1  \n",
              "2                   0.444444      1  \n",
              "3                   0.222222      0  \n",
              "4                   0.111111      0  \n",
              "...                      ...    ...  \n",
              "3328                0.222222      0  \n",
              "3329                0.222222      0  \n",
              "3330                0.333333      0  \n",
              "3331                0.222222      0  \n",
              "3332                0.000000      0  \n",
              "\n",
              "[3333 rows x 19 columns]"
            ],
            "text/html": [
              "\n",
              "  <div id=\"df-d73c0f46-666c-407e-a247-e82f41629ef8\">\n",
              "    <div class=\"colab-df-container\">\n",
              "      <div>\n",
              "<style scoped>\n",
              "    .dataframe tbody tr th:only-of-type {\n",
              "        vertical-align: middle;\n",
              "    }\n",
              "\n",
              "    .dataframe tbody tr th {\n",
              "        vertical-align: top;\n",
              "    }\n",
              "\n",
              "    .dataframe thead th {\n",
              "        text-align: right;\n",
              "    }\n",
              "</style>\n",
              "<table border=\"1\" class=\"dataframe\">\n",
              "  <thead>\n",
              "    <tr style=\"text-align: right;\">\n",
              "      <th></th>\n",
              "      <th>State</th>\n",
              "      <th>Account length</th>\n",
              "      <th>International plan</th>\n",
              "      <th>Voice mail plan</th>\n",
              "      <th>Number vmail messages</th>\n",
              "      <th>Total day minutes</th>\n",
              "      <th>Total day calls</th>\n",
              "      <th>Total day charge</th>\n",
              "      <th>Total eve minutes</th>\n",
              "      <th>Total eve calls</th>\n",
              "      <th>Total eve charge</th>\n",
              "      <th>Total night minutes</th>\n",
              "      <th>Total night calls</th>\n",
              "      <th>Total night charge</th>\n",
              "      <th>Total intl minutes</th>\n",
              "      <th>Total intl calls</th>\n",
              "      <th>Total intl charge</th>\n",
              "      <th>Customer service calls</th>\n",
              "      <th>Churn</th>\n",
              "    </tr>\n",
              "  </thead>\n",
              "  <tbody>\n",
              "    <tr>\n",
              "      <th>0</th>\n",
              "      <td>LA</td>\n",
              "      <td>0.479339</td>\n",
              "      <td>0.0</td>\n",
              "      <td>0.0</td>\n",
              "      <td>0.000000</td>\n",
              "      <td>0.525941</td>\n",
              "      <td>0.587879</td>\n",
              "      <td>0.525989</td>\n",
              "      <td>0.966731</td>\n",
              "      <td>0.470588</td>\n",
              "      <td>0.967001</td>\n",
              "      <td>0.518020</td>\n",
              "      <td>0.401408</td>\n",
              "      <td>0.518231</td>\n",
              "      <td>0.435</td>\n",
              "      <td>0.20</td>\n",
              "      <td>0.435185</td>\n",
              "      <td>0.111111</td>\n",
              "      <td>0</td>\n",
              "    </tr>\n",
              "    <tr>\n",
              "      <th>1</th>\n",
              "      <td>IN</td>\n",
              "      <td>0.264463</td>\n",
              "      <td>0.0</td>\n",
              "      <td>0.0</td>\n",
              "      <td>0.000000</td>\n",
              "      <td>0.368016</td>\n",
              "      <td>0.830303</td>\n",
              "      <td>0.368042</td>\n",
              "      <td>0.628265</td>\n",
              "      <td>0.488235</td>\n",
              "      <td>0.628276</td>\n",
              "      <td>0.499193</td>\n",
              "      <td>0.549296</td>\n",
              "      <td>0.499701</td>\n",
              "      <td>0.635</td>\n",
              "      <td>0.30</td>\n",
              "      <td>0.635185</td>\n",
              "      <td>0.444444</td>\n",
              "      <td>1</td>\n",
              "    </tr>\n",
              "    <tr>\n",
              "      <th>2</th>\n",
              "      <td>NY</td>\n",
              "      <td>0.661157</td>\n",
              "      <td>0.0</td>\n",
              "      <td>0.0</td>\n",
              "      <td>0.000000</td>\n",
              "      <td>0.948974</td>\n",
              "      <td>0.406061</td>\n",
              "      <td>0.948860</td>\n",
              "      <td>0.873797</td>\n",
              "      <td>0.570588</td>\n",
              "      <td>0.873827</td>\n",
              "      <td>0.369554</td>\n",
              "      <td>0.669014</td>\n",
              "      <td>0.369994</td>\n",
              "      <td>0.270</td>\n",
              "      <td>0.45</td>\n",
              "      <td>0.270370</td>\n",
              "      <td>0.444444</td>\n",
              "      <td>1</td>\n",
              "    </tr>\n",
              "    <tr>\n",
              "      <th>3</th>\n",
              "      <td>SC</td>\n",
              "      <td>0.454545</td>\n",
              "      <td>0.0</td>\n",
              "      <td>0.0</td>\n",
              "      <td>0.000000</td>\n",
              "      <td>0.314709</td>\n",
              "      <td>0.624242</td>\n",
              "      <td>0.314722</td>\n",
              "      <td>0.377509</td>\n",
              "      <td>0.600000</td>\n",
              "      <td>0.377548</td>\n",
              "      <td>0.447552</td>\n",
              "      <td>0.507042</td>\n",
              "      <td>0.447699</td>\n",
              "      <td>0.385</td>\n",
              "      <td>0.30</td>\n",
              "      <td>0.385185</td>\n",
              "      <td>0.222222</td>\n",
              "      <td>0</td>\n",
              "    </tr>\n",
              "    <tr>\n",
              "      <th>4</th>\n",
              "      <td>HI</td>\n",
              "      <td>0.198347</td>\n",
              "      <td>0.0</td>\n",
              "      <td>0.0</td>\n",
              "      <td>0.000000</td>\n",
              "      <td>0.340080</td>\n",
              "      <td>0.709091</td>\n",
              "      <td>0.340040</td>\n",
              "      <td>0.591422</td>\n",
              "      <td>0.641176</td>\n",
              "      <td>0.591394</td>\n",
              "      <td>0.418236</td>\n",
              "      <td>0.401408</td>\n",
              "      <td>0.418410</td>\n",
              "      <td>0.555</td>\n",
              "      <td>0.05</td>\n",
              "      <td>0.555556</td>\n",
              "      <td>0.111111</td>\n",
              "      <td>0</td>\n",
              "    </tr>\n",
              "    <tr>\n",
              "      <th>...</th>\n",
              "      <td>...</td>\n",
              "      <td>...</td>\n",
              "      <td>...</td>\n",
              "      <td>...</td>\n",
              "      <td>...</td>\n",
              "      <td>...</td>\n",
              "      <td>...</td>\n",
              "      <td>...</td>\n",
              "      <td>...</td>\n",
              "      <td>...</td>\n",
              "      <td>...</td>\n",
              "      <td>...</td>\n",
              "      <td>...</td>\n",
              "      <td>...</td>\n",
              "      <td>...</td>\n",
              "      <td>...</td>\n",
              "      <td>...</td>\n",
              "      <td>...</td>\n",
              "      <td>...</td>\n",
              "    </tr>\n",
              "    <tr>\n",
              "      <th>3328</th>\n",
              "      <td>SC</td>\n",
              "      <td>0.322314</td>\n",
              "      <td>0.0</td>\n",
              "      <td>0.0</td>\n",
              "      <td>0.000000</td>\n",
              "      <td>0.383979</td>\n",
              "      <td>0.593939</td>\n",
              "      <td>0.383970</td>\n",
              "      <td>0.521584</td>\n",
              "      <td>0.400000</td>\n",
              "      <td>0.521514</td>\n",
              "      <td>0.533082</td>\n",
              "      <td>0.669014</td>\n",
              "      <td>0.533174</td>\n",
              "      <td>0.590</td>\n",
              "      <td>0.25</td>\n",
              "      <td>0.590741</td>\n",
              "      <td>0.222222</td>\n",
              "      <td>0</td>\n",
              "    </tr>\n",
              "    <tr>\n",
              "      <th>3329</th>\n",
              "      <td>AZ</td>\n",
              "      <td>0.789256</td>\n",
              "      <td>0.0</td>\n",
              "      <td>1.0</td>\n",
              "      <td>0.705882</td>\n",
              "      <td>0.445268</td>\n",
              "      <td>0.466667</td>\n",
              "      <td>0.445171</td>\n",
              "      <td>0.592521</td>\n",
              "      <td>0.741176</td>\n",
              "      <td>0.592688</td>\n",
              "      <td>0.688273</td>\n",
              "      <td>0.352113</td>\n",
              "      <td>0.688583</td>\n",
              "      <td>0.495</td>\n",
              "      <td>0.30</td>\n",
              "      <td>0.494444</td>\n",
              "      <td>0.222222</td>\n",
              "      <td>0</td>\n",
              "    </tr>\n",
              "    <tr>\n",
              "      <th>3330</th>\n",
              "      <td>WV</td>\n",
              "      <td>0.276860</td>\n",
              "      <td>0.0</td>\n",
              "      <td>0.0</td>\n",
              "      <td>0.000000</td>\n",
              "      <td>0.658780</td>\n",
              "      <td>0.345455</td>\n",
              "      <td>0.658786</td>\n",
              "      <td>0.421776</td>\n",
              "      <td>0.323529</td>\n",
              "      <td>0.421870</td>\n",
              "      <td>0.452125</td>\n",
              "      <td>0.633803</td>\n",
              "      <td>0.452481</td>\n",
              "      <td>0.480</td>\n",
              "      <td>0.20</td>\n",
              "      <td>0.479630</td>\n",
              "      <td>0.333333</td>\n",
              "      <td>0</td>\n",
              "    </tr>\n",
              "    <tr>\n",
              "      <th>3331</th>\n",
              "      <td>RI</td>\n",
              "      <td>0.111570</td>\n",
              "      <td>0.0</td>\n",
              "      <td>0.0</td>\n",
              "      <td>0.000000</td>\n",
              "      <td>0.515393</td>\n",
              "      <td>0.660606</td>\n",
              "      <td>0.515426</td>\n",
              "      <td>0.794061</td>\n",
              "      <td>0.341176</td>\n",
              "      <td>0.794241</td>\n",
              "      <td>0.453739</td>\n",
              "      <td>0.408451</td>\n",
              "      <td>0.454274</td>\n",
              "      <td>0.705</td>\n",
              "      <td>0.30</td>\n",
              "      <td>0.705556</td>\n",
              "      <td>0.222222</td>\n",
              "      <td>0</td>\n",
              "    </tr>\n",
              "    <tr>\n",
              "      <th>3332</th>\n",
              "      <td>TN</td>\n",
              "      <td>0.301653</td>\n",
              "      <td>0.0</td>\n",
              "      <td>1.0</td>\n",
              "      <td>0.490196</td>\n",
              "      <td>0.668187</td>\n",
              "      <td>0.684848</td>\n",
              "      <td>0.668176</td>\n",
              "      <td>0.731097</td>\n",
              "      <td>0.482353</td>\n",
              "      <td>0.731155</td>\n",
              "      <td>0.586875</td>\n",
              "      <td>0.309859</td>\n",
              "      <td>0.586970</td>\n",
              "      <td>0.685</td>\n",
              "      <td>0.20</td>\n",
              "      <td>0.685185</td>\n",
              "      <td>0.000000</td>\n",
              "      <td>0</td>\n",
              "    </tr>\n",
              "  </tbody>\n",
              "</table>\n",
              "<p>3333 rows × 19 columns</p>\n",
              "</div>\n",
              "      <button class=\"colab-df-convert\" onclick=\"convertToInteractive('df-d73c0f46-666c-407e-a247-e82f41629ef8')\"\n",
              "              title=\"Convert this dataframe to an interactive table.\"\n",
              "              style=\"display:none;\">\n",
              "        \n",
              "  <svg xmlns=\"http://www.w3.org/2000/svg\" height=\"24px\"viewBox=\"0 0 24 24\"\n",
              "       width=\"24px\">\n",
              "    <path d=\"M0 0h24v24H0V0z\" fill=\"none\"/>\n",
              "    <path d=\"M18.56 5.44l.94 2.06.94-2.06 2.06-.94-2.06-.94-.94-2.06-.94 2.06-2.06.94zm-11 1L8.5 8.5l.94-2.06 2.06-.94-2.06-.94L8.5 2.5l-.94 2.06-2.06.94zm10 10l.94 2.06.94-2.06 2.06-.94-2.06-.94-.94-2.06-.94 2.06-2.06.94z\"/><path d=\"M17.41 7.96l-1.37-1.37c-.4-.4-.92-.59-1.43-.59-.52 0-1.04.2-1.43.59L10.3 9.45l-7.72 7.72c-.78.78-.78 2.05 0 2.83L4 21.41c.39.39.9.59 1.41.59.51 0 1.02-.2 1.41-.59l7.78-7.78 2.81-2.81c.8-.78.8-2.07 0-2.86zM5.41 20L4 18.59l7.72-7.72 1.47 1.35L5.41 20z\"/>\n",
              "  </svg>\n",
              "      </button>\n",
              "      \n",
              "  <style>\n",
              "    .colab-df-container {\n",
              "      display:flex;\n",
              "      flex-wrap:wrap;\n",
              "      gap: 12px;\n",
              "    }\n",
              "\n",
              "    .colab-df-convert {\n",
              "      background-color: #E8F0FE;\n",
              "      border: none;\n",
              "      border-radius: 50%;\n",
              "      cursor: pointer;\n",
              "      display: none;\n",
              "      fill: #1967D2;\n",
              "      height: 32px;\n",
              "      padding: 0 0 0 0;\n",
              "      width: 32px;\n",
              "    }\n",
              "\n",
              "    .colab-df-convert:hover {\n",
              "      background-color: #E2EBFA;\n",
              "      box-shadow: 0px 1px 2px rgba(60, 64, 67, 0.3), 0px 1px 3px 1px rgba(60, 64, 67, 0.15);\n",
              "      fill: #174EA6;\n",
              "    }\n",
              "\n",
              "    [theme=dark] .colab-df-convert {\n",
              "      background-color: #3B4455;\n",
              "      fill: #D2E3FC;\n",
              "    }\n",
              "\n",
              "    [theme=dark] .colab-df-convert:hover {\n",
              "      background-color: #434B5C;\n",
              "      box-shadow: 0px 1px 3px 1px rgba(0, 0, 0, 0.15);\n",
              "      filter: drop-shadow(0px 1px 2px rgba(0, 0, 0, 0.3));\n",
              "      fill: #FFFFFF;\n",
              "    }\n",
              "  </style>\n",
              "\n",
              "      <script>\n",
              "        const buttonEl =\n",
              "          document.querySelector('#df-d73c0f46-666c-407e-a247-e82f41629ef8 button.colab-df-convert');\n",
              "        buttonEl.style.display =\n",
              "          google.colab.kernel.accessAllowed ? 'block' : 'none';\n",
              "\n",
              "        async function convertToInteractive(key) {\n",
              "          const element = document.querySelector('#df-d73c0f46-666c-407e-a247-e82f41629ef8');\n",
              "          const dataTable =\n",
              "            await google.colab.kernel.invokeFunction('convertToInteractive',\n",
              "                                                     [key], {});\n",
              "          if (!dataTable) return;\n",
              "\n",
              "          const docLinkHtml = 'Like what you see? Visit the ' +\n",
              "            '<a target=\"_blank\" href=https://colab.research.google.com/notebooks/data_table.ipynb>data table notebook</a>'\n",
              "            + ' to learn more about interactive tables.';\n",
              "          element.innerHTML = '';\n",
              "          dataTable['output_type'] = 'display_data';\n",
              "          await google.colab.output.renderOutput(dataTable, element);\n",
              "          const docLink = document.createElement('div');\n",
              "          docLink.innerHTML = docLinkHtml;\n",
              "          element.appendChild(docLink);\n",
              "        }\n",
              "      </script>\n",
              "    </div>\n",
              "  </div>\n",
              "  "
            ]
          },
          "metadata": {},
          "execution_count": 20
        }
      ],
      "source": [
        "df_telco_transformed"
      ]
    },
    {
      "cell_type": "markdown",
      "metadata": {
        "id": "2D5zIptXogOg"
      },
      "source": [
        "# Setting a baseline"
      ]
    },
    {
      "cell_type": "markdown",
      "metadata": {
        "id": "P3_VgU_-osu_"
      },
      "source": [
        "In machine learning, we often use a simple classifier called baseline to evaluate the performance of a model. Here, the rate of customers that did not churn (most frequent class) can be used as a baseline to evaluate the quality of the models generated. These models should outperform the baseline capabilities to be considered for future predictions."
      ]
    },
    {
      "cell_type": "markdown",
      "metadata": {
        "id": "BAAl8uOjuZSg"
      },
      "source": [
        "# Splitting the data in training and testing sets"
      ]
    },
    {
      "cell_type": "markdown",
      "metadata": {
        "id": "k1deljiJui-w"
      },
      "source": [
        "The first step when building a model is to split the data into two groups, which are typically referred to as training and testing sets. The training set is used by the machine learning algorithm to build the model. The test set contains samples that are not part of the learning process and is used to evaluate the model’s performance. It is important to assess the quality of the model using unseen data to guarantee an objective evaluation."
      ]
    },
    {
      "cell_type": "markdown",
      "metadata": {
        "id": "x1yVnefvuqYq"
      },
      "source": [
        "First, we create a variable X to store the independent attributes of the dataset. Additionally, we create a variable y to store only the target variable (Churn)."
      ]
    },
    {
      "cell_type": "code",
      "execution_count": 21,
      "metadata": {
        "colab": {
          "base_uri": "https://localhost:8080/"
        },
        "id": "1Y2Z1wuHurBo",
        "outputId": "a797da2a-4c84-498a-9f7e-f769f357ed9c"
      },
      "outputs": [
        {
          "output_type": "stream",
          "name": "stdout",
          "text": [
            "Index(['Account length', 'International plan', 'Voice mail plan',\n",
            "       'Number vmail messages', 'Total day minutes', 'Total day calls',\n",
            "       'Total day charge', 'Total eve minutes', 'Total eve calls',\n",
            "       'Total eve charge', 'Total night minutes', 'Total night calls',\n",
            "       'Total night charge', 'Total intl minutes', 'Total intl calls',\n",
            "       'Total intl charge', 'Customer service calls'],\n",
            "      dtype='object')\n",
            "Churn\n"
          ]
        }
      ],
      "source": [
        "# select independent variables\n",
        "X = df_telco_transformed.drop(columns=['Churn','State'])\n",
        "\n",
        "# select dependent variables\n",
        "y = df_telco_transformed.loc[:, 'Churn']\n",
        "\n",
        "# prove that the variables were selected correctly\n",
        "print(X.columns)\n",
        "\n",
        "# prove that the variables were selected correctly\n",
        "print(y.name)"
      ]
    },
    {
      "cell_type": "markdown",
      "metadata": {
        "id": "lbMlsTGIvTTr"
      },
      "source": [
        "Then, we can use the train_test_split function from the sklearn.model_selection package to create both the training and testing sets."
      ]
    },
    {
      "cell_type": "code",
      "execution_count": 22,
      "metadata": {
        "id": "TGM60WNquvo-"
      },
      "outputs": [],
      "source": [
        "from sklearn.model_selection import train_test_split\n",
        "\n",
        "\n",
        "# split the data in training and testing sets\n",
        "X_train, X_test, y_train, y_test = train_test_split(X, y, test_size=0.25,\n",
        "                                                    random_state=40, shuffle=True)"
      ]
    },
    {
      "cell_type": "markdown",
      "metadata": {
        "id": "m21JJHxaxdAk"
      },
      "source": [
        "# Assessing multiple algorithms"
      ]
    },
    {
      "cell_type": "markdown",
      "metadata": {
        "id": "Pw6bUXQ0yqKJ"
      },
      "source": [
        "Algorithm selection is a key challenge in any machine learning project since there is not an algorithm that is the best across all projects. Generally, we need to evaluate a set of potential candidates and select for further evaluation those that provide better performance.\n",
        "\n",
        "In this project, we compare 7 different algorithms, all of them already implemented in Scikit-Learn.\n",
        "\n",
        "\n",
        "\n",
        "*   Logistic Regression\n",
        "*   Support Vector Machines\n",
        "*   Decision Tree\n",
        "*   Random Forest\n",
        "*   K Nearest Neighbours\n",
        "*   Dummy Classifier\n",
        "*   Gradient Boosting\n",
        "\n",
        "\n",
        "\n",
        "\n",
        "\n",
        "\n",
        "\n"
      ]
    },
    {
      "cell_type": "markdown",
      "metadata": {
        "id": "NyoAlxG7xwsu"
      },
      "source": [
        " **Logistic Regression**"
      ]
    },
    {
      "cell_type": "code",
      "execution_count": 23,
      "metadata": {
        "id": "7CnC0D41xrrF"
      },
      "outputs": [],
      "source": [
        "from sklearn.preprocessing import StandardScaler\n",
        "from sklearn.metrics import accuracy_score\n",
        "from sklearn.linear_model import LogisticRegression"
      ]
    },
    {
      "cell_type": "code",
      "execution_count": 24,
      "metadata": {
        "id": "HfZTIFVqyBMR"
      },
      "outputs": [],
      "source": [
        "# Feature Scaling\n",
        "sc = StandardScaler()              # feature scaling function\n",
        "X_train = sc.fit_transform(X_train)\n",
        "X_test = sc.transform(X_test)"
      ]
    },
    {
      "cell_type": "code",
      "execution_count": 25,
      "metadata": {
        "colab": {
          "base_uri": "https://localhost:8080/"
        },
        "id": "SnVQrYVhyHtI",
        "outputId": "12bffb7d-8030-47b1-e140-52b9f8112f4c"
      },
      "outputs": [
        {
          "output_type": "execute_result",
          "data": {
            "text/plain": [
              "LogisticRegression(random_state=0)"
            ]
          },
          "metadata": {},
          "execution_count": 25
        }
      ],
      "source": [
        "# Fitting logistic regression to the training set\n",
        "Classifier = LogisticRegression(random_state=0)      # We are creating logistic regression object\n",
        "Classifier.fit(X_train, y_train)"
      ]
    },
    {
      "cell_type": "code",
      "execution_count": 26,
      "metadata": {
        "colab": {
          "base_uri": "https://localhost:8080/"
        },
        "id": "u5Ck44k1yajP",
        "outputId": "ddd37c3e-9a27-4076-bb0a-efec266e7359"
      },
      "outputs": [
        {
          "output_type": "stream",
          "name": "stdout",
          "text": [
            "Accuracy score of Logistic Regression:  0.8525179856115108\n"
          ]
        }
      ],
      "source": [
        "# Predicting the test results\n",
        "y_pred = Classifier.predict(X_test)\n",
        "print(\"Accuracy score of Logistic Regression: \", accuracy_score(y_test, y_pred))"
      ]
    },
    {
      "cell_type": "markdown",
      "metadata": {
        "id": "TBaCUxJ4ymFd"
      },
      "source": [
        "**Support Vector Machines**"
      ]
    },
    {
      "cell_type": "code",
      "execution_count": 27,
      "metadata": {
        "id": "Cb-IZ3iayd1M"
      },
      "outputs": [],
      "source": [
        "from sklearn import svm\n",
        "\n",
        "# Create a svm Classifier\n",
        "clf = svm.SVC(kernel='linear')     # Linear Kernel\n",
        "\n",
        "#Train the model using the training sets\n",
        "clf.fit(X_train, y_train)\n",
        "\n",
        "#Predict the response for the test dataset\n",
        "y_pred = clf.predict(X_test)"
      ]
    },
    {
      "cell_type": "code",
      "execution_count": 28,
      "metadata": {
        "colab": {
          "base_uri": "https://localhost:8080/"
        },
        "id": "AVun_Fg1zMa0",
        "outputId": "91d329bb-8f52-42ff-83f8-5c4ba4d4d029"
      },
      "outputs": [
        {
          "output_type": "stream",
          "name": "stdout",
          "text": [
            "Accuracy score of SVM :  0.8537170263788969\n"
          ]
        }
      ],
      "source": [
        "from sklearn import metrics\n",
        "\n",
        "print(\"Accuracy score of SVM : \", metrics.accuracy_score(y_test, y_pred))"
      ]
    },
    {
      "cell_type": "markdown",
      "metadata": {
        "id": "F7ZoQLOb0Vad"
      },
      "source": [
        "**Decision Tree**"
      ]
    },
    {
      "cell_type": "code",
      "execution_count": 29,
      "metadata": {
        "colab": {
          "base_uri": "https://localhost:8080/"
        },
        "id": "CV6MMszdzV_j",
        "outputId": "559ae297-9e0a-4497-c42b-c9f7c4d7685e"
      },
      "outputs": [
        {
          "output_type": "stream",
          "name": "stdout",
          "text": [
            "Accuracy of Decision Tree = 0.934052757793765 \n"
          ]
        }
      ],
      "source": [
        "from sklearn.tree import DecisionTreeClassifier\n",
        "tree = DecisionTreeClassifier()\n",
        "tree.fit(X_train, y_train)\n",
        "y_predict = tree.predict(X_test)\n",
        "tree_accuracy = metrics.accuracy_score(y_test, y_predict)\n",
        "print('Accuracy of Decision Tree = {} '.format(tree_accuracy))"
      ]
    },
    {
      "cell_type": "markdown",
      "metadata": {
        "id": "D0728szZBYr-"
      },
      "source": [
        "**Random Forest**"
      ]
    },
    {
      "cell_type": "code",
      "execution_count": 30,
      "metadata": {
        "id": "2rK6huAzBXDE"
      },
      "outputs": [],
      "source": [
        "from sklearn.ensemble import RandomForestClassifier"
      ]
    },
    {
      "cell_type": "code",
      "execution_count": 31,
      "metadata": {
        "colab": {
          "base_uri": "https://localhost:8080/"
        },
        "id": "TVttqUVZBmFU",
        "outputId": "f72437e3-113f-40d2-ac84-d2b42620e7ca"
      },
      "outputs": [
        {
          "output_type": "execute_result",
          "data": {
            "text/plain": [
              "RandomForestClassifier(max_depth=3, min_samples_leaf=4, n_jobs=-1,\n",
              "                       random_state=0)"
            ]
          },
          "metadata": {},
          "execution_count": 31
        }
      ],
      "source": [
        "rf = RandomForestClassifier(n_estimators=100,\n",
        "                            max_depth=3,\n",
        "                            max_features='auto',\n",
        "                            min_samples_leaf=4,\n",
        "                            bootstrap=True,\n",
        "                            n_jobs=-1,\n",
        "                            random_state=0)\n",
        "\n",
        "rf.fit(X_train, y_train )"
      ]
    },
    {
      "cell_type": "code",
      "execution_count": 32,
      "metadata": {
        "id": "8wSH137pBsLT"
      },
      "outputs": [],
      "source": [
        "y_pred=rf.predict(X_test)"
      ]
    },
    {
      "cell_type": "code",
      "execution_count": 33,
      "metadata": {
        "colab": {
          "base_uri": "https://localhost:8080/"
        },
        "id": "wgnsSbc5B4Xg",
        "outputId": "d59b51bc-80d6-4f7d-82ce-c10c92199acd"
      },
      "outputs": [
        {
          "output_type": "stream",
          "name": "stdout",
          "text": [
            "Accuracy score of Random Forest:  0.8788968824940048\n"
          ]
        }
      ],
      "source": [
        "print(\"Accuracy score of Random Forest: \", accuracy_score(y_test, y_pred))"
      ]
    },
    {
      "cell_type": "markdown",
      "metadata": {
        "id": "e75reYhvCggb"
      },
      "source": [
        "**K Nearest Neighbours**"
      ]
    },
    {
      "cell_type": "code",
      "execution_count": 34,
      "metadata": {
        "colab": {
          "base_uri": "https://localhost:8080/"
        },
        "id": "FH9O_-4uB800",
        "outputId": "3fbb8a4b-cfa1-4b17-f1d3-1a8785dd4e34"
      },
      "outputs": [
        {
          "output_type": "stream",
          "name": "stdout",
          "text": [
            "Accuracy of KNN = 0.9004796163069544 \n"
          ]
        }
      ],
      "source": [
        "from sklearn.neighbors import KNeighborsClassifier\n",
        "knn = KNeighborsClassifier(n_neighbors=5)\n",
        "knn.fit(X_train, y_train)\n",
        "y_predict = knn.predict(X_test)\n",
        "knn_accuracy = metrics.accuracy_score(y_test, y_predict)\n",
        "print('Accuracy of KNN = {} '.format(knn_accuracy))"
      ]
    },
    {
      "cell_type": "markdown",
      "metadata": {
        "id": "4ZTR4DGdEA58"
      },
      "source": [
        "**Dummy Classifier**"
      ]
    },
    {
      "cell_type": "code",
      "execution_count": 35,
      "metadata": {
        "colab": {
          "base_uri": "https://localhost:8080/"
        },
        "id": "Iw5Y01r0Crl5",
        "outputId": "d38f2a0e-4365-45ad-fe28-738a5150011e"
      },
      "outputs": [
        {
          "output_type": "stream",
          "name": "stdout",
          "text": [
            "Accuracy of dummy = 0.8537170263788969 \n"
          ]
        }
      ],
      "source": [
        "from sklearn.dummy import DummyClassifier\n",
        "dummy = DummyClassifier()\n",
        "dummy.fit(X_train, y_train)\n",
        "y_predict = dummy.predict(X_test)\n",
        "dummy_accuracy = metrics.accuracy_score(y_test, y_predict)\n",
        "print('Accuracy of dummy = {} '.format(dummy_accuracy))"
      ]
    },
    {
      "cell_type": "markdown",
      "metadata": {
        "id": "uRppTNpjEP6b"
      },
      "source": [
        "**Gradient Boosting**"
      ]
    },
    {
      "cell_type": "code",
      "execution_count": 36,
      "metadata": {
        "id": "9Y5fiRnVD8ff"
      },
      "outputs": [],
      "source": [
        "from sklearn.metrics import classification_report\n",
        "from sklearn.ensemble import GradientBoostingClassifier"
      ]
    },
    {
      "cell_type": "code",
      "execution_count": 37,
      "metadata": {
        "colab": {
          "base_uri": "https://localhost:8080/"
        },
        "id": "kLWtGRLCxdc-",
        "outputId": "b3d3d406-aac0-42f4-fdd9-3ebaded4660b"
      },
      "outputs": [
        {
          "output_type": "stream",
          "name": "stdout",
          "text": [
            "Accuracy of gradient boosting = 0.9568345323741008 \n"
          ]
        }
      ],
      "source": [
        "gradient_booster = GradientBoostingClassifier(learning_rate=0.1)\n",
        "gradient_booster.fit(X_train,y_train)\n",
        "y_predict = gradient_booster.predict(X_test)\n",
        "gradientbooster_accuracy = metrics.accuracy_score(y_test, y_predict)\n",
        "print('Accuracy of gradient boosting = {} '.format(gradientbooster_accuracy))"
      ]
    },
    {
      "cell_type": "code",
      "source": [
        "gba = gradientbooster_accuracy\n",
        "gba"
      ],
      "metadata": {
        "colab": {
          "base_uri": "https://localhost:8080/"
        },
        "id": "Y85RdxcG3atZ",
        "outputId": "fdf486b8-291b-4cab-9e0e-66bec30a11c3"
      },
      "execution_count": 46,
      "outputs": [
        {
          "output_type": "execute_result",
          "data": {
            "text/plain": [
              "0.9568345323741008"
            ]
          },
          "metadata": {},
          "execution_count": 46
        }
      ]
    },
    {
      "cell_type": "markdown",
      "metadata": {
        "id": "wIt1a-Ooyf1F"
      },
      "source": [
        "# Conclusion"
      ]
    },
    {
      "cell_type": "markdown",
      "metadata": {
        "id": "rwGvSc3-0byB"
      },
      "source": [
        "The **Gradient Boosting model** shows the **highest accuracy** of nearly 96% (10% higher than the baseline).\n"
      ]
    },
    {
      "cell_type": "markdown",
      "metadata": {
        "id": "893KA9m_2vcH"
      },
      "source": [
        "# Hyperparameter tuning"
      ]
    },
    {
      "cell_type": "markdown",
      "metadata": {
        "id": "mAC3JCzb5cjJ"
      },
      "source": [
        "There are multiple techniques to find the best hyperparameters for a model. The most popular methods are (1) grid search, (2) random search, and (3) bayesian optimization. Grid search test all combinations of hyperparameters and select the best performing one. It is a really time-consuming method, particularly when the number of hyperparameters and values to try are really high.\n",
        "\n",
        "In random search, you specify a grid of hyperparameters, and random combinations are selected where each combination of hyperparameters has an equal chance of being sampled. We do not analyze all combinations of hyperparameters, but only random samples of those combinations. This approach is much more computationally efficient than trying all combinations"
      ]
    },
    {
      "cell_type": "markdown",
      "metadata": {
        "id": "B9lZgQ5M54r5"
      },
      "source": [
        "**Hyperparameter Tuning using Random Search**"
      ]
    },
    {
      "cell_type": "markdown",
      "metadata": {
        "id": "SdOkwRdg5w-m"
      },
      "source": [
        "We specify the grid of hyperparameter values using a dictionary (grid_parameters) where the keys represent the hyperparameters and the values are the set of options we want to evaluate. Then, we define the RandomizedSearchCV object for trying different random combinations from this grid. The number of hyperparameter combinations that are sampled is defined in the n_iter parameter."
      ]
    },
    {
      "cell_type": "code",
      "execution_count": 38,
      "metadata": {
        "id": "un7ClFnD6wZz"
      },
      "outputs": [],
      "source": [
        "from sklearn.model_selection import RandomizedSearchCV"
      ]
    },
    {
      "cell_type": "code",
      "execution_count": 39,
      "metadata": {
        "colab": {
          "base_uri": "https://localhost:8080/"
        },
        "id": "dWNtm-ibyWMT",
        "outputId": "9823f93e-a3f3-4596-cf9e-093c9c2b051d"
      },
      "outputs": [
        {
          "output_type": "stream",
          "name": "stdout",
          "text": [
            "{'n_estimators': 115, 'min_samples_split': 3, 'max_features': 'log2', 'max_depth': 6}\n"
          ]
        }
      ],
      "source": [
        "# define the parameter grid\n",
        "grid_parameters = {'n_estimators': [80, 90, 100, 110, 115, 120],\n",
        "                   'max_depth': [3, 4, 5, 6],\n",
        "                   'max_features': [None, 'auto', 'sqrt', 'log2'], \n",
        "                   'min_samples_split': [2, 3, 4, 5]}\n",
        "\n",
        "\n",
        "\n",
        "# define the RandomizedSearchCV class for trying different parameter combinations\n",
        "random_search = RandomizedSearchCV(estimator=GradientBoostingClassifier(),\n",
        "                                   param_distributions=grid_parameters,\n",
        "                                   cv=5,\n",
        "                                   n_iter=150,\n",
        "                                   n_jobs=-1)\n",
        "\n",
        "# fitting the model for random search \n",
        "random_search.fit(X_train, y_train)\n",
        "\n",
        "# print best parameter after tuning\n",
        "print(random_search.best_params_)"
      ]
    },
    {
      "cell_type": "markdown",
      "metadata": {
        "id": "rMGOUBC58ytb"
      },
      "source": [
        "After fitting the grid object, we can obtain the best hyperparameters using best_params_attribute. As you can above, the **best hyperparameters** are: **{‘n_estimators’: 120, ‘min_samples_split’: 3, ‘max_features’: ‘log2’, ‘max_depth’: 5}.**\n"
      ]
    },
    {
      "cell_type": "markdown",
      "metadata": {
        "id": "UVTi35Pg99gi"
      },
      "source": [
        "# Performace of the model"
      ]
    },
    {
      "cell_type": "markdown",
      "metadata": {
        "id": "IcdWdzMR-FJr"
      },
      "source": [
        "The last step of the machine learning process is to check the performance of the model (best hyperparameters ) by using the confusion matrix and some evaluation metrics."
      ]
    },
    {
      "cell_type": "markdown",
      "metadata": {
        "id": "mo829qMg-L37"
      },
      "source": [
        "**Confusion matrix**\n"
      ]
    },
    {
      "cell_type": "markdown",
      "metadata": {
        "id": "FVidZntH-hDU"
      },
      "source": [
        "Now that the model is trained, it is time to evaluate its performance using the testing set. First, we use the previous model (gradient boosting classifier with best hyperparameters) to predict the class labels of the testing data (with the predict method). Then, we construct the confusion matrix."
      ]
    },
    {
      "cell_type": "code",
      "execution_count": 40,
      "metadata": {
        "id": "--9MqUxt-0kz"
      },
      "outputs": [],
      "source": [
        "from sklearn.metrics import classification_report, confusion_matrix"
      ]
    },
    {
      "cell_type": "code",
      "execution_count": 41,
      "metadata": {
        "colab": {
          "base_uri": "https://localhost:8080/"
        },
        "id": "DKHSGAPk-jMJ",
        "outputId": "b474029a-d0bc-4368-c42f-6c8b74069ec0"
      },
      "outputs": [
        {
          "output_type": "execute_result",
          "data": {
            "text/plain": [
              "array([[707,   5],\n",
              "       [ 33,  89]])"
            ]
          },
          "metadata": {},
          "execution_count": 41
        }
      ],
      "source": [
        "# make the predictions\n",
        "random_search_predictions = random_search.predict(X_test)\n",
        "\n",
        "# construct the confusion matrix\n",
        "confusion_matrix = confusion_matrix(y_test, random_search_predictions)\n",
        "\n",
        "# visualize the confusion matrix\n",
        "confusion_matrix"
      ]
    },
    {
      "cell_type": "markdown",
      "metadata": {
        "id": "-hCIA7X5-3Rf"
      },
      "source": [
        "As shown above, 794 observations of the testing data were correctly classified by the model (706 true negatives and 88 true positives). On the contrary, we can observe 40 misclassifications (6 false positives and 34 false negatives)."
      ]
    },
    {
      "cell_type": "markdown",
      "metadata": {
        "id": "Rh1NvJJF_Y_9"
      },
      "source": [
        "**Evaluation metrics**"
      ]
    },
    {
      "cell_type": "markdown",
      "metadata": {
        "id": "H6nC6pi5_jlQ"
      },
      "source": [
        "Evaluating the quality of the model is a fundamental part of the machine learning process."
      ]
    },
    {
      "cell_type": "code",
      "execution_count": 42,
      "metadata": {
        "colab": {
          "base_uri": "https://localhost:8080/"
        },
        "id": "XB5eqX2E-2D_",
        "outputId": "ae8b8961-5fa2-4323-c160-6d24356052f1"
      },
      "outputs": [
        {
          "output_type": "stream",
          "name": "stdout",
          "text": [
            "              precision    recall  f1-score   support\n",
            "\n",
            "           0       0.96      0.99      0.97       712\n",
            "           1       0.95      0.73      0.82       122\n",
            "\n",
            "    accuracy                           0.95       834\n",
            "   macro avg       0.95      0.86      0.90       834\n",
            "weighted avg       0.95      0.95      0.95       834\n",
            "\n"
          ]
        }
      ],
      "source": [
        "# print classification report \n",
        "print(classification_report(y_test, random_search_predictions))"
      ]
    },
    {
      "cell_type": "markdown",
      "metadata": {
        "id": "YdyxLNnt_yoU"
      },
      "source": [
        "The classification report contains the precision, sensitivity, f1-score, and support (number of samples) achieved for each class.\n",
        "\n",
        "As shown above, we obtain a sensitivity of 0.72 and a specificity of 0.99. The model obtained predicts more accurately customers that do not churn. "
      ]
    },
    {
      "cell_type": "code",
      "execution_count": 43,
      "metadata": {
        "colab": {
          "base_uri": "https://localhost:8080/"
        },
        "id": "wEOEX5Tk_tT_",
        "outputId": "0559d982-1582-48de-ef5d-02b8d9bd6885"
      },
      "outputs": [
        {
          "output_type": "execute_result",
          "data": {
            "text/plain": [
              "0.9544364508393285"
            ]
          },
          "metadata": {},
          "execution_count": 43
        }
      ],
      "source": [
        "# print the accuracy of the model\n",
        "hyp_accu = accuracy_score(y_test, random_search_predictions)\n",
        "hyp_accu"
      ]
    },
    {
      "cell_type": "code",
      "source": [
        "diff = (gba) - (hyp_accu)\n",
        "print(diff)"
      ],
      "metadata": {
        "colab": {
          "base_uri": "https://localhost:8080/"
        },
        "id": "YNRtJlClvqsS",
        "outputId": "32f5454a-e330-4dfe-9b01-fcd025e535eb"
      },
      "execution_count": 47,
      "outputs": [
        {
          "output_type": "stream",
          "name": "stdout",
          "text": [
            "0.0023980815347722784\n"
          ]
        }
      ]
    },
    {
      "cell_type": "markdown",
      "metadata": {
        "id": "B3l2JiLjBRol"
      },
      "source": [
        "Conclusion : Hyperparameter tuning has barely decreased the accuracy of the model."
      ]
    }
  ],
  "metadata": {
    "colab": {
      "provenance": []
    },
    "kernelspec": {
      "display_name": "Python 3",
      "name": "python3"
    },
    "language_info": {
      "name": "python"
    }
  },
  "nbformat": 4,
  "nbformat_minor": 0
}